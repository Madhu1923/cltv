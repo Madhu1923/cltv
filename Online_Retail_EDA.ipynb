{
  "nbformat": 4,
  "nbformat_minor": 0,
  "metadata": {
    "kernelspec": {
      "display_name": "Python 3",
      "language": "python",
      "name": "python3"
    },
    "language_info": {
      "codemirror_mode": {
        "name": "ipython",
        "version": 3
      },
      "file_extension": ".py",
      "mimetype": "text/x-python",
      "name": "python",
      "nbconvert_exporter": "python",
      "pygments_lexer": "ipython3",
      "version": "3.6.3"
    },
    "colab": {
      "name": "Online Retail_ EDA.ipynb",
      "provenance": [],
      "collapsed_sections": []
    },
    "accelerator": "GPU"
  },
  "cells": [
    {
      "cell_type": "markdown",
      "metadata": {
        "id": "hsDOyUExQYhI"
      },
      "source": [
        "# Online_Retail_EDA\r\n",
        "## About the Dataset"
      ]
    },
    {
      "cell_type": "markdown",
      "metadata": {
        "id": "WqNfJ6RsQYhK"
      },
      "source": [
        "- This is a transactional data set which contains all the transactions occured between 01/12/2010 and 09/12/2011 for a UK-based and registered non-store online retail.\r\n",
        "- .The company mainly sells unique all-occasion gifts. Many customers of the company are wholesalers.\r\n",
        "\r\n",
        "- The dataset is taken from the UCI repository [online retail dataset](https://archive.ics.uci.edu/ml/datasets/Online+Retail)."
      ]
    },
    {
      "cell_type": "markdown",
      "metadata": {
        "id": "huam1TnINymg"
      },
      "source": [
        "## Attribute Information \r\n",
        "\r\n",
        "This dataframe contains 8 variables that correspond to:\r\n",
        "\r\n",
        "**InvoiceNo**: Invoice number. ***Nominal***, a 6-digit integral number uniquely assigned to each transaction. **If this code starts with letter 'c', it indicates a cancellation.** <br>\r\n",
        "**StockCode**: Product (item) code. ***Nominal***, a 5-digit integral number uniquely assigned to each distinct product. <br>\r\n",
        "**Description**: Product (item) name. ***Nominal***. <br>\r\n",
        "**Quantity**: The quantities of each product (item) per transaction. ***Numeric***.<br> \r\n",
        "**InvoiceDate**: Invoice Date and time. ***Numeric***, the day and time when each transaction was generated. <br>\r\n",
        "**UnitPrice**: Unit price. ***Numeric***, Product price per unit in sterling. <br>\r\n",
        "**CustomerID**: Customer number. ***Nominal***, a 5-digit integral number uniquely assigned to each customer. <br>\r\n",
        "**Country**: Country name. ***Nominal***, the name of the country where each customer resides.<br>"
      ]
    },
    {
      "cell_type": "code",
      "metadata": {
        "id": "GlGrRuHoQYhL"
      },
      "source": [
        "import numpy as np\n",
        "import pandas as pd\n",
        "import matplotlib.pyplot as plt\n",
        "import seaborn as sns\n",
        "sns.set_style('darkgrid')"
      ],
      "execution_count": 1,
      "outputs": []
    },
    {
      "cell_type": "markdown",
      "metadata": {
        "id": "shiVSk8IQYhQ"
      },
      "source": [
        "# **Exploratory Data Analysis**"
      ]
    },
    {
      "cell_type": "code",
      "metadata": {
        "colab": {
          "base_uri": "https://localhost:8080/"
        },
        "id": "c9o3g8qMFIpC",
        "outputId": "64311f52-49cd-4b35-cfd2-f5fc6e548036"
      },
      "source": [
        "from google.colab import drive\n",
        "drive.mount('/content/drive')"
      ],
      "execution_count": 2,
      "outputs": [
        {
          "output_type": "stream",
          "text": [
            "Drive already mounted at /content/drive; to attempt to forcibly remount, call drive.mount(\"/content/drive\", force_remount=True).\n"
          ],
          "name": "stdout"
        }
      ]
    },
    {
      "cell_type": "code",
      "metadata": {
        "id": "1Tbi0y6FQYhS"
      },
      "source": [
        "#load the dataset\n",
        "df = pd.read_excel(\"/content/drive/MyDrive/Online Retail.xlsx\")"
      ],
      "execution_count": 3,
      "outputs": []
    },
    {
      "cell_type": "code",
      "metadata": {
        "id": "6YXJw-Y7QYhW",
        "colab": {
          "base_uri": "https://localhost:8080/"
        },
        "outputId": "e3e6eb60-e0a9-4983-f348-c4df24cb16e8"
      },
      "source": [
        "#shape of the dataset\n",
        "print(\"The shape of the dataset is: \", df.shape)"
      ],
      "execution_count": 4,
      "outputs": [
        {
          "output_type": "stream",
          "text": [
            "The shape of the dataset is:  (541909, 8)\n"
          ],
          "name": "stdout"
        }
      ]
    },
    {
      "cell_type": "code",
      "metadata": {
        "id": "QaIwGg5IQYhZ",
        "colab": {
          "base_uri": "https://localhost:8080/",
          "height": 204
        },
        "outputId": "6bccc9fd-7a51-4b30-d8da-583e8b6a08d0"
      },
      "source": [
        "df.head()"
      ],
      "execution_count": 5,
      "outputs": [
        {
          "output_type": "execute_result",
          "data": {
            "text/html": [
              "<div>\n",
              "<style scoped>\n",
              "    .dataframe tbody tr th:only-of-type {\n",
              "        vertical-align: middle;\n",
              "    }\n",
              "\n",
              "    .dataframe tbody tr th {\n",
              "        vertical-align: top;\n",
              "    }\n",
              "\n",
              "    .dataframe thead th {\n",
              "        text-align: right;\n",
              "    }\n",
              "</style>\n",
              "<table border=\"1\" class=\"dataframe\">\n",
              "  <thead>\n",
              "    <tr style=\"text-align: right;\">\n",
              "      <th></th>\n",
              "      <th>InvoiceNo</th>\n",
              "      <th>StockCode</th>\n",
              "      <th>Description</th>\n",
              "      <th>Quantity</th>\n",
              "      <th>InvoiceDate</th>\n",
              "      <th>UnitPrice</th>\n",
              "      <th>CustomerID</th>\n",
              "      <th>Country</th>\n",
              "    </tr>\n",
              "  </thead>\n",
              "  <tbody>\n",
              "    <tr>\n",
              "      <th>0</th>\n",
              "      <td>536365</td>\n",
              "      <td>85123A</td>\n",
              "      <td>WHITE HANGING HEART T-LIGHT HOLDER</td>\n",
              "      <td>6</td>\n",
              "      <td>2010-12-01 08:26:00</td>\n",
              "      <td>2.55</td>\n",
              "      <td>17850.0</td>\n",
              "      <td>United Kingdom</td>\n",
              "    </tr>\n",
              "    <tr>\n",
              "      <th>1</th>\n",
              "      <td>536365</td>\n",
              "      <td>71053</td>\n",
              "      <td>WHITE METAL LANTERN</td>\n",
              "      <td>6</td>\n",
              "      <td>2010-12-01 08:26:00</td>\n",
              "      <td>3.39</td>\n",
              "      <td>17850.0</td>\n",
              "      <td>United Kingdom</td>\n",
              "    </tr>\n",
              "    <tr>\n",
              "      <th>2</th>\n",
              "      <td>536365</td>\n",
              "      <td>84406B</td>\n",
              "      <td>CREAM CUPID HEARTS COAT HANGER</td>\n",
              "      <td>8</td>\n",
              "      <td>2010-12-01 08:26:00</td>\n",
              "      <td>2.75</td>\n",
              "      <td>17850.0</td>\n",
              "      <td>United Kingdom</td>\n",
              "    </tr>\n",
              "    <tr>\n",
              "      <th>3</th>\n",
              "      <td>536365</td>\n",
              "      <td>84029G</td>\n",
              "      <td>KNITTED UNION FLAG HOT WATER BOTTLE</td>\n",
              "      <td>6</td>\n",
              "      <td>2010-12-01 08:26:00</td>\n",
              "      <td>3.39</td>\n",
              "      <td>17850.0</td>\n",
              "      <td>United Kingdom</td>\n",
              "    </tr>\n",
              "    <tr>\n",
              "      <th>4</th>\n",
              "      <td>536365</td>\n",
              "      <td>84029E</td>\n",
              "      <td>RED WOOLLY HOTTIE WHITE HEART.</td>\n",
              "      <td>6</td>\n",
              "      <td>2010-12-01 08:26:00</td>\n",
              "      <td>3.39</td>\n",
              "      <td>17850.0</td>\n",
              "      <td>United Kingdom</td>\n",
              "    </tr>\n",
              "  </tbody>\n",
              "</table>\n",
              "</div>"
            ],
            "text/plain": [
              "  InvoiceNo StockCode  ... CustomerID         Country\n",
              "0    536365    85123A  ...    17850.0  United Kingdom\n",
              "1    536365     71053  ...    17850.0  United Kingdom\n",
              "2    536365    84406B  ...    17850.0  United Kingdom\n",
              "3    536365    84029G  ...    17850.0  United Kingdom\n",
              "4    536365    84029E  ...    17850.0  United Kingdom\n",
              "\n",
              "[5 rows x 8 columns]"
            ]
          },
          "metadata": {
            "tags": []
          },
          "execution_count": 5
        }
      ]
    },
    {
      "cell_type": "code",
      "metadata": {
        "id": "Yv60zBwtQYhd",
        "colab": {
          "base_uri": "https://localhost:8080/",
          "height": 204
        },
        "outputId": "2d26e48d-8120-445d-f5a6-b28cdf391bf9"
      },
      "source": [
        "df.tail()"
      ],
      "execution_count": 6,
      "outputs": [
        {
          "output_type": "execute_result",
          "data": {
            "text/html": [
              "<div>\n",
              "<style scoped>\n",
              "    .dataframe tbody tr th:only-of-type {\n",
              "        vertical-align: middle;\n",
              "    }\n",
              "\n",
              "    .dataframe tbody tr th {\n",
              "        vertical-align: top;\n",
              "    }\n",
              "\n",
              "    .dataframe thead th {\n",
              "        text-align: right;\n",
              "    }\n",
              "</style>\n",
              "<table border=\"1\" class=\"dataframe\">\n",
              "  <thead>\n",
              "    <tr style=\"text-align: right;\">\n",
              "      <th></th>\n",
              "      <th>InvoiceNo</th>\n",
              "      <th>StockCode</th>\n",
              "      <th>Description</th>\n",
              "      <th>Quantity</th>\n",
              "      <th>InvoiceDate</th>\n",
              "      <th>UnitPrice</th>\n",
              "      <th>CustomerID</th>\n",
              "      <th>Country</th>\n",
              "    </tr>\n",
              "  </thead>\n",
              "  <tbody>\n",
              "    <tr>\n",
              "      <th>541904</th>\n",
              "      <td>581587</td>\n",
              "      <td>22613</td>\n",
              "      <td>PACK OF 20 SPACEBOY NAPKINS</td>\n",
              "      <td>12</td>\n",
              "      <td>2011-12-09 12:50:00</td>\n",
              "      <td>0.85</td>\n",
              "      <td>12680.0</td>\n",
              "      <td>France</td>\n",
              "    </tr>\n",
              "    <tr>\n",
              "      <th>541905</th>\n",
              "      <td>581587</td>\n",
              "      <td>22899</td>\n",
              "      <td>CHILDREN'S APRON DOLLY GIRL</td>\n",
              "      <td>6</td>\n",
              "      <td>2011-12-09 12:50:00</td>\n",
              "      <td>2.10</td>\n",
              "      <td>12680.0</td>\n",
              "      <td>France</td>\n",
              "    </tr>\n",
              "    <tr>\n",
              "      <th>541906</th>\n",
              "      <td>581587</td>\n",
              "      <td>23254</td>\n",
              "      <td>CHILDRENS CUTLERY DOLLY GIRL</td>\n",
              "      <td>4</td>\n",
              "      <td>2011-12-09 12:50:00</td>\n",
              "      <td>4.15</td>\n",
              "      <td>12680.0</td>\n",
              "      <td>France</td>\n",
              "    </tr>\n",
              "    <tr>\n",
              "      <th>541907</th>\n",
              "      <td>581587</td>\n",
              "      <td>23255</td>\n",
              "      <td>CHILDRENS CUTLERY CIRCUS PARADE</td>\n",
              "      <td>4</td>\n",
              "      <td>2011-12-09 12:50:00</td>\n",
              "      <td>4.15</td>\n",
              "      <td>12680.0</td>\n",
              "      <td>France</td>\n",
              "    </tr>\n",
              "    <tr>\n",
              "      <th>541908</th>\n",
              "      <td>581587</td>\n",
              "      <td>22138</td>\n",
              "      <td>BAKING SET 9 PIECE RETROSPOT</td>\n",
              "      <td>3</td>\n",
              "      <td>2011-12-09 12:50:00</td>\n",
              "      <td>4.95</td>\n",
              "      <td>12680.0</td>\n",
              "      <td>France</td>\n",
              "    </tr>\n",
              "  </tbody>\n",
              "</table>\n",
              "</div>"
            ],
            "text/plain": [
              "       InvoiceNo StockCode  ... CustomerID  Country\n",
              "541904    581587     22613  ...    12680.0   France\n",
              "541905    581587     22899  ...    12680.0   France\n",
              "541906    581587     23254  ...    12680.0   France\n",
              "541907    581587     23255  ...    12680.0   France\n",
              "541908    581587     22138  ...    12680.0   France\n",
              "\n",
              "[5 rows x 8 columns]"
            ]
          },
          "metadata": {
            "tags": []
          },
          "execution_count": 6
        }
      ]
    },
    {
      "cell_type": "markdown",
      "metadata": {
        "id": "wFYLIAsYQYhg"
      },
      "source": [
        "### Summary of the dataset"
      ]
    },
    {
      "cell_type": "code",
      "metadata": {
        "id": "q1T0qO5sQYhh",
        "colab": {
          "base_uri": "https://localhost:8080/"
        },
        "outputId": "4a1b977b-f49c-474a-eb29-6e40f14e4754"
      },
      "source": [
        "df.info()"
      ],
      "execution_count": 7,
      "outputs": [
        {
          "output_type": "stream",
          "text": [
            "<class 'pandas.core.frame.DataFrame'>\n",
            "RangeIndex: 541909 entries, 0 to 541908\n",
            "Data columns (total 8 columns):\n",
            " #   Column       Non-Null Count   Dtype         \n",
            "---  ------       --------------   -----         \n",
            " 0   InvoiceNo    541909 non-null  object        \n",
            " 1   StockCode    541909 non-null  object        \n",
            " 2   Description  540455 non-null  object        \n",
            " 3   Quantity     541909 non-null  int64         \n",
            " 4   InvoiceDate  541909 non-null  datetime64[ns]\n",
            " 5   UnitPrice    541909 non-null  float64       \n",
            " 6   CustomerID   406829 non-null  float64       \n",
            " 7   Country      541909 non-null  object        \n",
            "dtypes: datetime64[ns](1), float64(2), int64(1), object(4)\n",
            "memory usage: 33.1+ MB\n"
          ],
          "name": "stdout"
        }
      ]
    },
    {
      "cell_type": "markdown",
      "metadata": {
        "id": "mm67CMyHQYhl"
      },
      "source": [
        "#### **Observations**\r\n",
        "* The dataset is has **541909** rows and **8** columns. \r\n",
        "* There are null values for the features **CustomerID** and **Description**. This has to be treated during the datacleaning step.\r\n",
        "* This Dataset has four object type columns, three numerical type columns and one datetime feature. \r\n"
      ]
    },
    {
      "cell_type": "code",
      "metadata": {
        "colab": {
          "base_uri": "https://localhost:8080/",
          "height": 208
        },
        "id": "E1O6LoHVOw3o",
        "outputId": "ef84a1ef-7b59-4de1-a14c-6640877f7874"
      },
      "source": [
        "Features = df.columns\r\n",
        "\r\n",
        "# Creating a DataFrame with useful information about dataset\r\n",
        "data_info = pd.DataFrame()\r\n",
        "data_info['Features'] = Features\r\n",
        "data_info['unique_values'] = [df[col].nunique() for col in Features]\r\n",
        "data_info['total_null'] = [df[col].isnull().sum() for col in Features]\r\n",
        "data_info['null_percent'] = [df[col].isnull().sum() * 100 / len(df) for col in Features]\r\n",
        "\r\n",
        "data_info.style.background_gradient()"
      ],
      "execution_count": 8,
      "outputs": [
        {
          "output_type": "execute_result",
          "data": {
            "text/html": [
              "<style  type=\"text/css\" >\n",
              "#T_4e54a606_8101_11eb_aa10_0242ac1c0002row0_col1,#T_4e54a606_8101_11eb_aa10_0242ac1c0002row6_col2,#T_4e54a606_8101_11eb_aa10_0242ac1c0002row6_col3{\n",
              "            background-color:  #023858;\n",
              "            color:  #f1f1f1;\n",
              "        }#T_4e54a606_8101_11eb_aa10_0242ac1c0002row0_col2,#T_4e54a606_8101_11eb_aa10_0242ac1c0002row0_col3,#T_4e54a606_8101_11eb_aa10_0242ac1c0002row1_col2,#T_4e54a606_8101_11eb_aa10_0242ac1c0002row1_col3,#T_4e54a606_8101_11eb_aa10_0242ac1c0002row3_col2,#T_4e54a606_8101_11eb_aa10_0242ac1c0002row3_col3,#T_4e54a606_8101_11eb_aa10_0242ac1c0002row4_col2,#T_4e54a606_8101_11eb_aa10_0242ac1c0002row4_col3,#T_4e54a606_8101_11eb_aa10_0242ac1c0002row5_col2,#T_4e54a606_8101_11eb_aa10_0242ac1c0002row5_col3,#T_4e54a606_8101_11eb_aa10_0242ac1c0002row7_col1,#T_4e54a606_8101_11eb_aa10_0242ac1c0002row7_col2,#T_4e54a606_8101_11eb_aa10_0242ac1c0002row7_col3{\n",
              "            background-color:  #fff7fb;\n",
              "            color:  #000000;\n",
              "        }#T_4e54a606_8101_11eb_aa10_0242ac1c0002row1_col1{\n",
              "            background-color:  #e6e2ef;\n",
              "            color:  #000000;\n",
              "        }#T_4e54a606_8101_11eb_aa10_0242ac1c0002row2_col1{\n",
              "            background-color:  #e4e1ef;\n",
              "            color:  #000000;\n",
              "        }#T_4e54a606_8101_11eb_aa10_0242ac1c0002row2_col2,#T_4e54a606_8101_11eb_aa10_0242ac1c0002row2_col3{\n",
              "            background-color:  #fef6fa;\n",
              "            color:  #000000;\n",
              "        }#T_4e54a606_8101_11eb_aa10_0242ac1c0002row3_col1{\n",
              "            background-color:  #fbf4f9;\n",
              "            color:  #000000;\n",
              "        }#T_4e54a606_8101_11eb_aa10_0242ac1c0002row4_col1{\n",
              "            background-color:  #045483;\n",
              "            color:  #f1f1f1;\n",
              "        }#T_4e54a606_8101_11eb_aa10_0242ac1c0002row5_col1{\n",
              "            background-color:  #f6eff7;\n",
              "            color:  #000000;\n",
              "        }#T_4e54a606_8101_11eb_aa10_0242ac1c0002row6_col1{\n",
              "            background-color:  #e3e0ee;\n",
              "            color:  #000000;\n",
              "        }</style><table id=\"T_4e54a606_8101_11eb_aa10_0242ac1c0002\" ><thead>    <tr>        <th class=\"blank level0\" ></th>        <th class=\"col_heading level0 col0\" >Features</th>        <th class=\"col_heading level0 col1\" >unique_values</th>        <th class=\"col_heading level0 col2\" >total_null</th>        <th class=\"col_heading level0 col3\" >null_percent</th>    </tr></thead><tbody>\n",
              "                <tr>\n",
              "                        <th id=\"T_4e54a606_8101_11eb_aa10_0242ac1c0002level0_row0\" class=\"row_heading level0 row0\" >0</th>\n",
              "                        <td id=\"T_4e54a606_8101_11eb_aa10_0242ac1c0002row0_col0\" class=\"data row0 col0\" >InvoiceNo</td>\n",
              "                        <td id=\"T_4e54a606_8101_11eb_aa10_0242ac1c0002row0_col1\" class=\"data row0 col1\" >25900</td>\n",
              "                        <td id=\"T_4e54a606_8101_11eb_aa10_0242ac1c0002row0_col2\" class=\"data row0 col2\" >0</td>\n",
              "                        <td id=\"T_4e54a606_8101_11eb_aa10_0242ac1c0002row0_col3\" class=\"data row0 col3\" >0.000000</td>\n",
              "            </tr>\n",
              "            <tr>\n",
              "                        <th id=\"T_4e54a606_8101_11eb_aa10_0242ac1c0002level0_row1\" class=\"row_heading level0 row1\" >1</th>\n",
              "                        <td id=\"T_4e54a606_8101_11eb_aa10_0242ac1c0002row1_col0\" class=\"data row1 col0\" >StockCode</td>\n",
              "                        <td id=\"T_4e54a606_8101_11eb_aa10_0242ac1c0002row1_col1\" class=\"data row1 col1\" >4070</td>\n",
              "                        <td id=\"T_4e54a606_8101_11eb_aa10_0242ac1c0002row1_col2\" class=\"data row1 col2\" >0</td>\n",
              "                        <td id=\"T_4e54a606_8101_11eb_aa10_0242ac1c0002row1_col3\" class=\"data row1 col3\" >0.000000</td>\n",
              "            </tr>\n",
              "            <tr>\n",
              "                        <th id=\"T_4e54a606_8101_11eb_aa10_0242ac1c0002level0_row2\" class=\"row_heading level0 row2\" >2</th>\n",
              "                        <td id=\"T_4e54a606_8101_11eb_aa10_0242ac1c0002row2_col0\" class=\"data row2 col0\" >Description</td>\n",
              "                        <td id=\"T_4e54a606_8101_11eb_aa10_0242ac1c0002row2_col1\" class=\"data row2 col1\" >4223</td>\n",
              "                        <td id=\"T_4e54a606_8101_11eb_aa10_0242ac1c0002row2_col2\" class=\"data row2 col2\" >1454</td>\n",
              "                        <td id=\"T_4e54a606_8101_11eb_aa10_0242ac1c0002row2_col3\" class=\"data row2 col3\" >0.268311</td>\n",
              "            </tr>\n",
              "            <tr>\n",
              "                        <th id=\"T_4e54a606_8101_11eb_aa10_0242ac1c0002level0_row3\" class=\"row_heading level0 row3\" >3</th>\n",
              "                        <td id=\"T_4e54a606_8101_11eb_aa10_0242ac1c0002row3_col0\" class=\"data row3 col0\" >Quantity</td>\n",
              "                        <td id=\"T_4e54a606_8101_11eb_aa10_0242ac1c0002row3_col1\" class=\"data row3 col1\" >722</td>\n",
              "                        <td id=\"T_4e54a606_8101_11eb_aa10_0242ac1c0002row3_col2\" class=\"data row3 col2\" >0</td>\n",
              "                        <td id=\"T_4e54a606_8101_11eb_aa10_0242ac1c0002row3_col3\" class=\"data row3 col3\" >0.000000</td>\n",
              "            </tr>\n",
              "            <tr>\n",
              "                        <th id=\"T_4e54a606_8101_11eb_aa10_0242ac1c0002level0_row4\" class=\"row_heading level0 row4\" >4</th>\n",
              "                        <td id=\"T_4e54a606_8101_11eb_aa10_0242ac1c0002row4_col0\" class=\"data row4 col0\" >InvoiceDate</td>\n",
              "                        <td id=\"T_4e54a606_8101_11eb_aa10_0242ac1c0002row4_col1\" class=\"data row4 col1\" >23260</td>\n",
              "                        <td id=\"T_4e54a606_8101_11eb_aa10_0242ac1c0002row4_col2\" class=\"data row4 col2\" >0</td>\n",
              "                        <td id=\"T_4e54a606_8101_11eb_aa10_0242ac1c0002row4_col3\" class=\"data row4 col3\" >0.000000</td>\n",
              "            </tr>\n",
              "            <tr>\n",
              "                        <th id=\"T_4e54a606_8101_11eb_aa10_0242ac1c0002level0_row5\" class=\"row_heading level0 row5\" >5</th>\n",
              "                        <td id=\"T_4e54a606_8101_11eb_aa10_0242ac1c0002row5_col0\" class=\"data row5 col0\" >UnitPrice</td>\n",
              "                        <td id=\"T_4e54a606_8101_11eb_aa10_0242ac1c0002row5_col1\" class=\"data row5 col1\" >1630</td>\n",
              "                        <td id=\"T_4e54a606_8101_11eb_aa10_0242ac1c0002row5_col2\" class=\"data row5 col2\" >0</td>\n",
              "                        <td id=\"T_4e54a606_8101_11eb_aa10_0242ac1c0002row5_col3\" class=\"data row5 col3\" >0.000000</td>\n",
              "            </tr>\n",
              "            <tr>\n",
              "                        <th id=\"T_4e54a606_8101_11eb_aa10_0242ac1c0002level0_row6\" class=\"row_heading level0 row6\" >6</th>\n",
              "                        <td id=\"T_4e54a606_8101_11eb_aa10_0242ac1c0002row6_col0\" class=\"data row6 col0\" >CustomerID</td>\n",
              "                        <td id=\"T_4e54a606_8101_11eb_aa10_0242ac1c0002row6_col1\" class=\"data row6 col1\" >4372</td>\n",
              "                        <td id=\"T_4e54a606_8101_11eb_aa10_0242ac1c0002row6_col2\" class=\"data row6 col2\" >135080</td>\n",
              "                        <td id=\"T_4e54a606_8101_11eb_aa10_0242ac1c0002row6_col3\" class=\"data row6 col3\" >24.926694</td>\n",
              "            </tr>\n",
              "            <tr>\n",
              "                        <th id=\"T_4e54a606_8101_11eb_aa10_0242ac1c0002level0_row7\" class=\"row_heading level0 row7\" >7</th>\n",
              "                        <td id=\"T_4e54a606_8101_11eb_aa10_0242ac1c0002row7_col0\" class=\"data row7 col0\" >Country</td>\n",
              "                        <td id=\"T_4e54a606_8101_11eb_aa10_0242ac1c0002row7_col1\" class=\"data row7 col1\" >38</td>\n",
              "                        <td id=\"T_4e54a606_8101_11eb_aa10_0242ac1c0002row7_col2\" class=\"data row7 col2\" >0</td>\n",
              "                        <td id=\"T_4e54a606_8101_11eb_aa10_0242ac1c0002row7_col3\" class=\"data row7 col3\" >0.000000</td>\n",
              "            </tr>\n",
              "    </tbody></table>"
            ],
            "text/plain": [
              "<pandas.io.formats.style.Styler at 0x7fc0e0e3c790>"
            ]
          },
          "metadata": {
            "tags": []
          },
          "execution_count": 8
        }
      ]
    },
    {
      "cell_type": "markdown",
      "metadata": {
        "id": "LIuSs9BQQYhq"
      },
      "source": [
        "#### **Observations**\r\n",
        "- The number of null values in **customerid** is quite large and that would impact the results.\r\n",
        "- Number of unique values for **description** and **stock code** varies."
      ]
    },
    {
      "cell_type": "markdown",
      "metadata": {
        "id": "dwqi5gUZgU1l"
      },
      "source": [
        "### **Numerical data analysis**"
      ]
    },
    {
      "cell_type": "code",
      "metadata": {
        "colab": {
          "base_uri": "https://localhost:8080/",
          "height": 297
        },
        "id": "-5DMKaVQgaO3",
        "outputId": "d23a967a-ffe6-4c86-aaae-f8830d571dad"
      },
      "source": [
        "df.describe()"
      ],
      "execution_count": 9,
      "outputs": [
        {
          "output_type": "execute_result",
          "data": {
            "text/html": [
              "<div>\n",
              "<style scoped>\n",
              "    .dataframe tbody tr th:only-of-type {\n",
              "        vertical-align: middle;\n",
              "    }\n",
              "\n",
              "    .dataframe tbody tr th {\n",
              "        vertical-align: top;\n",
              "    }\n",
              "\n",
              "    .dataframe thead th {\n",
              "        text-align: right;\n",
              "    }\n",
              "</style>\n",
              "<table border=\"1\" class=\"dataframe\">\n",
              "  <thead>\n",
              "    <tr style=\"text-align: right;\">\n",
              "      <th></th>\n",
              "      <th>Quantity</th>\n",
              "      <th>UnitPrice</th>\n",
              "      <th>CustomerID</th>\n",
              "    </tr>\n",
              "  </thead>\n",
              "  <tbody>\n",
              "    <tr>\n",
              "      <th>count</th>\n",
              "      <td>541909.000000</td>\n",
              "      <td>541909.000000</td>\n",
              "      <td>406829.000000</td>\n",
              "    </tr>\n",
              "    <tr>\n",
              "      <th>mean</th>\n",
              "      <td>9.552250</td>\n",
              "      <td>4.611114</td>\n",
              "      <td>15287.690570</td>\n",
              "    </tr>\n",
              "    <tr>\n",
              "      <th>std</th>\n",
              "      <td>218.081158</td>\n",
              "      <td>96.759853</td>\n",
              "      <td>1713.600303</td>\n",
              "    </tr>\n",
              "    <tr>\n",
              "      <th>min</th>\n",
              "      <td>-80995.000000</td>\n",
              "      <td>-11062.060000</td>\n",
              "      <td>12346.000000</td>\n",
              "    </tr>\n",
              "    <tr>\n",
              "      <th>25%</th>\n",
              "      <td>1.000000</td>\n",
              "      <td>1.250000</td>\n",
              "      <td>13953.000000</td>\n",
              "    </tr>\n",
              "    <tr>\n",
              "      <th>50%</th>\n",
              "      <td>3.000000</td>\n",
              "      <td>2.080000</td>\n",
              "      <td>15152.000000</td>\n",
              "    </tr>\n",
              "    <tr>\n",
              "      <th>75%</th>\n",
              "      <td>10.000000</td>\n",
              "      <td>4.130000</td>\n",
              "      <td>16791.000000</td>\n",
              "    </tr>\n",
              "    <tr>\n",
              "      <th>max</th>\n",
              "      <td>80995.000000</td>\n",
              "      <td>38970.000000</td>\n",
              "      <td>18287.000000</td>\n",
              "    </tr>\n",
              "  </tbody>\n",
              "</table>\n",
              "</div>"
            ],
            "text/plain": [
              "            Quantity      UnitPrice     CustomerID\n",
              "count  541909.000000  541909.000000  406829.000000\n",
              "mean        9.552250       4.611114   15287.690570\n",
              "std       218.081158      96.759853    1713.600303\n",
              "min    -80995.000000  -11062.060000   12346.000000\n",
              "25%         1.000000       1.250000   13953.000000\n",
              "50%         3.000000       2.080000   15152.000000\n",
              "75%        10.000000       4.130000   16791.000000\n",
              "max     80995.000000   38970.000000   18287.000000"
            ]
          },
          "metadata": {
            "tags": []
          },
          "execution_count": 9
        }
      ]
    },
    {
      "cell_type": "code",
      "metadata": {
        "colab": {
          "base_uri": "https://localhost:8080/",
          "height": 404
        },
        "id": "NVIvYc8kg_Kc",
        "outputId": "9a07b3f4-8385-4493-f926-a4083d95c49d"
      },
      "source": [
        "# Boxplot on numerical features\r\n",
        "fig, (ax1,ax2) = plt.subplots(nrows=1,ncols=2, figsize=(15,6))\r\n",
        "sns.boxplot(x = df['Quantity'],ax=ax1)\r\n",
        "ax1.title.set_text('Quantity')\r\n",
        "sns.boxplot(x = df['UnitPrice'],ax=ax2)\r\n",
        "ax2.title.set_text('UnitPrice')\r\n",
        "plt.show()"
      ],
      "execution_count": 10,
      "outputs": [
        {
          "output_type": "display_data",
          "data": {
            "image/png": "[encoded data removed]",
            "text/plain": [
              "<Figure size 1080x432 with 2 Axes>"
            ]
          },
          "metadata": {
            "tags": [],
            "needs_background": "light"
          }
        }
      ]
    },
    {
      "cell_type": "markdown",
      "metadata": {
        "id": "JooknzCwQYhw"
      },
      "source": [
        "#### **Observations**\r\n",
        "- There are **negative values** for both **Quantity** and **Price**. This may be the values for the products which was returned or cancelled. \r\n",
        "- The data is positively skewed as mean > median."
      ]
    },
    {
      "cell_type": "markdown",
      "metadata": {
        "id": "0EKJohCY6QT8"
      },
      "source": [
        "## **Analysis on Cancelled Order**\r\n",
        "- Order whose Invoice starts with **'C'** is identified as Cancelled orders"
      ]
    },
    {
      "cell_type": "code",
      "metadata": {
        "colab": {
          "base_uri": "https://localhost:8080/",
          "height": 204
        },
        "id": "n98Yv0UO6ZoJ",
        "outputId": "69d24035-fdd9-4d76-f87e-d25f9a52debe"
      },
      "source": [
        "#get canceled transactions\r\n",
        "cancelled_orders = df[df['InvoiceNo'].astype(str).str.contains('C')]\r\n",
        "cancelled_orders.head()"
      ],
      "execution_count": 11,
      "outputs": [
        {
          "output_type": "execute_result",
          "data": {
            "text/html": [
              "<div>\n",
              "<style scoped>\n",
              "    .dataframe tbody tr th:only-of-type {\n",
              "        vertical-align: middle;\n",
              "    }\n",
              "\n",
              "    .dataframe tbody tr th {\n",
              "        vertical-align: top;\n",
              "    }\n",
              "\n",
              "    .dataframe thead th {\n",
              "        text-align: right;\n",
              "    }\n",
              "</style>\n",
              "<table border=\"1\" class=\"dataframe\">\n",
              "  <thead>\n",
              "    <tr style=\"text-align: right;\">\n",
              "      <th></th>\n",
              "      <th>InvoiceNo</th>\n",
              "      <th>StockCode</th>\n",
              "      <th>Description</th>\n",
              "      <th>Quantity</th>\n",
              "      <th>InvoiceDate</th>\n",
              "      <th>UnitPrice</th>\n",
              "      <th>CustomerID</th>\n",
              "      <th>Country</th>\n",
              "    </tr>\n",
              "  </thead>\n",
              "  <tbody>\n",
              "    <tr>\n",
              "      <th>141</th>\n",
              "      <td>C536379</td>\n",
              "      <td>D</td>\n",
              "      <td>Discount</td>\n",
              "      <td>-1</td>\n",
              "      <td>2010-12-01 09:41:00</td>\n",
              "      <td>27.50</td>\n",
              "      <td>14527.0</td>\n",
              "      <td>United Kingdom</td>\n",
              "    </tr>\n",
              "    <tr>\n",
              "      <th>154</th>\n",
              "      <td>C536383</td>\n",
              "      <td>35004C</td>\n",
              "      <td>SET OF 3 COLOURED  FLYING DUCKS</td>\n",
              "      <td>-1</td>\n",
              "      <td>2010-12-01 09:49:00</td>\n",
              "      <td>4.65</td>\n",
              "      <td>15311.0</td>\n",
              "      <td>United Kingdom</td>\n",
              "    </tr>\n",
              "    <tr>\n",
              "      <th>235</th>\n",
              "      <td>C536391</td>\n",
              "      <td>22556</td>\n",
              "      <td>PLASTERS IN TIN CIRCUS PARADE</td>\n",
              "      <td>-12</td>\n",
              "      <td>2010-12-01 10:24:00</td>\n",
              "      <td>1.65</td>\n",
              "      <td>17548.0</td>\n",
              "      <td>United Kingdom</td>\n",
              "    </tr>\n",
              "    <tr>\n",
              "      <th>236</th>\n",
              "      <td>C536391</td>\n",
              "      <td>21984</td>\n",
              "      <td>PACK OF 12 PINK PAISLEY TISSUES</td>\n",
              "      <td>-24</td>\n",
              "      <td>2010-12-01 10:24:00</td>\n",
              "      <td>0.29</td>\n",
              "      <td>17548.0</td>\n",
              "      <td>United Kingdom</td>\n",
              "    </tr>\n",
              "    <tr>\n",
              "      <th>237</th>\n",
              "      <td>C536391</td>\n",
              "      <td>21983</td>\n",
              "      <td>PACK OF 12 BLUE PAISLEY TISSUES</td>\n",
              "      <td>-24</td>\n",
              "      <td>2010-12-01 10:24:00</td>\n",
              "      <td>0.29</td>\n",
              "      <td>17548.0</td>\n",
              "      <td>United Kingdom</td>\n",
              "    </tr>\n",
              "  </tbody>\n",
              "</table>\n",
              "</div>"
            ],
            "text/plain": [
              "    InvoiceNo StockCode  ... CustomerID         Country\n",
              "141   C536379         D  ...    14527.0  United Kingdom\n",
              "154   C536383    35004C  ...    15311.0  United Kingdom\n",
              "235   C536391     22556  ...    17548.0  United Kingdom\n",
              "236   C536391     21984  ...    17548.0  United Kingdom\n",
              "237   C536391     21983  ...    17548.0  United Kingdom\n",
              "\n",
              "[5 rows x 8 columns]"
            ]
          },
          "metadata": {
            "tags": []
          },
          "execution_count": 11
        }
      ]
    },
    {
      "cell_type": "code",
      "metadata": {
        "colab": {
          "base_uri": "https://localhost:8080/"
        },
        "id": "I1sJT2jsQYBs",
        "outputId": "f5cba350-cc0a-46b8-fd49-d32c6d207844"
      },
      "source": [
        "cancelled_orders.shape"
      ],
      "execution_count": 12,
      "outputs": [
        {
          "output_type": "execute_result",
          "data": {
            "text/plain": [
              "(9288, 8)"
            ]
          },
          "metadata": {
            "tags": []
          },
          "execution_count": 12
        }
      ]
    },
    {
      "cell_type": "markdown",
      "metadata": {
        "id": "LSCEhMTl71U0"
      },
      "source": [
        "### Check if the quantity is in negative for the cancelled orders"
      ]
    },
    {
      "cell_type": "code",
      "metadata": {
        "colab": {
          "base_uri": "https://localhost:8080/",
          "height": 49
        },
        "id": "jtIZnVOx8FtF",
        "outputId": "b964f972-2e9d-4dcd-b866-89b419223761"
      },
      "source": [
        "cancelled_orders[cancelled_orders['Quantity']>0]"
      ],
      "execution_count": 13,
      "outputs": [
        {
          "output_type": "execute_result",
          "data": {
            "text/html": [
              "<div>\n",
              "<style scoped>\n",
              "    .dataframe tbody tr th:only-of-type {\n",
              "        vertical-align: middle;\n",
              "    }\n",
              "\n",
              "    .dataframe tbody tr th {\n",
              "        vertical-align: top;\n",
              "    }\n",
              "\n",
              "    .dataframe thead th {\n",
              "        text-align: right;\n",
              "    }\n",
              "</style>\n",
              "<table border=\"1\" class=\"dataframe\">\n",
              "  <thead>\n",
              "    <tr style=\"text-align: right;\">\n",
              "      <th></th>\n",
              "      <th>InvoiceNo</th>\n",
              "      <th>StockCode</th>\n",
              "      <th>Description</th>\n",
              "      <th>Quantity</th>\n",
              "      <th>InvoiceDate</th>\n",
              "      <th>UnitPrice</th>\n",
              "      <th>CustomerID</th>\n",
              "      <th>Country</th>\n",
              "    </tr>\n",
              "  </thead>\n",
              "  <tbody>\n",
              "  </tbody>\n",
              "</table>\n",
              "</div>"
            ],
            "text/plain": [
              "Empty DataFrame\n",
              "Columns: [InvoiceNo, StockCode, Description, Quantity, InvoiceDate, UnitPrice, CustomerID, Country]\n",
              "Index: []"
            ]
          },
          "metadata": {
            "tags": []
          },
          "execution_count": 13
        }
      ]
    },
    {
      "cell_type": "markdown",
      "metadata": {
        "id": "EvY6uZFU8IGa"
      },
      "source": [
        "#### **Observations**\r\n",
        "- The above said statement for negative values for quantity holds True for the Cancelled Orders."
      ]
    },
    {
      "cell_type": "markdown",
      "metadata": {
        "id": "4Ie4K0EA8Z1A"
      },
      "source": [
        "### Check if all the Orders with negative quantities has Invocie number with prefix - 'C'"
      ]
    },
    {
      "cell_type": "code",
      "metadata": {
        "colab": {
          "base_uri": "https://localhost:8080/",
          "height": 419
        },
        "id": "Cg1_HLtY8k__",
        "outputId": "abe46762-f4cb-4455-8b81-f5713bb207a4"
      },
      "source": [
        "d1 = df[df['Quantity']<0]\r\n",
        "d1 = d1[~(d1['InvoiceNo'].astype(str).str.contains('C'))]\r\n",
        "d1"
      ],
      "execution_count": 14,
      "outputs": [
        {
          "output_type": "execute_result",
          "data": {
            "text/html": [
              "<div>\n",
              "<style scoped>\n",
              "    .dataframe tbody tr th:only-of-type {\n",
              "        vertical-align: middle;\n",
              "    }\n",
              "\n",
              "    .dataframe tbody tr th {\n",
              "        vertical-align: top;\n",
              "    }\n",
              "\n",
              "    .dataframe thead th {\n",
              "        text-align: right;\n",
              "    }\n",
              "</style>\n",
              "<table border=\"1\" class=\"dataframe\">\n",
              "  <thead>\n",
              "    <tr style=\"text-align: right;\">\n",
              "      <th></th>\n",
              "      <th>InvoiceNo</th>\n",
              "      <th>StockCode</th>\n",
              "      <th>Description</th>\n",
              "      <th>Quantity</th>\n",
              "      <th>InvoiceDate</th>\n",
              "      <th>UnitPrice</th>\n",
              "      <th>CustomerID</th>\n",
              "      <th>Country</th>\n",
              "    </tr>\n",
              "  </thead>\n",
              "  <tbody>\n",
              "    <tr>\n",
              "      <th>2406</th>\n",
              "      <td>536589</td>\n",
              "      <td>21777</td>\n",
              "      <td>NaN</td>\n",
              "      <td>-10</td>\n",
              "      <td>2010-12-01 16:50:00</td>\n",
              "      <td>0.0</td>\n",
              "      <td>NaN</td>\n",
              "      <td>United Kingdom</td>\n",
              "    </tr>\n",
              "    <tr>\n",
              "      <th>4347</th>\n",
              "      <td>536764</td>\n",
              "      <td>84952C</td>\n",
              "      <td>NaN</td>\n",
              "      <td>-38</td>\n",
              "      <td>2010-12-02 14:42:00</td>\n",
              "      <td>0.0</td>\n",
              "      <td>NaN</td>\n",
              "      <td>United Kingdom</td>\n",
              "    </tr>\n",
              "    <tr>\n",
              "      <th>7188</th>\n",
              "      <td>536996</td>\n",
              "      <td>22712</td>\n",
              "      <td>NaN</td>\n",
              "      <td>-20</td>\n",
              "      <td>2010-12-03 15:30:00</td>\n",
              "      <td>0.0</td>\n",
              "      <td>NaN</td>\n",
              "      <td>United Kingdom</td>\n",
              "    </tr>\n",
              "    <tr>\n",
              "      <th>7189</th>\n",
              "      <td>536997</td>\n",
              "      <td>22028</td>\n",
              "      <td>NaN</td>\n",
              "      <td>-20</td>\n",
              "      <td>2010-12-03 15:30:00</td>\n",
              "      <td>0.0</td>\n",
              "      <td>NaN</td>\n",
              "      <td>United Kingdom</td>\n",
              "    </tr>\n",
              "    <tr>\n",
              "      <th>7190</th>\n",
              "      <td>536998</td>\n",
              "      <td>85067</td>\n",
              "      <td>NaN</td>\n",
              "      <td>-6</td>\n",
              "      <td>2010-12-03 15:30:00</td>\n",
              "      <td>0.0</td>\n",
              "      <td>NaN</td>\n",
              "      <td>United Kingdom</td>\n",
              "    </tr>\n",
              "    <tr>\n",
              "      <th>...</th>\n",
              "      <td>...</td>\n",
              "      <td>...</td>\n",
              "      <td>...</td>\n",
              "      <td>...</td>\n",
              "      <td>...</td>\n",
              "      <td>...</td>\n",
              "      <td>...</td>\n",
              "      <td>...</td>\n",
              "    </tr>\n",
              "    <tr>\n",
              "      <th>535333</th>\n",
              "      <td>581210</td>\n",
              "      <td>23395</td>\n",
              "      <td>check</td>\n",
              "      <td>-26</td>\n",
              "      <td>2011-12-07 18:36:00</td>\n",
              "      <td>0.0</td>\n",
              "      <td>NaN</td>\n",
              "      <td>United Kingdom</td>\n",
              "    </tr>\n",
              "    <tr>\n",
              "      <th>535335</th>\n",
              "      <td>581212</td>\n",
              "      <td>22578</td>\n",
              "      <td>lost</td>\n",
              "      <td>-1050</td>\n",
              "      <td>2011-12-07 18:38:00</td>\n",
              "      <td>0.0</td>\n",
              "      <td>NaN</td>\n",
              "      <td>United Kingdom</td>\n",
              "    </tr>\n",
              "    <tr>\n",
              "      <th>535336</th>\n",
              "      <td>581213</td>\n",
              "      <td>22576</td>\n",
              "      <td>check</td>\n",
              "      <td>-30</td>\n",
              "      <td>2011-12-07 18:38:00</td>\n",
              "      <td>0.0</td>\n",
              "      <td>NaN</td>\n",
              "      <td>United Kingdom</td>\n",
              "    </tr>\n",
              "    <tr>\n",
              "      <th>536908</th>\n",
              "      <td>581226</td>\n",
              "      <td>23090</td>\n",
              "      <td>missing</td>\n",
              "      <td>-338</td>\n",
              "      <td>2011-12-08 09:56:00</td>\n",
              "      <td>0.0</td>\n",
              "      <td>NaN</td>\n",
              "      <td>United Kingdom</td>\n",
              "    </tr>\n",
              "    <tr>\n",
              "      <th>538919</th>\n",
              "      <td>581422</td>\n",
              "      <td>23169</td>\n",
              "      <td>smashed</td>\n",
              "      <td>-235</td>\n",
              "      <td>2011-12-08 15:24:00</td>\n",
              "      <td>0.0</td>\n",
              "      <td>NaN</td>\n",
              "      <td>United Kingdom</td>\n",
              "    </tr>\n",
              "  </tbody>\n",
              "</table>\n",
              "<p>1336 rows × 8 columns</p>\n",
              "</div>"
            ],
            "text/plain": [
              "       InvoiceNo StockCode Description  ...  UnitPrice CustomerID         Country\n",
              "2406      536589     21777         NaN  ...        0.0        NaN  United Kingdom\n",
              "4347      536764    84952C         NaN  ...        0.0        NaN  United Kingdom\n",
              "7188      536996     22712         NaN  ...        0.0        NaN  United Kingdom\n",
              "7189      536997     22028         NaN  ...        0.0        NaN  United Kingdom\n",
              "7190      536998     85067         NaN  ...        0.0        NaN  United Kingdom\n",
              "...          ...       ...         ...  ...        ...        ...             ...\n",
              "535333    581210     23395       check  ...        0.0        NaN  United Kingdom\n",
              "535335    581212     22578        lost  ...        0.0        NaN  United Kingdom\n",
              "535336    581213     22576       check  ...        0.0        NaN  United Kingdom\n",
              "536908    581226     23090     missing  ...        0.0        NaN  United Kingdom\n",
              "538919    581422     23169     smashed  ...        0.0        NaN  United Kingdom\n",
              "\n",
              "[1336 rows x 8 columns]"
            ]
          },
          "metadata": {
            "tags": []
          },
          "execution_count": 14
        }
      ]
    },
    {
      "cell_type": "code",
      "metadata": {
        "colab": {
          "base_uri": "https://localhost:8080/"
        },
        "id": "-QjpIhKG9Nel",
        "outputId": "5130dfe2-923f-4927-c6ba-a726fb358ab5"
      },
      "source": [
        "d1.Description.value_counts().head(10)"
      ],
      "execution_count": 15,
      "outputs": [
        {
          "output_type": "execute_result",
          "data": {
            "text/plain": [
              "check                     120\n",
              "damages                    45\n",
              "damaged                    42\n",
              "?                          41\n",
              "sold as set on dotcom      20\n",
              "Damaged                    14\n",
              "thrown away                 9\n",
              "Unsaleable, destroyed.      9\n",
              "??                          7\n",
              "wet damaged                 5\n",
              "Name: Description, dtype: int64"
            ]
          },
          "metadata": {
            "tags": []
          },
          "execution_count": 15
        }
      ]
    },
    {
      "cell_type": "code",
      "metadata": {
        "colab": {
          "base_uri": "https://localhost:8080/"
        },
        "id": "jUCSrP8S-ZYg",
        "outputId": "b5feb382-8e7f-4afa-cf5e-fd0108314c14"
      },
      "source": [
        "d1.CustomerID.unique()"
      ],
      "execution_count": 16,
      "outputs": [
        {
          "output_type": "execute_result",
          "data": {
            "text/plain": [
              "array([nan])"
            ]
          },
          "metadata": {
            "tags": []
          },
          "execution_count": 16
        }
      ]
    },
    {
      "cell_type": "markdown",
      "metadata": {
        "id": "D7NK3g_D9wS2"
      },
      "source": [
        "#### **Observations**\r\n",
        "- Not only the Cancelled orders(Invoice prefix - 'C') has negative quantities, there are **miscellaneous reasons** such as Lost, Missing, ?, Damaged, Breakages, Unsaleable, Barcode problems, etc.\r\n",
        "- Also, these products were not purchased by any customers and hence negative quantities. So, Considering these orders also as Cancelled orders."
      ]
    },
    {
      "cell_type": "code",
      "metadata": {
        "colab": {
          "base_uri": "https://localhost:8080/"
        },
        "id": "kwFOT9nP66rx",
        "outputId": "404fb72d-080f-4ef1-e9e8-07c994b46b72"
      },
      "source": [
        "cancelled_orders1 = df[(df['InvoiceNo'].astype(str).str.contains('C')) & (df['Quantity']<0)]\r\n",
        "cancelled_orders1['InvoiceNo'].nunique()/df['InvoiceNo'].nunique()"
      ],
      "execution_count": 17,
      "outputs": [
        {
          "output_type": "execute_result",
          "data": {
            "text/plain": [
              "0.14810810810810812"
            ]
          },
          "metadata": {
            "tags": []
          },
          "execution_count": 17
        }
      ]
    },
    {
      "cell_type": "markdown",
      "metadata": {
        "id": "N1xLWs2k6zTq"
      },
      "source": [
        "#### **Observations**\r\n",
        "- **14%** of the orders out of total orders, has been cancelled for various reasons."
      ]
    },
    {
      "cell_type": "markdown",
      "metadata": {
        "id": "z09n_08H5Mr3"
      },
      "source": [
        "## **Data Cleaning**"
      ]
    },
    {
      "cell_type": "markdown",
      "metadata": {
        "id": "Pq_VSir2JeUu"
      },
      "source": [
        "### Missing Value Analysis"
      ]
    },
    {
      "cell_type": "code",
      "metadata": {
        "scrolled": true,
        "id": "YzCK-Dk15MsA",
        "colab": {
          "base_uri": "https://localhost:8080/"
        },
        "outputId": "6aeb777e-85ab-44b7-d09d-a240e11ca8ce"
      },
      "source": [
        "# Convert missing values of Description to Missing\r\n",
        "df['Description'] = df['Description'].fillna('Missing')\r\n",
        "df['Description'].isnull().sum()"
      ],
      "execution_count": 18,
      "outputs": [
        {
          "output_type": "execute_result",
          "data": {
            "text/plain": [
              "0"
            ]
          },
          "metadata": {
            "tags": []
          },
          "execution_count": 18
        }
      ]
    },
    {
      "cell_type": "code",
      "metadata": {
        "colab": {
          "base_uri": "https://localhost:8080/"
        },
        "id": "2VX-hzHpsAlh",
        "outputId": "253bc08a-6770-44ce-d69c-54bad8917e1d"
      },
      "source": [
        "df['Description'].nunique(),df['StockCode'].nunique()"
      ],
      "execution_count": 19,
      "outputs": [
        {
          "output_type": "execute_result",
          "data": {
            "text/plain": [
              "(4223, 4070)"
            ]
          },
          "metadata": {
            "tags": []
          },
          "execution_count": 19
        }
      ]
    },
    {
      "cell_type": "markdown",
      "metadata": {
        "id": "t_UE3sXDszJy"
      },
      "source": [
        "#### **Observations**\r\n",
        "- Number of unique values for description and stock code varies."
      ]
    },
    {
      "cell_type": "code",
      "metadata": {
        "colab": {
          "base_uri": "https://localhost:8080/",
          "height": 204
        },
        "id": "1QSJFvZ1sUkh",
        "outputId": "b4ed241c-85bd-48c3-ed3e-709dec074030"
      },
      "source": [
        "# Understand the records which has missing values for description - to fill correct value from the existing descriptions.\r\n",
        "desc_miss = df[df['Description'] == 'Missing']\r\n",
        "desc_miss.head()"
      ],
      "execution_count": 20,
      "outputs": [
        {
          "output_type": "execute_result",
          "data": {
            "text/html": [
              "<div>\n",
              "<style scoped>\n",
              "    .dataframe tbody tr th:only-of-type {\n",
              "        vertical-align: middle;\n",
              "    }\n",
              "\n",
              "    .dataframe tbody tr th {\n",
              "        vertical-align: top;\n",
              "    }\n",
              "\n",
              "    .dataframe thead th {\n",
              "        text-align: right;\n",
              "    }\n",
              "</style>\n",
              "<table border=\"1\" class=\"dataframe\">\n",
              "  <thead>\n",
              "    <tr style=\"text-align: right;\">\n",
              "      <th></th>\n",
              "      <th>InvoiceNo</th>\n",
              "      <th>StockCode</th>\n",
              "      <th>Description</th>\n",
              "      <th>Quantity</th>\n",
              "      <th>InvoiceDate</th>\n",
              "      <th>UnitPrice</th>\n",
              "      <th>CustomerID</th>\n",
              "      <th>Country</th>\n",
              "    </tr>\n",
              "  </thead>\n",
              "  <tbody>\n",
              "    <tr>\n",
              "      <th>622</th>\n",
              "      <td>536414</td>\n",
              "      <td>22139</td>\n",
              "      <td>Missing</td>\n",
              "      <td>56</td>\n",
              "      <td>2010-12-01 11:52:00</td>\n",
              "      <td>0.0</td>\n",
              "      <td>NaN</td>\n",
              "      <td>United Kingdom</td>\n",
              "    </tr>\n",
              "    <tr>\n",
              "      <th>1970</th>\n",
              "      <td>536545</td>\n",
              "      <td>21134</td>\n",
              "      <td>Missing</td>\n",
              "      <td>1</td>\n",
              "      <td>2010-12-01 14:32:00</td>\n",
              "      <td>0.0</td>\n",
              "      <td>NaN</td>\n",
              "      <td>United Kingdom</td>\n",
              "    </tr>\n",
              "    <tr>\n",
              "      <th>1971</th>\n",
              "      <td>536546</td>\n",
              "      <td>22145</td>\n",
              "      <td>Missing</td>\n",
              "      <td>1</td>\n",
              "      <td>2010-12-01 14:33:00</td>\n",
              "      <td>0.0</td>\n",
              "      <td>NaN</td>\n",
              "      <td>United Kingdom</td>\n",
              "    </tr>\n",
              "    <tr>\n",
              "      <th>1972</th>\n",
              "      <td>536547</td>\n",
              "      <td>37509</td>\n",
              "      <td>Missing</td>\n",
              "      <td>1</td>\n",
              "      <td>2010-12-01 14:33:00</td>\n",
              "      <td>0.0</td>\n",
              "      <td>NaN</td>\n",
              "      <td>United Kingdom</td>\n",
              "    </tr>\n",
              "    <tr>\n",
              "      <th>1987</th>\n",
              "      <td>536549</td>\n",
              "      <td>85226A</td>\n",
              "      <td>Missing</td>\n",
              "      <td>1</td>\n",
              "      <td>2010-12-01 14:34:00</td>\n",
              "      <td>0.0</td>\n",
              "      <td>NaN</td>\n",
              "      <td>United Kingdom</td>\n",
              "    </tr>\n",
              "  </tbody>\n",
              "</table>\n",
              "</div>"
            ],
            "text/plain": [
              "     InvoiceNo StockCode Description  ...  UnitPrice CustomerID         Country\n",
              "622     536414     22139     Missing  ...        0.0        NaN  United Kingdom\n",
              "1970    536545     21134     Missing  ...        0.0        NaN  United Kingdom\n",
              "1971    536546     22145     Missing  ...        0.0        NaN  United Kingdom\n",
              "1972    536547     37509     Missing  ...        0.0        NaN  United Kingdom\n",
              "1987    536549    85226A     Missing  ...        0.0        NaN  United Kingdom\n",
              "\n",
              "[5 rows x 8 columns]"
            ]
          },
          "metadata": {
            "tags": []
          },
          "execution_count": 20
        }
      ]
    },
    {
      "cell_type": "code",
      "metadata": {
        "colab": {
          "base_uri": "https://localhost:8080/"
        },
        "id": "oe7YN9pC3U-E",
        "outputId": "1f1c0a8e-5fc3-4faf-ab75-5b9b00cde237"
      },
      "source": [
        "desc_miss.CustomerID.unique(),desc_miss.UnitPrice.unique(),desc_miss.Quantity.unique()"
      ],
      "execution_count": 21,
      "outputs": [
        {
          "output_type": "execute_result",
          "data": {
            "text/plain": [
              "(array([nan]),\n",
              " array([0.]),\n",
              " array([   56,     1,     3,    23,   -10,   -38,    19,    57,   -20,\n",
              "           -6,   110,   -22,    70,    -2,   -30,   -70,  -130,   -80,\n",
              "         -120,   -40,    -5,   -12,   -25,   -14,   -15,   -69,    -3,\n",
              "         -140,  -320,     5,   -24,   -21,   120,     7,    10,    13,\n",
              "          -19,   -11,   -18,   -44,   -50,    -9,   -77,     2,  -223,\n",
              "          144,    34,     8,    30,    -4,    -1,    27,  -150,  -177,\n",
              "           46,    79,    84,     9,   -32,   288,   -28,  -145,    25,\n",
              "          460,    12,    36,   -36,   -48,   -60,  -939,  -100,    35,\n",
              "          -54,  -201,   -53,    -8,   -45,   -13,  1000,   -61,   -41,\n",
              "          -35,   -64,   -84,   -16,   192,   -31,    65,   -17,  5568,\n",
              "         2560,   136,     4,   -52,  -206,   320,   960,    60,  -217,\n",
              "           18,  1287,  -173,  -234,   118,   -57,   -42,     6,    26,\n",
              "           -7,   -99,    51,   -92,  -114,   -88,   -33,  -391,   -87,\n",
              "           20,    16,  -278,   140,    67,    47,    73,   219,   280,\n",
              "          232,   180,    48,   -82,    72,    45,   -47,  -110,   -83,\n",
              "           24,  -153,  -105,    82,   167,    32,   -34,    11,   -27,\n",
              "           14,    53,   -46,   -75,   -66,   150,  -180,  -194,    17,\n",
              "          -23,   -62,   -37,    31,   -91,   -43,   -63,  -139,   -29,\n",
              "         -158,   -55, -1092,   -65,  -620,   101,   400,   -90,    90,\n",
              "         -170,   -51,   -56,   -49,  -160,   -93,   -26,  -168,   200,\n",
              "         -101,   -71,   -58,   -39,  -102,    64,    74,   800,   -96,\n",
              "          -59,    50,  -116,    40,  -472,  -126,    44,    66,    80,\n",
              "          -78,   100,   147,  -179,    15,  -169, -2834,  -109,   108,\n",
              "         -178,  -530,   170,    38,    52,  -346,  -125,   107,  -188,\n",
              "         -240,  -197,   -97,  -343,  -455,  -124,   425,    37,  -156,\n",
              "         -553,  -400,   245,    21,  -115,   171,  -242,  -210,   -72,\n",
              "        -3167,   225,   750,   -95,   -86,  -682,   682,   344,   143,\n",
              "         -117, -3667,  -138,  -147,   -67,   240,  -209,  -129,  -275,\n",
              "           58,    96,   420,    42,  -207,  -104,   -73,  -108,    63,\n",
              "         -186,    22,  -151,    33,  -144]))"
            ]
          },
          "metadata": {
            "tags": []
          },
          "execution_count": 21
        }
      ]
    },
    {
      "cell_type": "markdown",
      "metadata": {
        "id": "pnQXnyDU4bcq"
      },
      "source": [
        "#### **Observations**\r\n",
        "- For all the missing records of descriptions, the customer id is also missing.\r\n",
        "- Further, the unitprice is 0 for all the records and the Quantity has negative values. \r\n",
        "- This indicated that these orders are cancelled.\r\n",
        "- **So, no need to treat missing values for Descriptions as they will be removed if the customerIds are dropped**.  "
      ]
    },
    {
      "cell_type": "markdown",
      "metadata": {
        "id": "HNYMfJy2DfyM"
      },
      "source": [
        "### Dropping Missing values \r\n",
        "- Customer Ids cannot be imputed and hence dropping all the missing records."
      ]
    },
    {
      "cell_type": "code",
      "metadata": {
        "colab": {
          "base_uri": "https://localhost:8080/",
          "height": 204
        },
        "id": "1BRmz5leDmoY",
        "outputId": "22119297-74f6-4c3e-ac8b-7facaf4fd3b5"
      },
      "source": [
        "data = df.dropna()\r\n",
        "data.head()"
      ],
      "execution_count": 22,
      "outputs": [
        {
          "output_type": "execute_result",
          "data": {
            "text/html": [
              "<div>\n",
              "<style scoped>\n",
              "    .dataframe tbody tr th:only-of-type {\n",
              "        vertical-align: middle;\n",
              "    }\n",
              "\n",
              "    .dataframe tbody tr th {\n",
              "        vertical-align: top;\n",
              "    }\n",
              "\n",
              "    .dataframe thead th {\n",
              "        text-align: right;\n",
              "    }\n",
              "</style>\n",
              "<table border=\"1\" class=\"dataframe\">\n",
              "  <thead>\n",
              "    <tr style=\"text-align: right;\">\n",
              "      <th></th>\n",
              "      <th>InvoiceNo</th>\n",
              "      <th>StockCode</th>\n",
              "      <th>Description</th>\n",
              "      <th>Quantity</th>\n",
              "      <th>InvoiceDate</th>\n",
              "      <th>UnitPrice</th>\n",
              "      <th>CustomerID</th>\n",
              "      <th>Country</th>\n",
              "    </tr>\n",
              "  </thead>\n",
              "  <tbody>\n",
              "    <tr>\n",
              "      <th>0</th>\n",
              "      <td>536365</td>\n",
              "      <td>85123A</td>\n",
              "      <td>WHITE HANGING HEART T-LIGHT HOLDER</td>\n",
              "      <td>6</td>\n",
              "      <td>2010-12-01 08:26:00</td>\n",
              "      <td>2.55</td>\n",
              "      <td>17850.0</td>\n",
              "      <td>United Kingdom</td>\n",
              "    </tr>\n",
              "    <tr>\n",
              "      <th>1</th>\n",
              "      <td>536365</td>\n",
              "      <td>71053</td>\n",
              "      <td>WHITE METAL LANTERN</td>\n",
              "      <td>6</td>\n",
              "      <td>2010-12-01 08:26:00</td>\n",
              "      <td>3.39</td>\n",
              "      <td>17850.0</td>\n",
              "      <td>United Kingdom</td>\n",
              "    </tr>\n",
              "    <tr>\n",
              "      <th>2</th>\n",
              "      <td>536365</td>\n",
              "      <td>84406B</td>\n",
              "      <td>CREAM CUPID HEARTS COAT HANGER</td>\n",
              "      <td>8</td>\n",
              "      <td>2010-12-01 08:26:00</td>\n",
              "      <td>2.75</td>\n",
              "      <td>17850.0</td>\n",
              "      <td>United Kingdom</td>\n",
              "    </tr>\n",
              "    <tr>\n",
              "      <th>3</th>\n",
              "      <td>536365</td>\n",
              "      <td>84029G</td>\n",
              "      <td>KNITTED UNION FLAG HOT WATER BOTTLE</td>\n",
              "      <td>6</td>\n",
              "      <td>2010-12-01 08:26:00</td>\n",
              "      <td>3.39</td>\n",
              "      <td>17850.0</td>\n",
              "      <td>United Kingdom</td>\n",
              "    </tr>\n",
              "    <tr>\n",
              "      <th>4</th>\n",
              "      <td>536365</td>\n",
              "      <td>84029E</td>\n",
              "      <td>RED WOOLLY HOTTIE WHITE HEART.</td>\n",
              "      <td>6</td>\n",
              "      <td>2010-12-01 08:26:00</td>\n",
              "      <td>3.39</td>\n",
              "      <td>17850.0</td>\n",
              "      <td>United Kingdom</td>\n",
              "    </tr>\n",
              "  </tbody>\n",
              "</table>\n",
              "</div>"
            ],
            "text/plain": [
              "  InvoiceNo StockCode  ... CustomerID         Country\n",
              "0    536365    85123A  ...    17850.0  United Kingdom\n",
              "1    536365     71053  ...    17850.0  United Kingdom\n",
              "2    536365    84406B  ...    17850.0  United Kingdom\n",
              "3    536365    84029G  ...    17850.0  United Kingdom\n",
              "4    536365    84029E  ...    17850.0  United Kingdom\n",
              "\n",
              "[5 rows x 8 columns]"
            ]
          },
          "metadata": {
            "tags": []
          },
          "execution_count": 22
        }
      ]
    },
    {
      "cell_type": "markdown",
      "metadata": {
        "id": "th26mtBRIQND"
      },
      "source": [
        "### Check for duplicate records"
      ]
    },
    {
      "cell_type": "code",
      "metadata": {
        "colab": {
          "base_uri": "https://localhost:8080/"
        },
        "id": "EAekwh3EIUNG",
        "outputId": "4d35fe2c-6268-4b4e-9e02-a2f456c9a6ee"
      },
      "source": [
        "duplicates = data[data.duplicated(keep=False)]\r\n",
        "duplicates.shape"
      ],
      "execution_count": 23,
      "outputs": [
        {
          "output_type": "execute_result",
          "data": {
            "text/plain": [
              "(10062, 8)"
            ]
          },
          "metadata": {
            "tags": []
          },
          "execution_count": 23
        }
      ]
    },
    {
      "cell_type": "markdown",
      "metadata": {
        "id": "k2KGginQIdst"
      },
      "source": [
        "- There are 10062 duplicate records in total. So, drop the duplicates."
      ]
    },
    {
      "cell_type": "code",
      "metadata": {
        "colab": {
          "base_uri": "https://localhost:8080/"
        },
        "id": "HrVipii0IqAg",
        "outputId": "2702bb16-8751-4c8e-e002-5e45d78fa1d2"
      },
      "source": [
        "data1 = data.drop_duplicates(keep = 'first')\r\n",
        "data1.shape"
      ],
      "execution_count": 24,
      "outputs": [
        {
          "output_type": "execute_result",
          "data": {
            "text/plain": [
              "(401604, 8)"
            ]
          },
          "metadata": {
            "tags": []
          },
          "execution_count": 24
        }
      ]
    },
    {
      "cell_type": "code",
      "metadata": {
        "colab": {
          "base_uri": "https://localhost:8080/",
          "height": 208
        },
        "id": "K49kPqTmECq4",
        "outputId": "52d991ee-9c5d-452c-de69-51841e43cf16"
      },
      "source": [
        "# Summary of the cleaned data\r\n",
        "Features = data1.columns\r\n",
        "\r\n",
        "# Creating a DataFrame with useful information about dataset\r\n",
        "data_info = pd.DataFrame()\r\n",
        "data_info['Features'] = Features\r\n",
        "data_info['unique_values'] = [data1[col].nunique() for col in Features]\r\n",
        "data_info['total_null'] = [data1[col].isnull().sum() for col in Features]\r\n",
        "data_info['null_percent'] = [data1[col].isnull().sum() * 100 / len(data1) for col in Features]\r\n",
        "\r\n",
        "data_info.style.background_gradient()"
      ],
      "execution_count": 25,
      "outputs": [
        {
          "output_type": "execute_result",
          "data": {
            "text/html": [
              "<style  type=\"text/css\" >\n",
              "#T_4fb67aec_8101_11eb_aa10_0242ac1c0002row0_col1{\n",
              "            background-color:  #023858;\n",
              "            color:  #f1f1f1;\n",
              "        }#T_4fb67aec_8101_11eb_aa10_0242ac1c0002row0_col2,#T_4fb67aec_8101_11eb_aa10_0242ac1c0002row0_col3,#T_4fb67aec_8101_11eb_aa10_0242ac1c0002row1_col2,#T_4fb67aec_8101_11eb_aa10_0242ac1c0002row1_col3,#T_4fb67aec_8101_11eb_aa10_0242ac1c0002row2_col2,#T_4fb67aec_8101_11eb_aa10_0242ac1c0002row2_col3,#T_4fb67aec_8101_11eb_aa10_0242ac1c0002row3_col2,#T_4fb67aec_8101_11eb_aa10_0242ac1c0002row3_col3,#T_4fb67aec_8101_11eb_aa10_0242ac1c0002row4_col2,#T_4fb67aec_8101_11eb_aa10_0242ac1c0002row4_col3,#T_4fb67aec_8101_11eb_aa10_0242ac1c0002row5_col2,#T_4fb67aec_8101_11eb_aa10_0242ac1c0002row5_col3,#T_4fb67aec_8101_11eb_aa10_0242ac1c0002row6_col2,#T_4fb67aec_8101_11eb_aa10_0242ac1c0002row6_col3,#T_4fb67aec_8101_11eb_aa10_0242ac1c0002row7_col1,#T_4fb67aec_8101_11eb_aa10_0242ac1c0002row7_col2,#T_4fb67aec_8101_11eb_aa10_0242ac1c0002row7_col3{\n",
              "            background-color:  #fff7fb;\n",
              "            color:  #000000;\n",
              "        }#T_4fb67aec_8101_11eb_aa10_0242ac1c0002row1_col1{\n",
              "            background-color:  #e3e0ee;\n",
              "            color:  #000000;\n",
              "        }#T_4fb67aec_8101_11eb_aa10_0242ac1c0002row2_col1{\n",
              "            background-color:  #e1dfed;\n",
              "            color:  #000000;\n",
              "        }#T_4fb67aec_8101_11eb_aa10_0242ac1c0002row3_col1{\n",
              "            background-color:  #fdf5fa;\n",
              "            color:  #000000;\n",
              "        }#T_4fb67aec_8101_11eb_aa10_0242ac1c0002row4_col1{\n",
              "            background-color:  #034c78;\n",
              "            color:  #f1f1f1;\n",
              "        }#T_4fb67aec_8101_11eb_aa10_0242ac1c0002row5_col1{\n",
              "            background-color:  #fbf4f9;\n",
              "            color:  #000000;\n",
              "        }#T_4fb67aec_8101_11eb_aa10_0242ac1c0002row6_col1{\n",
              "            background-color:  #dcdaeb;\n",
              "            color:  #000000;\n",
              "        }</style><table id=\"T_4fb67aec_8101_11eb_aa10_0242ac1c0002\" ><thead>    <tr>        <th class=\"blank level0\" ></th>        <th class=\"col_heading level0 col0\" >Features</th>        <th class=\"col_heading level0 col1\" >unique_values</th>        <th class=\"col_heading level0 col2\" >total_null</th>        <th class=\"col_heading level0 col3\" >null_percent</th>    </tr></thead><tbody>\n",
              "                <tr>\n",
              "                        <th id=\"T_4fb67aec_8101_11eb_aa10_0242ac1c0002level0_row0\" class=\"row_heading level0 row0\" >0</th>\n",
              "                        <td id=\"T_4fb67aec_8101_11eb_aa10_0242ac1c0002row0_col0\" class=\"data row0 col0\" >InvoiceNo</td>\n",
              "                        <td id=\"T_4fb67aec_8101_11eb_aa10_0242ac1c0002row0_col1\" class=\"data row0 col1\" >22190</td>\n",
              "                        <td id=\"T_4fb67aec_8101_11eb_aa10_0242ac1c0002row0_col2\" class=\"data row0 col2\" >0</td>\n",
              "                        <td id=\"T_4fb67aec_8101_11eb_aa10_0242ac1c0002row0_col3\" class=\"data row0 col3\" >0.000000</td>\n",
              "            </tr>\n",
              "            <tr>\n",
              "                        <th id=\"T_4fb67aec_8101_11eb_aa10_0242ac1c0002level0_row1\" class=\"row_heading level0 row1\" >1</th>\n",
              "                        <td id=\"T_4fb67aec_8101_11eb_aa10_0242ac1c0002row1_col0\" class=\"data row1 col0\" >StockCode</td>\n",
              "                        <td id=\"T_4fb67aec_8101_11eb_aa10_0242ac1c0002row1_col1\" class=\"data row1 col1\" >3684</td>\n",
              "                        <td id=\"T_4fb67aec_8101_11eb_aa10_0242ac1c0002row1_col2\" class=\"data row1 col2\" >0</td>\n",
              "                        <td id=\"T_4fb67aec_8101_11eb_aa10_0242ac1c0002row1_col3\" class=\"data row1 col3\" >0.000000</td>\n",
              "            </tr>\n",
              "            <tr>\n",
              "                        <th id=\"T_4fb67aec_8101_11eb_aa10_0242ac1c0002level0_row2\" class=\"row_heading level0 row2\" >2</th>\n",
              "                        <td id=\"T_4fb67aec_8101_11eb_aa10_0242ac1c0002row2_col0\" class=\"data row2 col0\" >Description</td>\n",
              "                        <td id=\"T_4fb67aec_8101_11eb_aa10_0242ac1c0002row2_col1\" class=\"data row2 col1\" >3896</td>\n",
              "                        <td id=\"T_4fb67aec_8101_11eb_aa10_0242ac1c0002row2_col2\" class=\"data row2 col2\" >0</td>\n",
              "                        <td id=\"T_4fb67aec_8101_11eb_aa10_0242ac1c0002row2_col3\" class=\"data row2 col3\" >0.000000</td>\n",
              "            </tr>\n",
              "            <tr>\n",
              "                        <th id=\"T_4fb67aec_8101_11eb_aa10_0242ac1c0002level0_row3\" class=\"row_heading level0 row3\" >3</th>\n",
              "                        <td id=\"T_4fb67aec_8101_11eb_aa10_0242ac1c0002row3_col0\" class=\"data row3 col0\" >Quantity</td>\n",
              "                        <td id=\"T_4fb67aec_8101_11eb_aa10_0242ac1c0002row3_col1\" class=\"data row3 col1\" >436</td>\n",
              "                        <td id=\"T_4fb67aec_8101_11eb_aa10_0242ac1c0002row3_col2\" class=\"data row3 col2\" >0</td>\n",
              "                        <td id=\"T_4fb67aec_8101_11eb_aa10_0242ac1c0002row3_col3\" class=\"data row3 col3\" >0.000000</td>\n",
              "            </tr>\n",
              "            <tr>\n",
              "                        <th id=\"T_4fb67aec_8101_11eb_aa10_0242ac1c0002level0_row4\" class=\"row_heading level0 row4\" >4</th>\n",
              "                        <td id=\"T_4fb67aec_8101_11eb_aa10_0242ac1c0002row4_col0\" class=\"data row4 col0\" >InvoiceDate</td>\n",
              "                        <td id=\"T_4fb67aec_8101_11eb_aa10_0242ac1c0002row4_col1\" class=\"data row4 col1\" >20460</td>\n",
              "                        <td id=\"T_4fb67aec_8101_11eb_aa10_0242ac1c0002row4_col2\" class=\"data row4 col2\" >0</td>\n",
              "                        <td id=\"T_4fb67aec_8101_11eb_aa10_0242ac1c0002row4_col3\" class=\"data row4 col3\" >0.000000</td>\n",
              "            </tr>\n",
              "            <tr>\n",
              "                        <th id=\"T_4fb67aec_8101_11eb_aa10_0242ac1c0002level0_row5\" class=\"row_heading level0 row5\" >5</th>\n",
              "                        <td id=\"T_4fb67aec_8101_11eb_aa10_0242ac1c0002row5_col0\" class=\"data row5 col0\" >UnitPrice</td>\n",
              "                        <td id=\"T_4fb67aec_8101_11eb_aa10_0242ac1c0002row5_col1\" class=\"data row5 col1\" >620</td>\n",
              "                        <td id=\"T_4fb67aec_8101_11eb_aa10_0242ac1c0002row5_col2\" class=\"data row5 col2\" >0</td>\n",
              "                        <td id=\"T_4fb67aec_8101_11eb_aa10_0242ac1c0002row5_col3\" class=\"data row5 col3\" >0.000000</td>\n",
              "            </tr>\n",
              "            <tr>\n",
              "                        <th id=\"T_4fb67aec_8101_11eb_aa10_0242ac1c0002level0_row6\" class=\"row_heading level0 row6\" >6</th>\n",
              "                        <td id=\"T_4fb67aec_8101_11eb_aa10_0242ac1c0002row6_col0\" class=\"data row6 col0\" >CustomerID</td>\n",
              "                        <td id=\"T_4fb67aec_8101_11eb_aa10_0242ac1c0002row6_col1\" class=\"data row6 col1\" >4372</td>\n",
              "                        <td id=\"T_4fb67aec_8101_11eb_aa10_0242ac1c0002row6_col2\" class=\"data row6 col2\" >0</td>\n",
              "                        <td id=\"T_4fb67aec_8101_11eb_aa10_0242ac1c0002row6_col3\" class=\"data row6 col3\" >0.000000</td>\n",
              "            </tr>\n",
              "            <tr>\n",
              "                        <th id=\"T_4fb67aec_8101_11eb_aa10_0242ac1c0002level0_row7\" class=\"row_heading level0 row7\" >7</th>\n",
              "                        <td id=\"T_4fb67aec_8101_11eb_aa10_0242ac1c0002row7_col0\" class=\"data row7 col0\" >Country</td>\n",
              "                        <td id=\"T_4fb67aec_8101_11eb_aa10_0242ac1c0002row7_col1\" class=\"data row7 col1\" >37</td>\n",
              "                        <td id=\"T_4fb67aec_8101_11eb_aa10_0242ac1c0002row7_col2\" class=\"data row7 col2\" >0</td>\n",
              "                        <td id=\"T_4fb67aec_8101_11eb_aa10_0242ac1c0002row7_col3\" class=\"data row7 col3\" >0.000000</td>\n",
              "            </tr>\n",
              "    </tbody></table>"
            ],
            "text/plain": [
              "<pandas.io.formats.style.Styler at 0x7fc0e0ea3a10>"
            ]
          },
          "metadata": {
            "tags": []
          },
          "execution_count": 25
        }
      ]
    },
    {
      "cell_type": "markdown",
      "metadata": {
        "id": "oY5r_-oD5MsD"
      },
      "source": [
        "#### **Observations**\r\n",
        "* The unique values for Stockcode is not same as description's.\r\n",
        "* This shows that few Stockcodes has multiple descriptions. This seems to be a data quality issue and has to be analyzed."
      ]
    },
    {
      "cell_type": "code",
      "metadata": {
        "colab": {
          "base_uri": "https://localhost:8080/",
          "height": 204
        },
        "id": "ZeYh7JRrteym",
        "outputId": "5876676d-ea5b-4bbf-de31-1dc43eab868d"
      },
      "source": [
        "# Filter only distinct stock code and description\r\n",
        "fill_desc = data1.drop_duplicates(subset=['StockCode','Description'],keep='first')\r\n",
        "fill_desc.head()"
      ],
      "execution_count": 26,
      "outputs": [
        {
          "output_type": "execute_result",
          "data": {
            "text/html": [
              "<div>\n",
              "<style scoped>\n",
              "    .dataframe tbody tr th:only-of-type {\n",
              "        vertical-align: middle;\n",
              "    }\n",
              "\n",
              "    .dataframe tbody tr th {\n",
              "        vertical-align: top;\n",
              "    }\n",
              "\n",
              "    .dataframe thead th {\n",
              "        text-align: right;\n",
              "    }\n",
              "</style>\n",
              "<table border=\"1\" class=\"dataframe\">\n",
              "  <thead>\n",
              "    <tr style=\"text-align: right;\">\n",
              "      <th></th>\n",
              "      <th>InvoiceNo</th>\n",
              "      <th>StockCode</th>\n",
              "      <th>Description</th>\n",
              "      <th>Quantity</th>\n",
              "      <th>InvoiceDate</th>\n",
              "      <th>UnitPrice</th>\n",
              "      <th>CustomerID</th>\n",
              "      <th>Country</th>\n",
              "    </tr>\n",
              "  </thead>\n",
              "  <tbody>\n",
              "    <tr>\n",
              "      <th>0</th>\n",
              "      <td>536365</td>\n",
              "      <td>85123A</td>\n",
              "      <td>WHITE HANGING HEART T-LIGHT HOLDER</td>\n",
              "      <td>6</td>\n",
              "      <td>2010-12-01 08:26:00</td>\n",
              "      <td>2.55</td>\n",
              "      <td>17850.0</td>\n",
              "      <td>United Kingdom</td>\n",
              "    </tr>\n",
              "    <tr>\n",
              "      <th>1</th>\n",
              "      <td>536365</td>\n",
              "      <td>71053</td>\n",
              "      <td>WHITE METAL LANTERN</td>\n",
              "      <td>6</td>\n",
              "      <td>2010-12-01 08:26:00</td>\n",
              "      <td>3.39</td>\n",
              "      <td>17850.0</td>\n",
              "      <td>United Kingdom</td>\n",
              "    </tr>\n",
              "    <tr>\n",
              "      <th>2</th>\n",
              "      <td>536365</td>\n",
              "      <td>84406B</td>\n",
              "      <td>CREAM CUPID HEARTS COAT HANGER</td>\n",
              "      <td>8</td>\n",
              "      <td>2010-12-01 08:26:00</td>\n",
              "      <td>2.75</td>\n",
              "      <td>17850.0</td>\n",
              "      <td>United Kingdom</td>\n",
              "    </tr>\n",
              "    <tr>\n",
              "      <th>3</th>\n",
              "      <td>536365</td>\n",
              "      <td>84029G</td>\n",
              "      <td>KNITTED UNION FLAG HOT WATER BOTTLE</td>\n",
              "      <td>6</td>\n",
              "      <td>2010-12-01 08:26:00</td>\n",
              "      <td>3.39</td>\n",
              "      <td>17850.0</td>\n",
              "      <td>United Kingdom</td>\n",
              "    </tr>\n",
              "    <tr>\n",
              "      <th>4</th>\n",
              "      <td>536365</td>\n",
              "      <td>84029E</td>\n",
              "      <td>RED WOOLLY HOTTIE WHITE HEART.</td>\n",
              "      <td>6</td>\n",
              "      <td>2010-12-01 08:26:00</td>\n",
              "      <td>3.39</td>\n",
              "      <td>17850.0</td>\n",
              "      <td>United Kingdom</td>\n",
              "    </tr>\n",
              "  </tbody>\n",
              "</table>\n",
              "</div>"
            ],
            "text/plain": [
              "  InvoiceNo StockCode  ... CustomerID         Country\n",
              "0    536365    85123A  ...    17850.0  United Kingdom\n",
              "1    536365     71053  ...    17850.0  United Kingdom\n",
              "2    536365    84406B  ...    17850.0  United Kingdom\n",
              "3    536365    84029G  ...    17850.0  United Kingdom\n",
              "4    536365    84029E  ...    17850.0  United Kingdom\n",
              "\n",
              "[5 rows x 8 columns]"
            ]
          },
          "metadata": {
            "tags": []
          },
          "execution_count": 26
        }
      ]
    },
    {
      "cell_type": "code",
      "metadata": {
        "colab": {
          "base_uri": "https://localhost:8080/"
        },
        "id": "EiS1rnz9wUs3",
        "outputId": "5f7fb375-4ae6-47f8-a751-b0f09e7fddd3"
      },
      "source": [
        "fill_desc['StockCode'].value_counts()[fill_desc.StockCode.value_counts()>1]"
      ],
      "execution_count": 27,
      "outputs": [
        {
          "output_type": "execute_result",
          "data": {
            "text/plain": [
              "23236     4\n",
              "23196     4\n",
              "23396     3\n",
              "17107D    3\n",
              "23244     3\n",
              "         ..\n",
              "21928     2\n",
              "23194     2\n",
              "20725     2\n",
              "23380     2\n",
              "23545     2\n",
              "Name: StockCode, Length: 213, dtype: int64"
            ]
          },
          "metadata": {
            "tags": []
          },
          "execution_count": 27
        }
      ]
    },
    {
      "cell_type": "markdown",
      "metadata": {
        "id": "WXgwSDUmxnvM"
      },
      "source": [
        "- There are 213 Stock code with multiple descriptions"
      ]
    },
    {
      "cell_type": "code",
      "metadata": {
        "scrolled": true,
        "id": "dnbCv_-l5MsD",
        "colab": {
          "base_uri": "https://localhost:8080/"
        },
        "outputId": "b554342e-f86a-4b30-e344-ef93e8b145f0"
      },
      "source": [
        "# Example of a stockcode which has multiple Descriptions\r\n",
        "data1[data1['StockCode'] == 23196]['Description'].unique()"
      ],
      "execution_count": 28,
      "outputs": [
        {
          "output_type": "execute_result",
          "data": {
            "text/plain": [
              "array(['RETRO LEAVES MAGNETIC NOTEPAD',\n",
              "       'RETO LEAVES MAGNETIC SHOPPING LIST',\n",
              "       'LEAVES MAGNETIC  SHOPPING LIST', 'VINTAGE LEAF MAGNETIC NOTEPAD'],\n",
              "      dtype=object)"
            ]
          },
          "metadata": {
            "tags": []
          },
          "execution_count": 28
        }
      ]
    },
    {
      "cell_type": "markdown",
      "metadata": {
        "id": "QWt_VSGiQYh_"
      },
      "source": [
        "**Observations:** \r\n",
        "- Data cleaning for multiple descriptions is difficult as its impossible to find the correct description and hence not treating it."
      ]
    },
    {
      "cell_type": "markdown",
      "metadata": {
        "id": "0WoqqtunKEuP"
      },
      "source": [
        "## **Convert Customer Id to Integer type**"
      ]
    },
    {
      "cell_type": "code",
      "metadata": {
        "colab": {
          "base_uri": "https://localhost:8080/",
          "height": 204
        },
        "id": "2MHwWbTmKS0j",
        "outputId": "4e7612c7-ec76-42ac-916f-1ec156fe8664"
      },
      "source": [
        "retail_df = data1.copy()\r\n",
        "retail_df['CustomerID']=retail_df['CustomerID'].astype('int')\r\n",
        "retail_df.head()"
      ],
      "execution_count": 29,
      "outputs": [
        {
          "output_type": "execute_result",
          "data": {
            "text/html": [
              "<div>\n",
              "<style scoped>\n",
              "    .dataframe tbody tr th:only-of-type {\n",
              "        vertical-align: middle;\n",
              "    }\n",
              "\n",
              "    .dataframe tbody tr th {\n",
              "        vertical-align: top;\n",
              "    }\n",
              "\n",
              "    .dataframe thead th {\n",
              "        text-align: right;\n",
              "    }\n",
              "</style>\n",
              "<table border=\"1\" class=\"dataframe\">\n",
              "  <thead>\n",
              "    <tr style=\"text-align: right;\">\n",
              "      <th></th>\n",
              "      <th>InvoiceNo</th>\n",
              "      <th>StockCode</th>\n",
              "      <th>Description</th>\n",
              "      <th>Quantity</th>\n",
              "      <th>InvoiceDate</th>\n",
              "      <th>UnitPrice</th>\n",
              "      <th>CustomerID</th>\n",
              "      <th>Country</th>\n",
              "    </tr>\n",
              "  </thead>\n",
              "  <tbody>\n",
              "    <tr>\n",
              "      <th>0</th>\n",
              "      <td>536365</td>\n",
              "      <td>85123A</td>\n",
              "      <td>WHITE HANGING HEART T-LIGHT HOLDER</td>\n",
              "      <td>6</td>\n",
              "      <td>2010-12-01 08:26:00</td>\n",
              "      <td>2.55</td>\n",
              "      <td>17850</td>\n",
              "      <td>United Kingdom</td>\n",
              "    </tr>\n",
              "    <tr>\n",
              "      <th>1</th>\n",
              "      <td>536365</td>\n",
              "      <td>71053</td>\n",
              "      <td>WHITE METAL LANTERN</td>\n",
              "      <td>6</td>\n",
              "      <td>2010-12-01 08:26:00</td>\n",
              "      <td>3.39</td>\n",
              "      <td>17850</td>\n",
              "      <td>United Kingdom</td>\n",
              "    </tr>\n",
              "    <tr>\n",
              "      <th>2</th>\n",
              "      <td>536365</td>\n",
              "      <td>84406B</td>\n",
              "      <td>CREAM CUPID HEARTS COAT HANGER</td>\n",
              "      <td>8</td>\n",
              "      <td>2010-12-01 08:26:00</td>\n",
              "      <td>2.75</td>\n",
              "      <td>17850</td>\n",
              "      <td>United Kingdom</td>\n",
              "    </tr>\n",
              "    <tr>\n",
              "      <th>3</th>\n",
              "      <td>536365</td>\n",
              "      <td>84029G</td>\n",
              "      <td>KNITTED UNION FLAG HOT WATER BOTTLE</td>\n",
              "      <td>6</td>\n",
              "      <td>2010-12-01 08:26:00</td>\n",
              "      <td>3.39</td>\n",
              "      <td>17850</td>\n",
              "      <td>United Kingdom</td>\n",
              "    </tr>\n",
              "    <tr>\n",
              "      <th>4</th>\n",
              "      <td>536365</td>\n",
              "      <td>84029E</td>\n",
              "      <td>RED WOOLLY HOTTIE WHITE HEART.</td>\n",
              "      <td>6</td>\n",
              "      <td>2010-12-01 08:26:00</td>\n",
              "      <td>3.39</td>\n",
              "      <td>17850</td>\n",
              "      <td>United Kingdom</td>\n",
              "    </tr>\n",
              "  </tbody>\n",
              "</table>\n",
              "</div>"
            ],
            "text/plain": [
              "  InvoiceNo StockCode  ... CustomerID         Country\n",
              "0    536365    85123A  ...      17850  United Kingdom\n",
              "1    536365     71053  ...      17850  United Kingdom\n",
              "2    536365    84406B  ...      17850  United Kingdom\n",
              "3    536365    84029G  ...      17850  United Kingdom\n",
              "4    536365    84029E  ...      17850  United Kingdom\n",
              "\n",
              "[5 rows x 8 columns]"
            ]
          },
          "metadata": {
            "tags": []
          },
          "execution_count": 29
        }
      ]
    },
    {
      "cell_type": "markdown",
      "metadata": {
        "id": "NUpTJvLrKyi5"
      },
      "source": [
        "## **Feature Engineering - Total_Price, Date, Year, Quarter, Year_Month, Month, Day, Hour**"
      ]
    },
    {
      "cell_type": "code",
      "metadata": {
        "colab": {
          "base_uri": "https://localhost:8080/",
          "height": 204
        },
        "id": "1pZLYq04KyJ9",
        "outputId": "58f3929c-6cb2-4405-b2b6-eb1af40ef0df"
      },
      "source": [
        "retail_df['Total_Price'] = retail_df['UnitPrice'] * retail_df['Quantity']\r\n",
        "retail_df.head()"
      ],
      "execution_count": 30,
      "outputs": [
        {
          "output_type": "execute_result",
          "data": {
            "text/html": [
              "<div>\n",
              "<style scoped>\n",
              "    .dataframe tbody tr th:only-of-type {\n",
              "        vertical-align: middle;\n",
              "    }\n",
              "\n",
              "    .dataframe tbody tr th {\n",
              "        vertical-align: top;\n",
              "    }\n",
              "\n",
              "    .dataframe thead th {\n",
              "        text-align: right;\n",
              "    }\n",
              "</style>\n",
              "<table border=\"1\" class=\"dataframe\">\n",
              "  <thead>\n",
              "    <tr style=\"text-align: right;\">\n",
              "      <th></th>\n",
              "      <th>InvoiceNo</th>\n",
              "      <th>StockCode</th>\n",
              "      <th>Description</th>\n",
              "      <th>Quantity</th>\n",
              "      <th>InvoiceDate</th>\n",
              "      <th>UnitPrice</th>\n",
              "      <th>CustomerID</th>\n",
              "      <th>Country</th>\n",
              "      <th>Total_Price</th>\n",
              "    </tr>\n",
              "  </thead>\n",
              "  <tbody>\n",
              "    <tr>\n",
              "      <th>0</th>\n",
              "      <td>536365</td>\n",
              "      <td>85123A</td>\n",
              "      <td>WHITE HANGING HEART T-LIGHT HOLDER</td>\n",
              "      <td>6</td>\n",
              "      <td>2010-12-01 08:26:00</td>\n",
              "      <td>2.55</td>\n",
              "      <td>17850</td>\n",
              "      <td>United Kingdom</td>\n",
              "      <td>15.30</td>\n",
              "    </tr>\n",
              "    <tr>\n",
              "      <th>1</th>\n",
              "      <td>536365</td>\n",
              "      <td>71053</td>\n",
              "      <td>WHITE METAL LANTERN</td>\n",
              "      <td>6</td>\n",
              "      <td>2010-12-01 08:26:00</td>\n",
              "      <td>3.39</td>\n",
              "      <td>17850</td>\n",
              "      <td>United Kingdom</td>\n",
              "      <td>20.34</td>\n",
              "    </tr>\n",
              "    <tr>\n",
              "      <th>2</th>\n",
              "      <td>536365</td>\n",
              "      <td>84406B</td>\n",
              "      <td>CREAM CUPID HEARTS COAT HANGER</td>\n",
              "      <td>8</td>\n",
              "      <td>2010-12-01 08:26:00</td>\n",
              "      <td>2.75</td>\n",
              "      <td>17850</td>\n",
              "      <td>United Kingdom</td>\n",
              "      <td>22.00</td>\n",
              "    </tr>\n",
              "    <tr>\n",
              "      <th>3</th>\n",
              "      <td>536365</td>\n",
              "      <td>84029G</td>\n",
              "      <td>KNITTED UNION FLAG HOT WATER BOTTLE</td>\n",
              "      <td>6</td>\n",
              "      <td>2010-12-01 08:26:00</td>\n",
              "      <td>3.39</td>\n",
              "      <td>17850</td>\n",
              "      <td>United Kingdom</td>\n",
              "      <td>20.34</td>\n",
              "    </tr>\n",
              "    <tr>\n",
              "      <th>4</th>\n",
              "      <td>536365</td>\n",
              "      <td>84029E</td>\n",
              "      <td>RED WOOLLY HOTTIE WHITE HEART.</td>\n",
              "      <td>6</td>\n",
              "      <td>2010-12-01 08:26:00</td>\n",
              "      <td>3.39</td>\n",
              "      <td>17850</td>\n",
              "      <td>United Kingdom</td>\n",
              "      <td>20.34</td>\n",
              "    </tr>\n",
              "  </tbody>\n",
              "</table>\n",
              "</div>"
            ],
            "text/plain": [
              "  InvoiceNo StockCode  ...         Country  Total_Price\n",
              "0    536365    85123A  ...  United Kingdom        15.30\n",
              "1    536365     71053  ...  United Kingdom        20.34\n",
              "2    536365    84406B  ...  United Kingdom        22.00\n",
              "3    536365    84029G  ...  United Kingdom        20.34\n",
              "4    536365    84029E  ...  United Kingdom        20.34\n",
              "\n",
              "[5 rows x 9 columns]"
            ]
          },
          "metadata": {
            "tags": []
          },
          "execution_count": 30
        }
      ]
    },
    {
      "cell_type": "code",
      "metadata": {
        "colab": {
          "base_uri": "https://localhost:8080/",
          "height": 357
        },
        "id": "JfR9CsmYL3CX",
        "outputId": "ce209e1d-2eb4-4413-b2c6-7071f959a650"
      },
      "source": [
        "retail_df.insert(loc=5, column='Date', value=retail_df['InvoiceDate'].dt.date)\r\n",
        "retail_df.insert(loc=6, column='Year', value=retail_df['InvoiceDate'].dt.year)\r\n",
        "retail_df.insert(loc=7, column='Year_Month', value=retail_df['InvoiceDate'].apply(lambda x: x.strftime('%Y-%m')))\r\n",
        "retail_df.insert(loc=8, column='Quarter', value=retail_df['InvoiceDate'].dt.quarter)\r\n",
        "retail_df.insert(loc=9, column='Month', value=retail_df['InvoiceDate'].dt.month)\r\n",
        "retail_df.insert(loc=10, column='Day', value=retail_df['InvoiceDate'].dt.dayofweek)  \r\n",
        "retail_df.insert(loc=11, column='Hour', value=retail_df['InvoiceDate'].dt.hour)\r\n",
        "retail_df.head()"
      ],
      "execution_count": 31,
      "outputs": [
        {
          "output_type": "execute_result",
          "data": {
            "text/html": [
              "<div>\n",
              "<style scoped>\n",
              "    .dataframe tbody tr th:only-of-type {\n",
              "        vertical-align: middle;\n",
              "    }\n",
              "\n",
              "    .dataframe tbody tr th {\n",
              "        vertical-align: top;\n",
              "    }\n",
              "\n",
              "    .dataframe thead th {\n",
              "        text-align: right;\n",
              "    }\n",
              "</style>\n",
              "<table border=\"1\" class=\"dataframe\">\n",
              "  <thead>\n",
              "    <tr style=\"text-align: right;\">\n",
              "      <th></th>\n",
              "      <th>InvoiceNo</th>\n",
              "      <th>StockCode</th>\n",
              "      <th>Description</th>\n",
              "      <th>Quantity</th>\n",
              "      <th>InvoiceDate</th>\n",
              "      <th>Date</th>\n",
              "      <th>Year</th>\n",
              "      <th>Year_Month</th>\n",
              "      <th>Quarter</th>\n",
              "      <th>Month</th>\n",
              "      <th>Day</th>\n",
              "      <th>Hour</th>\n",
              "      <th>UnitPrice</th>\n",
              "      <th>CustomerID</th>\n",
              "      <th>Country</th>\n",
              "      <th>Total_Price</th>\n",
              "    </tr>\n",
              "  </thead>\n",
              "  <tbody>\n",
              "    <tr>\n",
              "      <th>0</th>\n",
              "      <td>536365</td>\n",
              "      <td>85123A</td>\n",
              "      <td>WHITE HANGING HEART T-LIGHT HOLDER</td>\n",
              "      <td>6</td>\n",
              "      <td>2010-12-01 08:26:00</td>\n",
              "      <td>2010-12-01</td>\n",
              "      <td>2010</td>\n",
              "      <td>2010-12</td>\n",
              "      <td>4</td>\n",
              "      <td>12</td>\n",
              "      <td>2</td>\n",
              "      <td>8</td>\n",
              "      <td>2.55</td>\n",
              "      <td>17850</td>\n",
              "      <td>United Kingdom</td>\n",
              "      <td>15.30</td>\n",
              "    </tr>\n",
              "    <tr>\n",
              "      <th>1</th>\n",
              "      <td>536365</td>\n",
              "      <td>71053</td>\n",
              "      <td>WHITE METAL LANTERN</td>\n",
              "      <td>6</td>\n",
              "      <td>2010-12-01 08:26:00</td>\n",
              "      <td>2010-12-01</td>\n",
              "      <td>2010</td>\n",
              "      <td>2010-12</td>\n",
              "      <td>4</td>\n",
              "      <td>12</td>\n",
              "      <td>2</td>\n",
              "      <td>8</td>\n",
              "      <td>3.39</td>\n",
              "      <td>17850</td>\n",
              "      <td>United Kingdom</td>\n",
              "      <td>20.34</td>\n",
              "    </tr>\n",
              "    <tr>\n",
              "      <th>2</th>\n",
              "      <td>536365</td>\n",
              "      <td>84406B</td>\n",
              "      <td>CREAM CUPID HEARTS COAT HANGER</td>\n",
              "      <td>8</td>\n",
              "      <td>2010-12-01 08:26:00</td>\n",
              "      <td>2010-12-01</td>\n",
              "      <td>2010</td>\n",
              "      <td>2010-12</td>\n",
              "      <td>4</td>\n",
              "      <td>12</td>\n",
              "      <td>2</td>\n",
              "      <td>8</td>\n",
              "      <td>2.75</td>\n",
              "      <td>17850</td>\n",
              "      <td>United Kingdom</td>\n",
              "      <td>22.00</td>\n",
              "    </tr>\n",
              "    <tr>\n",
              "      <th>3</th>\n",
              "      <td>536365</td>\n",
              "      <td>84029G</td>\n",
              "      <td>KNITTED UNION FLAG HOT WATER BOTTLE</td>\n",
              "      <td>6</td>\n",
              "      <td>2010-12-01 08:26:00</td>\n",
              "      <td>2010-12-01</td>\n",
              "      <td>2010</td>\n",
              "      <td>2010-12</td>\n",
              "      <td>4</td>\n",
              "      <td>12</td>\n",
              "      <td>2</td>\n",
              "      <td>8</td>\n",
              "      <td>3.39</td>\n",
              "      <td>17850</td>\n",
              "      <td>United Kingdom</td>\n",
              "      <td>20.34</td>\n",
              "    </tr>\n",
              "    <tr>\n",
              "      <th>4</th>\n",
              "      <td>536365</td>\n",
              "      <td>84029E</td>\n",
              "      <td>RED WOOLLY HOTTIE WHITE HEART.</td>\n",
              "      <td>6</td>\n",
              "      <td>2010-12-01 08:26:00</td>\n",
              "      <td>2010-12-01</td>\n",
              "      <td>2010</td>\n",
              "      <td>2010-12</td>\n",
              "      <td>4</td>\n",
              "      <td>12</td>\n",
              "      <td>2</td>\n",
              "      <td>8</td>\n",
              "      <td>3.39</td>\n",
              "      <td>17850</td>\n",
              "      <td>United Kingdom</td>\n",
              "      <td>20.34</td>\n",
              "    </tr>\n",
              "  </tbody>\n",
              "</table>\n",
              "</div>"
            ],
            "text/plain": [
              "  InvoiceNo StockCode  ...         Country  Total_Price\n",
              "0    536365    85123A  ...  United Kingdom        15.30\n",
              "1    536365     71053  ...  United Kingdom        20.34\n",
              "2    536365    84406B  ...  United Kingdom        22.00\n",
              "3    536365    84029G  ...  United Kingdom        20.34\n",
              "4    536365    84029E  ...  United Kingdom        20.34\n",
              "\n",
              "[5 rows x 16 columns]"
            ]
          },
          "metadata": {
            "tags": []
          },
          "execution_count": 31
        }
      ]
    },
    {
      "cell_type": "code",
      "metadata": {
        "colab": {
          "base_uri": "https://localhost:8080/",
          "height": 376
        },
        "id": "krat7EnPZptN",
        "outputId": "fd9398c4-f1ef-4184-99e4-63b2bb78113e"
      },
      "source": [
        "# Summary of the cleaned data\r\n",
        "Features = retail_df.columns\r\n",
        "\r\n",
        "# Creating a DataFrame with useful information about dataset\r\n",
        "data_info = pd.DataFrame()\r\n",
        "data_info['Features'] = Features\r\n",
        "data_info['unique_values'] = [retail_df[col].nunique() for col in Features]\r\n",
        "data_info['total_null'] = [retail_df[col].isnull().sum() for col in Features]\r\n",
        "data_info['null_percent'] = [retail_df[col].isnull().sum() * 100 / len(retail_df) for col in Features]\r\n",
        "\r\n",
        "data_info.style.background_gradient()"
      ],
      "execution_count": 32,
      "outputs": [
        {
          "output_type": "execute_result",
          "data": {
            "text/html": [
              "<style  type=\"text/css\" >\n",
              "#T_51c89b6c_8101_11eb_aa10_0242ac1c0002row0_col1{\n",
              "            background-color:  #023858;\n",
              "            color:  #f1f1f1;\n",
              "        }#T_51c89b6c_8101_11eb_aa10_0242ac1c0002row0_col2,#T_51c89b6c_8101_11eb_aa10_0242ac1c0002row0_col3,#T_51c89b6c_8101_11eb_aa10_0242ac1c0002row1_col2,#T_51c89b6c_8101_11eb_aa10_0242ac1c0002row1_col3,#T_51c89b6c_8101_11eb_aa10_0242ac1c0002row2_col2,#T_51c89b6c_8101_11eb_aa10_0242ac1c0002row2_col3,#T_51c89b6c_8101_11eb_aa10_0242ac1c0002row3_col2,#T_51c89b6c_8101_11eb_aa10_0242ac1c0002row3_col3,#T_51c89b6c_8101_11eb_aa10_0242ac1c0002row4_col2,#T_51c89b6c_8101_11eb_aa10_0242ac1c0002row4_col3,#T_51c89b6c_8101_11eb_aa10_0242ac1c0002row5_col2,#T_51c89b6c_8101_11eb_aa10_0242ac1c0002row5_col3,#T_51c89b6c_8101_11eb_aa10_0242ac1c0002row6_col1,#T_51c89b6c_8101_11eb_aa10_0242ac1c0002row6_col2,#T_51c89b6c_8101_11eb_aa10_0242ac1c0002row6_col3,#T_51c89b6c_8101_11eb_aa10_0242ac1c0002row7_col1,#T_51c89b6c_8101_11eb_aa10_0242ac1c0002row7_col2,#T_51c89b6c_8101_11eb_aa10_0242ac1c0002row7_col3,#T_51c89b6c_8101_11eb_aa10_0242ac1c0002row8_col1,#T_51c89b6c_8101_11eb_aa10_0242ac1c0002row8_col2,#T_51c89b6c_8101_11eb_aa10_0242ac1c0002row8_col3,#T_51c89b6c_8101_11eb_aa10_0242ac1c0002row9_col1,#T_51c89b6c_8101_11eb_aa10_0242ac1c0002row9_col2,#T_51c89b6c_8101_11eb_aa10_0242ac1c0002row9_col3,#T_51c89b6c_8101_11eb_aa10_0242ac1c0002row10_col1,#T_51c89b6c_8101_11eb_aa10_0242ac1c0002row10_col2,#T_51c89b6c_8101_11eb_aa10_0242ac1c0002row10_col3,#T_51c89b6c_8101_11eb_aa10_0242ac1c0002row11_col1,#T_51c89b6c_8101_11eb_aa10_0242ac1c0002row11_col2,#T_51c89b6c_8101_11eb_aa10_0242ac1c0002row11_col3,#T_51c89b6c_8101_11eb_aa10_0242ac1c0002row12_col2,#T_51c89b6c_8101_11eb_aa10_0242ac1c0002row12_col3,#T_51c89b6c_8101_11eb_aa10_0242ac1c0002row13_col2,#T_51c89b6c_8101_11eb_aa10_0242ac1c0002row13_col3,#T_51c89b6c_8101_11eb_aa10_0242ac1c0002row14_col1,#T_51c89b6c_8101_11eb_aa10_0242ac1c0002row14_col2,#T_51c89b6c_8101_11eb_aa10_0242ac1c0002row14_col3,#T_51c89b6c_8101_11eb_aa10_0242ac1c0002row15_col2,#T_51c89b6c_8101_11eb_aa10_0242ac1c0002row15_col3{\n",
              "            background-color:  #fff7fb;\n",
              "            color:  #000000;\n",
              "        }#T_51c89b6c_8101_11eb_aa10_0242ac1c0002row1_col1{\n",
              "            background-color:  #e3e0ee;\n",
              "            color:  #000000;\n",
              "        }#T_51c89b6c_8101_11eb_aa10_0242ac1c0002row2_col1{\n",
              "            background-color:  #e1dfed;\n",
              "            color:  #000000;\n",
              "        }#T_51c89b6c_8101_11eb_aa10_0242ac1c0002row3_col1{\n",
              "            background-color:  #fcf4fa;\n",
              "            color:  #000000;\n",
              "        }#T_51c89b6c_8101_11eb_aa10_0242ac1c0002row4_col1{\n",
              "            background-color:  #034c78;\n",
              "            color:  #f1f1f1;\n",
              "        }#T_51c89b6c_8101_11eb_aa10_0242ac1c0002row5_col1{\n",
              "            background-color:  #fdf5fa;\n",
              "            color:  #000000;\n",
              "        }#T_51c89b6c_8101_11eb_aa10_0242ac1c0002row12_col1{\n",
              "            background-color:  #fbf3f9;\n",
              "            color:  #000000;\n",
              "        }#T_51c89b6c_8101_11eb_aa10_0242ac1c0002row13_col1{\n",
              "            background-color:  #dcdaeb;\n",
              "            color:  #000000;\n",
              "        }#T_51c89b6c_8101_11eb_aa10_0242ac1c0002row15_col1{\n",
              "            background-color:  #e0dded;\n",
              "            color:  #000000;\n",
              "        }</style><table id=\"T_51c89b6c_8101_11eb_aa10_0242ac1c0002\" ><thead>    <tr>        <th class=\"blank level0\" ></th>        <th class=\"col_heading level0 col0\" >Features</th>        <th class=\"col_heading level0 col1\" >unique_values</th>        <th class=\"col_heading level0 col2\" >total_null</th>        <th class=\"col_heading level0 col3\" >null_percent</th>    </tr></thead><tbody>\n",
              "                <tr>\n",
              "                        <th id=\"T_51c89b6c_8101_11eb_aa10_0242ac1c0002level0_row0\" class=\"row_heading level0 row0\" >0</th>\n",
              "                        <td id=\"T_51c89b6c_8101_11eb_aa10_0242ac1c0002row0_col0\" class=\"data row0 col0\" >InvoiceNo</td>\n",
              "                        <td id=\"T_51c89b6c_8101_11eb_aa10_0242ac1c0002row0_col1\" class=\"data row0 col1\" >22190</td>\n",
              "                        <td id=\"T_51c89b6c_8101_11eb_aa10_0242ac1c0002row0_col2\" class=\"data row0 col2\" >0</td>\n",
              "                        <td id=\"T_51c89b6c_8101_11eb_aa10_0242ac1c0002row0_col3\" class=\"data row0 col3\" >0.000000</td>\n",
              "            </tr>\n",
              "            <tr>\n",
              "                        <th id=\"T_51c89b6c_8101_11eb_aa10_0242ac1c0002level0_row1\" class=\"row_heading level0 row1\" >1</th>\n",
              "                        <td id=\"T_51c89b6c_8101_11eb_aa10_0242ac1c0002row1_col0\" class=\"data row1 col0\" >StockCode</td>\n",
              "                        <td id=\"T_51c89b6c_8101_11eb_aa10_0242ac1c0002row1_col1\" class=\"data row1 col1\" >3684</td>\n",
              "                        <td id=\"T_51c89b6c_8101_11eb_aa10_0242ac1c0002row1_col2\" class=\"data row1 col2\" >0</td>\n",
              "                        <td id=\"T_51c89b6c_8101_11eb_aa10_0242ac1c0002row1_col3\" class=\"data row1 col3\" >0.000000</td>\n",
              "            </tr>\n",
              "            <tr>\n",
              "                        <th id=\"T_51c89b6c_8101_11eb_aa10_0242ac1c0002level0_row2\" class=\"row_heading level0 row2\" >2</th>\n",
              "                        <td id=\"T_51c89b6c_8101_11eb_aa10_0242ac1c0002row2_col0\" class=\"data row2 col0\" >Description</td>\n",
              "                        <td id=\"T_51c89b6c_8101_11eb_aa10_0242ac1c0002row2_col1\" class=\"data row2 col1\" >3896</td>\n",
              "                        <td id=\"T_51c89b6c_8101_11eb_aa10_0242ac1c0002row2_col2\" class=\"data row2 col2\" >0</td>\n",
              "                        <td id=\"T_51c89b6c_8101_11eb_aa10_0242ac1c0002row2_col3\" class=\"data row2 col3\" >0.000000</td>\n",
              "            </tr>\n",
              "            <tr>\n",
              "                        <th id=\"T_51c89b6c_8101_11eb_aa10_0242ac1c0002level0_row3\" class=\"row_heading level0 row3\" >3</th>\n",
              "                        <td id=\"T_51c89b6c_8101_11eb_aa10_0242ac1c0002row3_col0\" class=\"data row3 col0\" >Quantity</td>\n",
              "                        <td id=\"T_51c89b6c_8101_11eb_aa10_0242ac1c0002row3_col1\" class=\"data row3 col1\" >436</td>\n",
              "                        <td id=\"T_51c89b6c_8101_11eb_aa10_0242ac1c0002row3_col2\" class=\"data row3 col2\" >0</td>\n",
              "                        <td id=\"T_51c89b6c_8101_11eb_aa10_0242ac1c0002row3_col3\" class=\"data row3 col3\" >0.000000</td>\n",
              "            </tr>\n",
              "            <tr>\n",
              "                        <th id=\"T_51c89b6c_8101_11eb_aa10_0242ac1c0002level0_row4\" class=\"row_heading level0 row4\" >4</th>\n",
              "                        <td id=\"T_51c89b6c_8101_11eb_aa10_0242ac1c0002row4_col0\" class=\"data row4 col0\" >InvoiceDate</td>\n",
              "                        <td id=\"T_51c89b6c_8101_11eb_aa10_0242ac1c0002row4_col1\" class=\"data row4 col1\" >20460</td>\n",
              "                        <td id=\"T_51c89b6c_8101_11eb_aa10_0242ac1c0002row4_col2\" class=\"data row4 col2\" >0</td>\n",
              "                        <td id=\"T_51c89b6c_8101_11eb_aa10_0242ac1c0002row4_col3\" class=\"data row4 col3\" >0.000000</td>\n",
              "            </tr>\n",
              "            <tr>\n",
              "                        <th id=\"T_51c89b6c_8101_11eb_aa10_0242ac1c0002level0_row5\" class=\"row_heading level0 row5\" >5</th>\n",
              "                        <td id=\"T_51c89b6c_8101_11eb_aa10_0242ac1c0002row5_col0\" class=\"data row5 col0\" >Date</td>\n",
              "                        <td id=\"T_51c89b6c_8101_11eb_aa10_0242ac1c0002row5_col1\" class=\"data row5 col1\" >305</td>\n",
              "                        <td id=\"T_51c89b6c_8101_11eb_aa10_0242ac1c0002row5_col2\" class=\"data row5 col2\" >0</td>\n",
              "                        <td id=\"T_51c89b6c_8101_11eb_aa10_0242ac1c0002row5_col3\" class=\"data row5 col3\" >0.000000</td>\n",
              "            </tr>\n",
              "            <tr>\n",
              "                        <th id=\"T_51c89b6c_8101_11eb_aa10_0242ac1c0002level0_row6\" class=\"row_heading level0 row6\" >6</th>\n",
              "                        <td id=\"T_51c89b6c_8101_11eb_aa10_0242ac1c0002row6_col0\" class=\"data row6 col0\" >Year</td>\n",
              "                        <td id=\"T_51c89b6c_8101_11eb_aa10_0242ac1c0002row6_col1\" class=\"data row6 col1\" >2</td>\n",
              "                        <td id=\"T_51c89b6c_8101_11eb_aa10_0242ac1c0002row6_col2\" class=\"data row6 col2\" >0</td>\n",
              "                        <td id=\"T_51c89b6c_8101_11eb_aa10_0242ac1c0002row6_col3\" class=\"data row6 col3\" >0.000000</td>\n",
              "            </tr>\n",
              "            <tr>\n",
              "                        <th id=\"T_51c89b6c_8101_11eb_aa10_0242ac1c0002level0_row7\" class=\"row_heading level0 row7\" >7</th>\n",
              "                        <td id=\"T_51c89b6c_8101_11eb_aa10_0242ac1c0002row7_col0\" class=\"data row7 col0\" >Year_Month</td>\n",
              "                        <td id=\"T_51c89b6c_8101_11eb_aa10_0242ac1c0002row7_col1\" class=\"data row7 col1\" >13</td>\n",
              "                        <td id=\"T_51c89b6c_8101_11eb_aa10_0242ac1c0002row7_col2\" class=\"data row7 col2\" >0</td>\n",
              "                        <td id=\"T_51c89b6c_8101_11eb_aa10_0242ac1c0002row7_col3\" class=\"data row7 col3\" >0.000000</td>\n",
              "            </tr>\n",
              "            <tr>\n",
              "                        <th id=\"T_51c89b6c_8101_11eb_aa10_0242ac1c0002level0_row8\" class=\"row_heading level0 row8\" >8</th>\n",
              "                        <td id=\"T_51c89b6c_8101_11eb_aa10_0242ac1c0002row8_col0\" class=\"data row8 col0\" >Quarter</td>\n",
              "                        <td id=\"T_51c89b6c_8101_11eb_aa10_0242ac1c0002row8_col1\" class=\"data row8 col1\" >4</td>\n",
              "                        <td id=\"T_51c89b6c_8101_11eb_aa10_0242ac1c0002row8_col2\" class=\"data row8 col2\" >0</td>\n",
              "                        <td id=\"T_51c89b6c_8101_11eb_aa10_0242ac1c0002row8_col3\" class=\"data row8 col3\" >0.000000</td>\n",
              "            </tr>\n",
              "            <tr>\n",
              "                        <th id=\"T_51c89b6c_8101_11eb_aa10_0242ac1c0002level0_row9\" class=\"row_heading level0 row9\" >9</th>\n",
              "                        <td id=\"T_51c89b6c_8101_11eb_aa10_0242ac1c0002row9_col0\" class=\"data row9 col0\" >Month</td>\n",
              "                        <td id=\"T_51c89b6c_8101_11eb_aa10_0242ac1c0002row9_col1\" class=\"data row9 col1\" >12</td>\n",
              "                        <td id=\"T_51c89b6c_8101_11eb_aa10_0242ac1c0002row9_col2\" class=\"data row9 col2\" >0</td>\n",
              "                        <td id=\"T_51c89b6c_8101_11eb_aa10_0242ac1c0002row9_col3\" class=\"data row9 col3\" >0.000000</td>\n",
              "            </tr>\n",
              "            <tr>\n",
              "                        <th id=\"T_51c89b6c_8101_11eb_aa10_0242ac1c0002level0_row10\" class=\"row_heading level0 row10\" >10</th>\n",
              "                        <td id=\"T_51c89b6c_8101_11eb_aa10_0242ac1c0002row10_col0\" class=\"data row10 col0\" >Day</td>\n",
              "                        <td id=\"T_51c89b6c_8101_11eb_aa10_0242ac1c0002row10_col1\" class=\"data row10 col1\" >6</td>\n",
              "                        <td id=\"T_51c89b6c_8101_11eb_aa10_0242ac1c0002row10_col2\" class=\"data row10 col2\" >0</td>\n",
              "                        <td id=\"T_51c89b6c_8101_11eb_aa10_0242ac1c0002row10_col3\" class=\"data row10 col3\" >0.000000</td>\n",
              "            </tr>\n",
              "            <tr>\n",
              "                        <th id=\"T_51c89b6c_8101_11eb_aa10_0242ac1c0002level0_row11\" class=\"row_heading level0 row11\" >11</th>\n",
              "                        <td id=\"T_51c89b6c_8101_11eb_aa10_0242ac1c0002row11_col0\" class=\"data row11 col0\" >Hour</td>\n",
              "                        <td id=\"T_51c89b6c_8101_11eb_aa10_0242ac1c0002row11_col1\" class=\"data row11 col1\" >15</td>\n",
              "                        <td id=\"T_51c89b6c_8101_11eb_aa10_0242ac1c0002row11_col2\" class=\"data row11 col2\" >0</td>\n",
              "                        <td id=\"T_51c89b6c_8101_11eb_aa10_0242ac1c0002row11_col3\" class=\"data row11 col3\" >0.000000</td>\n",
              "            </tr>\n",
              "            <tr>\n",
              "                        <th id=\"T_51c89b6c_8101_11eb_aa10_0242ac1c0002level0_row12\" class=\"row_heading level0 row12\" >12</th>\n",
              "                        <td id=\"T_51c89b6c_8101_11eb_aa10_0242ac1c0002row12_col0\" class=\"data row12 col0\" >UnitPrice</td>\n",
              "                        <td id=\"T_51c89b6c_8101_11eb_aa10_0242ac1c0002row12_col1\" class=\"data row12 col1\" >620</td>\n",
              "                        <td id=\"T_51c89b6c_8101_11eb_aa10_0242ac1c0002row12_col2\" class=\"data row12 col2\" >0</td>\n",
              "                        <td id=\"T_51c89b6c_8101_11eb_aa10_0242ac1c0002row12_col3\" class=\"data row12 col3\" >0.000000</td>\n",
              "            </tr>\n",
              "            <tr>\n",
              "                        <th id=\"T_51c89b6c_8101_11eb_aa10_0242ac1c0002level0_row13\" class=\"row_heading level0 row13\" >13</th>\n",
              "                        <td id=\"T_51c89b6c_8101_11eb_aa10_0242ac1c0002row13_col0\" class=\"data row13 col0\" >CustomerID</td>\n",
              "                        <td id=\"T_51c89b6c_8101_11eb_aa10_0242ac1c0002row13_col1\" class=\"data row13 col1\" >4372</td>\n",
              "                        <td id=\"T_51c89b6c_8101_11eb_aa10_0242ac1c0002row13_col2\" class=\"data row13 col2\" >0</td>\n",
              "                        <td id=\"T_51c89b6c_8101_11eb_aa10_0242ac1c0002row13_col3\" class=\"data row13 col3\" >0.000000</td>\n",
              "            </tr>\n",
              "            <tr>\n",
              "                        <th id=\"T_51c89b6c_8101_11eb_aa10_0242ac1c0002level0_row14\" class=\"row_heading level0 row14\" >14</th>\n",
              "                        <td id=\"T_51c89b6c_8101_11eb_aa10_0242ac1c0002row14_col0\" class=\"data row14 col0\" >Country</td>\n",
              "                        <td id=\"T_51c89b6c_8101_11eb_aa10_0242ac1c0002row14_col1\" class=\"data row14 col1\" >37</td>\n",
              "                        <td id=\"T_51c89b6c_8101_11eb_aa10_0242ac1c0002row14_col2\" class=\"data row14 col2\" >0</td>\n",
              "                        <td id=\"T_51c89b6c_8101_11eb_aa10_0242ac1c0002row14_col3\" class=\"data row14 col3\" >0.000000</td>\n",
              "            </tr>\n",
              "            <tr>\n",
              "                        <th id=\"T_51c89b6c_8101_11eb_aa10_0242ac1c0002level0_row15\" class=\"row_heading level0 row15\" >15</th>\n",
              "                        <td id=\"T_51c89b6c_8101_11eb_aa10_0242ac1c0002row15_col0\" class=\"data row15 col0\" >Total_Price</td>\n",
              "                        <td id=\"T_51c89b6c_8101_11eb_aa10_0242ac1c0002row15_col1\" class=\"data row15 col1\" >4041</td>\n",
              "                        <td id=\"T_51c89b6c_8101_11eb_aa10_0242ac1c0002row15_col2\" class=\"data row15 col2\" >0</td>\n",
              "                        <td id=\"T_51c89b6c_8101_11eb_aa10_0242ac1c0002row15_col3\" class=\"data row15 col3\" >0.000000</td>\n",
              "            </tr>\n",
              "    </tbody></table>"
            ],
            "text/plain": [
              "<pandas.io.formats.style.Styler at 0x7fc0eee6e350>"
            ]
          },
          "metadata": {
            "tags": []
          },
          "execution_count": 32
        }
      ]
    },
    {
      "cell_type": "markdown",
      "metadata": {
        "id": "3e9qPYEDKs64"
      },
      "source": [
        "## **Overall Best Selling products** "
      ]
    },
    {
      "cell_type": "code",
      "metadata": {
        "colab": {
          "base_uri": "https://localhost:8080/"
        },
        "id": "zOFjG8i5KqrE",
        "outputId": "fdab876a-6d30-4801-86d7-33c660c70023"
      },
      "source": [
        "# Top 10 best sellers\r\n",
        "retail_df.groupby(['StockCode','Description'])['Total_Price'].sum().sort_values(ascending=False).head(10)"
      ],
      "execution_count": 33,
      "outputs": [
        {
          "output_type": "execute_result",
          "data": {
            "text/plain": [
              "StockCode  Description                       \n",
              "22423      REGENCY CAKESTAND 3 TIER              132567.70\n",
              "85123A     WHITE HANGING HEART T-LIGHT HOLDER     93767.80\n",
              "85099B     JUMBO BAG RED RETROSPOT                83056.52\n",
              "47566      PARTY BUNTING                          67628.43\n",
              "POST       POSTAGE                                66710.24\n",
              "84879      ASSORTED COLOUR BIRD ORNAMENT          56331.91\n",
              "23084      RABBIT NIGHT LIGHT                     51042.84\n",
              "79321      CHILLI LIGHTS                          45915.41\n",
              "22086      PAPER CHAIN KIT 50'S CHRISTMAS         41423.78\n",
              "22502      PICNIC BASKET WICKER 60 PIECES         39619.50\n",
              "Name: Total_Price, dtype: float64"
            ]
          },
          "metadata": {
            "tags": []
          },
          "execution_count": 33
        }
      ]
    },
    {
      "cell_type": "markdown",
      "metadata": {
        "id": "CMZmiIqtS-KZ"
      },
      "source": [
        "## **Year_Month Sales Trend**"
      ]
    },
    {
      "cell_type": "code",
      "metadata": {
        "colab": {
          "base_uri": "https://localhost:8080/",
          "height": 470
        },
        "id": "xWLdzo3ZSbsk",
        "outputId": "5cea657d-7486-493f-c04c-28416f9a3ce8"
      },
      "source": [
        "plt.figure(figsize=(15,6))\r\n",
        "plt.plot(retail_df.groupby(['Year_Month'])['Total_Price'].sum(), color='b')\r\n",
        "plt.ylabel('Sales')\r\n",
        "plt.xlabel('Year_Month')\r\n",
        "plt.title(\"\\n Sales Trend \\n\", size=25)\r\n",
        "plt.show()"
      ],
      "execution_count": 34,
      "outputs": [
        {
          "output_type": "display_data",
          "data": {
            "image/png": "[encoded data removed]",
            "text/plain": [
              "<Figure size 1080x432 with 1 Axes>"
            ]
          },
          "metadata": {
            "tags": [],
            "needs_background": "light"
          }
        }
      ]
    },
    {
      "cell_type": "markdown",
      "metadata": {
        "id": "iW952DJVUogG"
      },
      "source": [
        "#### **Observations**\r\n",
        "- Sales is high during the month of **November** which could be for various reasons such as Christmas, Thanksgiving and Black Friday sales and the top 10 best selling products also matches the occasion.\r\n",
        "- There is an increasing Trend in the sales and peaks and troughs are seen."
      ]
    },
    {
      "cell_type": "markdown",
      "metadata": {
        "id": "HdASAavlaMB6"
      },
      "source": [
        "## **Year_Quarter wise sales**"
      ]
    },
    {
      "cell_type": "code",
      "metadata": {
        "colab": {
          "base_uri": "https://localhost:8080/",
          "height": 504
        },
        "id": "JHfjMW_fXyo6",
        "outputId": "83eab52c-b06b-43b9-b50d-897e8c18d754"
      },
      "source": [
        "plt.figure(figsize=(15,6))\r\n",
        "retail_df.groupby(['Year','Quarter'])['Total_Price'].sum().plot(kind='bar') \r\n",
        "plt.ylabel('Sales')\r\n",
        "plt.title(\"\\n Year-Quarter wise sales \\n\", size=25)\r\n",
        "plt.show()"
      ],
      "execution_count": 35,
      "outputs": [
        {
          "output_type": "display_data",
          "data": {
            "image/png": "[encoded data removed]",
            "text/plain": [
              "<Figure size 1080x432 with 1 Axes>"
            ]
          },
          "metadata": {
            "tags": [],
            "needs_background": "light"
          }
        }
      ]
    },
    {
      "cell_type": "markdown",
      "metadata": {
        "id": "vbuFr5gEaS9K"
      },
      "source": [
        "## **Percentage of sales in November in 2011**"
      ]
    },
    {
      "cell_type": "code",
      "metadata": {
        "colab": {
          "base_uri": "https://localhost:8080/"
        },
        "id": "Pb3qjy6Jab7i",
        "outputId": "3edd49ba-950f-4215-e7f7-d372761fafd9"
      },
      "source": [
        "Nov_sales_2011 = retail_df[retail_df['Year_Month'] == '2011-11']['Total_Price'].sum()\r\n",
        "Tot_sales_2011 = retail_df.groupby(['Year'])['Total_Price'].sum()[1:]\r\n",
        "Nov_sales_2011,Tot_sales_2011"
      ],
      "execution_count": 36,
      "outputs": [
        {
          "output_type": "execute_result",
          "data": {
            "text/plain": [
              "(1126815.07, Year\n",
              " 2011    7.726147e+06\n",
              " Name: Total_Price, dtype: float64)"
            ]
          },
          "metadata": {
            "tags": []
          },
          "execution_count": 36
        }
      ]
    },
    {
      "cell_type": "code",
      "metadata": {
        "colab": {
          "base_uri": "https://localhost:8080/"
        },
        "id": "PtirHduha9rv",
        "outputId": "0c39e11c-9379-438b-8694-d1345a5a0a85"
      },
      "source": [
        "1126815.07/7.726147e+06*100"
      ],
      "execution_count": 37,
      "outputs": [
        {
          "output_type": "execute_result",
          "data": {
            "text/plain": [
              "14.58443736574"
            ]
          },
          "metadata": {
            "tags": []
          },
          "execution_count": 37
        }
      ]
    },
    {
      "cell_type": "markdown",
      "metadata": {
        "id": "mHgPlNaucC4P"
      },
      "source": [
        "#### **Observations**\r\n",
        "- **14.58%** of the total sales in the year 2011 is contributed by the month November"
      ]
    },
    {
      "cell_type": "markdown",
      "metadata": {
        "id": "g-tl6wkFg5Et"
      },
      "source": [
        "## **Day of week Sales**"
      ]
    },
    {
      "cell_type": "code",
      "metadata": {
        "colab": {
          "base_uri": "https://localhost:8080/",
          "height": 469
        },
        "id": "YauQ0HyvdPoS",
        "outputId": "4fc0ed76-a8e6-4e60-d1f8-8608c3e02b61"
      },
      "source": [
        "DOW_sales = pd.DataFrame(retail_df.groupby('Day')['Total_Price'].sum())\r\n",
        "plt.figure(figsize=(15,6))\r\n",
        "plt.bar(DOW_sales.index,DOW_sales['Total_Price'])\r\n",
        "plt.ylabel('Sales')\r\n",
        "plt.xlabel('Day of week')\r\n",
        "plt.title(\"\\n Day of Week sales \\n\", size=25)\r\n",
        "plt.show()"
      ],
      "execution_count": 38,
      "outputs": [
        {
          "output_type": "display_data",
          "data": {
            "image/png": "[encoded data removed]",
            "text/plain": [
              "<Figure size 1080x432 with 1 Axes>"
            ]
          },
          "metadata": {
            "tags": [],
            "needs_background": "light"
          }
        }
      ]
    },
    {
      "cell_type": "markdown",
      "metadata": {
        "id": "mvsAa1WFhq2-"
      },
      "source": [
        "#### **Observations**\r\n",
        "- More sales on day 3 of the week (Thursday)."
      ]
    },
    {
      "cell_type": "markdown",
      "metadata": {
        "id": "imApxaiPHlWM"
      },
      "source": [
        "## **Sales Trend On November**"
      ]
    },
    {
      "cell_type": "code",
      "metadata": {
        "colab": {
          "base_uri": "https://localhost:8080/",
          "height": 414
        },
        "id": "rBFWDIAmG_ck",
        "outputId": "659e77d0-fa0a-4bc3-9cf7-b1ecf63d518e"
      },
      "source": [
        "plt.figure(figsize=(16,5))\r\n",
        "plt.plot(retail_df[retail_df['Year_Month'] == '2011-11'].groupby('Date')['Total_Price'].sum(), color='b')\r\n",
        "plt.ylabel('Sales')\r\n",
        "plt.xlabel('Date')\r\n",
        "plt.title(\"\\n Sales Trend on November \\n\", size=25)\r\n",
        "plt.show()"
      ],
      "execution_count": 39,
      "outputs": [
        {
          "output_type": "display_data",
          "data": {
            "image/png": "[encoded data removed]",
            "text/plain": [
              "<Figure size 1152x360 with 1 Axes>"
            ]
          },
          "metadata": {
            "tags": [],
            "needs_background": "light"
          }
        }
      ]
    },
    {
      "cell_type": "markdown",
      "metadata": {
        "id": "FaFP_AFNH9ua"
      },
      "source": [
        "#### **Observations**\r\n",
        "- Sales have high peaks on 9th of November and 24th of November(Black Friday Sales)"
      ]
    },
    {
      "cell_type": "markdown",
      "metadata": {
        "id": "-ytiYbs3iLI0"
      },
      "source": [
        "## **Hourly sales**"
      ]
    },
    {
      "cell_type": "code",
      "metadata": {
        "colab": {
          "base_uri": "https://localhost:8080/",
          "height": 471
        },
        "id": "J8hsnVfviN7N",
        "outputId": "aa7469f4-630d-45d0-dd88-c2539ef012c6"
      },
      "source": [
        "plt.figure(figsize=(15,6))\r\n",
        "retail_df.groupby(['Hour'])['Total_Price'].sum().plot(kind='bar') \r\n",
        "plt.ylabel('Sales')\r\n",
        "plt.xlabel('Hour of the day')\r\n",
        "plt.title(\"\\n Hourly sales \\n\", size=25)\r\n",
        "plt.show()"
      ],
      "execution_count": 40,
      "outputs": [
        {
          "output_type": "display_data",
          "data": {
            "image/png": "[encoded data removed]",
            "text/plain": [
              "<Figure size 1080x432 with 1 Axes>"
            ]
          },
          "metadata": {
            "tags": [],
            "needs_background": "light"
          }
        }
      ]
    },
    {
      "cell_type": "markdown",
      "metadata": {
        "id": "SjyOVxTxisLf"
      },
      "source": [
        "#### **Observations**\r\n",
        "- Peak hours are around mid of the day which results in high sales."
      ]
    },
    {
      "cell_type": "markdown",
      "metadata": {
        "id": "w7uOMeGJkm4n"
      },
      "source": [
        "## **Most ordered customers**"
      ]
    },
    {
      "cell_type": "code",
      "metadata": {
        "colab": {
          "base_uri": "https://localhost:8080/",
          "height": 491
        },
        "id": "DishZSm-klVt",
        "outputId": "f9a69cb3-a93f-4527-b07e-98030e8d0f67"
      },
      "source": [
        "plt.figure(figsize=(15,6))\r\n",
        "# Filtering only Quantity > 0, which only considers the orders which wasn't cancelled.\r\n",
        "top_10_customers = retail_df[retail_df['Quantity']>0].groupby(['CustomerID'])['InvoiceNo'].nunique().nlargest(10)\r\n",
        "top_10_customers.plot(kind='bar')\r\n",
        "plt.ylabel('Order count')\r\n",
        "plt.xlabel('Customer ID')\r\n",
        "plt.title(\"\\n Most ordered customers \\n\", size=25)\r\n",
        "plt.show()"
      ],
      "execution_count": 41,
      "outputs": [
        {
          "output_type": "display_data",
          "data": {
            "image/png": "[encoded data removed]",
            "text/plain": [
              "<Figure size 1080x432 with 1 Axes>"
            ]
          },
          "metadata": {
            "tags": [],
            "needs_background": "light"
          }
        }
      ]
    },
    {
      "cell_type": "code",
      "metadata": {
        "colab": {
          "base_uri": "https://localhost:8080/"
        },
        "id": "aZHIJf1Vj54q",
        "outputId": "4e04e740-e03d-4f73-cf5c-3bda5321f9f1"
      },
      "source": [
        "retail_df[retail_df['CustomerID'].isin(top_10_customers.index)]['Country'].unique()"
      ],
      "execution_count": 42,
      "outputs": [
        {
          "output_type": "execute_result",
          "data": {
            "text/plain": [
              "array(['United Kingdom', 'EIRE', 'Netherlands'], dtype=object)"
            ]
          },
          "metadata": {
            "tags": []
          },
          "execution_count": 42
        }
      ]
    },
    {
      "cell_type": "markdown",
      "metadata": {
        "id": "rHrBMnLclFNz"
      },
      "source": [
        "#### **Observations**\r\n",
        "- The Top 10 Customers who has placed most of the orders belongs to the Country UK, EIRE and Netherlands."
      ]
    },
    {
      "cell_type": "markdown",
      "metadata": {
        "id": "7SnY2EPcmVld"
      },
      "source": [
        "## **Most Cancelled Customers**"
      ]
    },
    {
      "cell_type": "code",
      "metadata": {
        "colab": {
          "base_uri": "https://localhost:8080/",
          "height": 490
        },
        "id": "tXRowVMWmZAk",
        "outputId": "d4c5ae08-db5f-41e5-e587-8a865f63e5e5"
      },
      "source": [
        "plt.figure(figsize=(15,6))\r\n",
        "# Filtering only Quantity < 0, which only considers the orders which was cancelled.\r\n",
        "top_10_customers_c = retail_df[retail_df['Quantity']<0].groupby(['CustomerID'])['InvoiceNo'].nunique().nlargest(10)\r\n",
        "top_10_customers_c.plot(kind='bar')\r\n",
        "plt.ylabel('Order count')\r\n",
        "plt.xlabel('Customer ID')\r\n",
        "plt.title(\"\\n Customers who cancelled orders the most \\n\", size=25)\r\n",
        "plt.show()"
      ],
      "execution_count": 43,
      "outputs": [
        {
          "output_type": "display_data",
          "data": {
            "image/png": "[encoded data removed]",
            "text/plain": [
              "<Figure size 1080x432 with 1 Axes>"
            ]
          },
          "metadata": {
            "tags": [],
            "needs_background": "light"
          }
        }
      ]
    },
    {
      "cell_type": "code",
      "metadata": {
        "colab": {
          "base_uri": "https://localhost:8080/"
        },
        "id": "b2WhM_AAm5cc",
        "outputId": "bb0f95c2-7ff8-4aa4-e9bc-0406a8b149e7"
      },
      "source": [
        "retail_df[retail_df['CustomerID'].isin(top_10_customers_c.index)]['Country'].unique()"
      ],
      "execution_count": 44,
      "outputs": [
        {
          "output_type": "execute_result",
          "data": {
            "text/plain": [
              "array(['United Kingdom', 'EIRE', 'Germany'], dtype=object)"
            ]
          },
          "metadata": {
            "tags": []
          },
          "execution_count": 44
        }
      ]
    },
    {
      "cell_type": "markdown",
      "metadata": {
        "id": "9gcuK4_Nm76-"
      },
      "source": [
        "#### **Observations**\r\n",
        "- The Top 10 Customers who has Cancelled most of the orders belongs to the Country UK, EIRE, Germany.\r\n",
        "- Customers who topped most placed orders also have cancelled most of the orders. This could be because of the reason that these customers transacted more, so the cancellations could be more compared to other customers."
      ]
    },
    {
      "cell_type": "markdown",
      "metadata": {
        "id": "R-bvr3DERh1Y"
      },
      "source": [
        "## **Which Country has highest sales?**"
      ]
    },
    {
      "cell_type": "code",
      "metadata": {
        "colab": {
          "base_uri": "https://localhost:8080/",
          "height": 357
        },
        "id": "0dm-te6FRrM2",
        "outputId": "8bf3c085-8961-4654-b9fa-4cb6b81bf4c7"
      },
      "source": [
        "plt.figure(figsize=(15,6))\r\n",
        "retail_df.groupby(['Country'])['Total_Price'].sum().nlargest(5).plot(kind='pie',autopct='%1.2f%%') \r\n",
        "plt.show()"
      ],
      "execution_count": 45,
      "outputs": [
        {
          "output_type": "display_data",
          "data": {
            "image/png": "[encoded data removed]",
            "text/plain": [
              "<Figure size 1080x432 with 1 Axes>"
            ]
          },
          "metadata": {
            "tags": []
          }
        }
      ]
    },
    {
      "cell_type": "markdown",
      "metadata": {
        "id": "wasSgSKESI9y"
      },
      "source": [
        "#### **Observations**\r\n",
        "- Out of total sales across countries, UK has contributed 87.63% in terms of sales. This means it should also have large market base. "
      ]
    },
    {
      "cell_type": "markdown",
      "metadata": {
        "id": "qwI_2U2TU_FL"
      },
      "source": [
        "## **Total Number of Customers in each country**"
      ]
    },
    {
      "cell_type": "code",
      "metadata": {
        "colab": {
          "base_uri": "https://localhost:8080/",
          "height": 357
        },
        "id": "Qd46B2dHVHMA",
        "outputId": "88fb0302-c80a-4ab3-f0df-9fbf67d0e322"
      },
      "source": [
        "plt.figure(figsize=(15,6))\r\n",
        "retail_df.groupby(['Country'])['CustomerID'].nunique().nlargest(5).plot(kind='pie',autopct='%1.2f%%') \r\n",
        "plt.show()"
      ],
      "execution_count": 46,
      "outputs": [
        {
          "output_type": "display_data",
          "data": {
            "image/png": "[encoded data removed]",
            "text/plain": [
              "<Figure size 1080x432 with 1 Axes>"
            ]
          },
          "metadata": {
            "tags": []
          }
        }
      ]
    },
    {
      "cell_type": "markdown",
      "metadata": {
        "id": "GROU44UxVswI"
      },
      "source": [
        "#### **Observations**\r\n",
        "- The customer base in UK is very large and 94.32% of the total customers are from UK. \r\n",
        "- This shows further analysis for the UK is required to understand its customers and what possible future opportunities the UK market has to offer.  "
      ]
    },
    {
      "cell_type": "code",
      "metadata": {
        "id": "Qi--PgXVX0rQ"
      },
      "source": [
        "# Exporting the treated/cleaned dataset\r\n",
        "#with open('/content/drive/MyDrive/new_file.csv', 'w') as new_file:\r\n",
        "#  retail_df.to_csv(new_file, index=False) "
      ],
      "execution_count": 47,
      "outputs": []
    }
  ]
}
