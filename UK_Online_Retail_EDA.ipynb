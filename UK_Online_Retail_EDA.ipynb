{
  "nbformat": 4,
  "nbformat_minor": 0,
  "metadata": {
    "kernelspec": {
      "display_name": "Python 3",
      "language": "python",
      "name": "python3"
    },
    "language_info": {
      "codemirror_mode": {
        "name": "ipython",
        "version": 3
      },
      "file_extension": ".py",
      "mimetype": "text/x-python",
      "name": "python",
      "nbconvert_exporter": "python",
      "pygments_lexer": "ipython3",
      "version": "3.6.3"
    },
    "colab": {
      "name": "UK_Online_Retail_ EDA.ipynb",
      "provenance": [],
      "collapsed_sections": []
    },
    "accelerator": "GPU"
  },
  "cells": [
    {
      "cell_type": "markdown",
      "metadata": {
        "id": "hsDOyUExQYhI"
      },
      "source": [
        "# Analysis on Online_Retail data for UK based market."
      ]
    },
    {
      "cell_type": "markdown",
      "metadata": {
        "id": "WqNfJ6RsQYhK"
      },
      "source": [
        "- From the Initial analysis, its understood that majority of the customer base is in UK with 94.32% of the total customers and total sales in UK constitutes about 87.63%.\r\n",
        "- This shows further analysis for the UK is required to understand its customers and what possible future opportunities the UK market has to offer."
      ]
    },
    {
      "cell_type": "code",
      "metadata": {
        "id": "GlGrRuHoQYhL"
      },
      "source": [
        "import numpy as np\n",
        "import pandas as pd\n",
        "import matplotlib.pyplot as plt\n",
        "import seaborn as sns\n",
        "import warnings\n",
        "warnings.filterwarnings('ignore')\n",
        "sns.set_style('darkgrid')"
      ],
      "execution_count": 1,
      "outputs": []
    },
    {
      "cell_type": "markdown",
      "metadata": {
        "id": "shiVSk8IQYhQ"
      },
      "source": [
        "# **Exploratory Data Analysis**"
      ]
    },
    {
      "cell_type": "code",
      "metadata": {
        "colab": {
          "base_uri": "https://localhost:8080/"
        },
        "id": "c9o3g8qMFIpC",
        "outputId": "fc0ac7e8-73f6-44c5-f3a1-db41749b7cb2"
      },
      "source": [
        "from google.colab import drive\n",
        "drive.mount('/content/drive')"
      ],
      "execution_count": 2,
      "outputs": [
        {
          "output_type": "stream",
          "text": [
            "Drive already mounted at /content/drive; to attempt to forcibly remount, call drive.mount(\"/content/drive\", force_remount=True).\n"
          ],
          "name": "stdout"
        }
      ]
    },
    {
      "cell_type": "code",
      "metadata": {
        "id": "1Tbi0y6FQYhS"
      },
      "source": [
        "#load the treated dataset\n",
        "df = pd.read_csv(\"/content/drive/MyDrive/new_file.csv\")\n",
        "#Take only the UK based transactions\n",
        "df_uk = df[df['Country'] == 'United Kingdom']\n",
        "#Cancellations are not needed for the analysis so they can be removed\n",
        "df_uk = df_uk[~(df_uk['InvoiceNo'].str.contains('C'))]"
      ],
      "execution_count": 3,
      "outputs": []
    },
    {
      "cell_type": "code",
      "metadata": {
        "id": "6YXJw-Y7QYhW",
        "colab": {
          "base_uri": "https://localhost:8080/"
        },
        "outputId": "2f582382-66f2-4f4c-8924-41c1e83b0f55"
      },
      "source": [
        "#shape of the dataset\n",
        "print(\"The shape of the dataset is: \", df_uk.shape)"
      ],
      "execution_count": 4,
      "outputs": [
        {
          "output_type": "stream",
          "text": [
            "The shape of the dataset is:  (349227, 16)\n"
          ],
          "name": "stdout"
        }
      ]
    },
    {
      "cell_type": "code",
      "metadata": {
        "id": "QaIwGg5IQYhZ",
        "colab": {
          "base_uri": "https://localhost:8080/",
          "height": 357
        },
        "outputId": "437c3f15-4795-4be0-c236-561df92700d8"
      },
      "source": [
        "df_uk.head()"
      ],
      "execution_count": 5,
      "outputs": [
        {
          "output_type": "execute_result",
          "data": {
            "text/html": [
              "<div>\n",
              "<style scoped>\n",
              "    .dataframe tbody tr th:only-of-type {\n",
              "        vertical-align: middle;\n",
              "    }\n",
              "\n",
              "    .dataframe tbody tr th {\n",
              "        vertical-align: top;\n",
              "    }\n",
              "\n",
              "    .dataframe thead th {\n",
              "        text-align: right;\n",
              "    }\n",
              "</style>\n",
              "<table border=\"1\" class=\"dataframe\">\n",
              "  <thead>\n",
              "    <tr style=\"text-align: right;\">\n",
              "      <th></th>\n",
              "      <th>InvoiceNo</th>\n",
              "      <th>StockCode</th>\n",
              "      <th>Description</th>\n",
              "      <th>Quantity</th>\n",
              "      <th>InvoiceDate</th>\n",
              "      <th>Date</th>\n",
              "      <th>Year</th>\n",
              "      <th>Year_Month</th>\n",
              "      <th>Quarter</th>\n",
              "      <th>Month</th>\n",
              "      <th>Day</th>\n",
              "      <th>Hour</th>\n",
              "      <th>UnitPrice</th>\n",
              "      <th>CustomerID</th>\n",
              "      <th>Country</th>\n",
              "      <th>Total_Price</th>\n",
              "    </tr>\n",
              "  </thead>\n",
              "  <tbody>\n",
              "    <tr>\n",
              "      <th>0</th>\n",
              "      <td>536365</td>\n",
              "      <td>85123A</td>\n",
              "      <td>WHITE HANGING HEART T-LIGHT HOLDER</td>\n",
              "      <td>6</td>\n",
              "      <td>2010-12-01 08:26:00</td>\n",
              "      <td>2010-12-01</td>\n",
              "      <td>2010</td>\n",
              "      <td>2010-12</td>\n",
              "      <td>4</td>\n",
              "      <td>12</td>\n",
              "      <td>2</td>\n",
              "      <td>8</td>\n",
              "      <td>2.55</td>\n",
              "      <td>17850</td>\n",
              "      <td>United Kingdom</td>\n",
              "      <td>15.30</td>\n",
              "    </tr>\n",
              "    <tr>\n",
              "      <th>1</th>\n",
              "      <td>536365</td>\n",
              "      <td>71053</td>\n",
              "      <td>WHITE METAL LANTERN</td>\n",
              "      <td>6</td>\n",
              "      <td>2010-12-01 08:26:00</td>\n",
              "      <td>2010-12-01</td>\n",
              "      <td>2010</td>\n",
              "      <td>2010-12</td>\n",
              "      <td>4</td>\n",
              "      <td>12</td>\n",
              "      <td>2</td>\n",
              "      <td>8</td>\n",
              "      <td>3.39</td>\n",
              "      <td>17850</td>\n",
              "      <td>United Kingdom</td>\n",
              "      <td>20.34</td>\n",
              "    </tr>\n",
              "    <tr>\n",
              "      <th>2</th>\n",
              "      <td>536365</td>\n",
              "      <td>84406B</td>\n",
              "      <td>CREAM CUPID HEARTS COAT HANGER</td>\n",
              "      <td>8</td>\n",
              "      <td>2010-12-01 08:26:00</td>\n",
              "      <td>2010-12-01</td>\n",
              "      <td>2010</td>\n",
              "      <td>2010-12</td>\n",
              "      <td>4</td>\n",
              "      <td>12</td>\n",
              "      <td>2</td>\n",
              "      <td>8</td>\n",
              "      <td>2.75</td>\n",
              "      <td>17850</td>\n",
              "      <td>United Kingdom</td>\n",
              "      <td>22.00</td>\n",
              "    </tr>\n",
              "    <tr>\n",
              "      <th>3</th>\n",
              "      <td>536365</td>\n",
              "      <td>84029G</td>\n",
              "      <td>KNITTED UNION FLAG HOT WATER BOTTLE</td>\n",
              "      <td>6</td>\n",
              "      <td>2010-12-01 08:26:00</td>\n",
              "      <td>2010-12-01</td>\n",
              "      <td>2010</td>\n",
              "      <td>2010-12</td>\n",
              "      <td>4</td>\n",
              "      <td>12</td>\n",
              "      <td>2</td>\n",
              "      <td>8</td>\n",
              "      <td>3.39</td>\n",
              "      <td>17850</td>\n",
              "      <td>United Kingdom</td>\n",
              "      <td>20.34</td>\n",
              "    </tr>\n",
              "    <tr>\n",
              "      <th>4</th>\n",
              "      <td>536365</td>\n",
              "      <td>84029E</td>\n",
              "      <td>RED WOOLLY HOTTIE WHITE HEART.</td>\n",
              "      <td>6</td>\n",
              "      <td>2010-12-01 08:26:00</td>\n",
              "      <td>2010-12-01</td>\n",
              "      <td>2010</td>\n",
              "      <td>2010-12</td>\n",
              "      <td>4</td>\n",
              "      <td>12</td>\n",
              "      <td>2</td>\n",
              "      <td>8</td>\n",
              "      <td>3.39</td>\n",
              "      <td>17850</td>\n",
              "      <td>United Kingdom</td>\n",
              "      <td>20.34</td>\n",
              "    </tr>\n",
              "  </tbody>\n",
              "</table>\n",
              "</div>"
            ],
            "text/plain": [
              "  InvoiceNo StockCode  ...         Country  Total_Price\n",
              "0    536365    85123A  ...  United Kingdom        15.30\n",
              "1    536365     71053  ...  United Kingdom        20.34\n",
              "2    536365    84406B  ...  United Kingdom        22.00\n",
              "3    536365    84029G  ...  United Kingdom        20.34\n",
              "4    536365    84029E  ...  United Kingdom        20.34\n",
              "\n",
              "[5 rows x 16 columns]"
            ]
          },
          "metadata": {
            "tags": []
          },
          "execution_count": 5
        }
      ]
    },
    {
      "cell_type": "code",
      "metadata": {
        "id": "Yv60zBwtQYhd",
        "colab": {
          "base_uri": "https://localhost:8080/",
          "height": 425
        },
        "outputId": "a31ba93a-0b6a-437d-b4ba-a9145172306e"
      },
      "source": [
        "df_uk.tail()"
      ],
      "execution_count": 6,
      "outputs": [
        {
          "output_type": "execute_result",
          "data": {
            "text/html": [
              "<div>\n",
              "<style scoped>\n",
              "    .dataframe tbody tr th:only-of-type {\n",
              "        vertical-align: middle;\n",
              "    }\n",
              "\n",
              "    .dataframe tbody tr th {\n",
              "        vertical-align: top;\n",
              "    }\n",
              "\n",
              "    .dataframe thead th {\n",
              "        text-align: right;\n",
              "    }\n",
              "</style>\n",
              "<table border=\"1\" class=\"dataframe\">\n",
              "  <thead>\n",
              "    <tr style=\"text-align: right;\">\n",
              "      <th></th>\n",
              "      <th>InvoiceNo</th>\n",
              "      <th>StockCode</th>\n",
              "      <th>Description</th>\n",
              "      <th>Quantity</th>\n",
              "      <th>InvoiceDate</th>\n",
              "      <th>Date</th>\n",
              "      <th>Year</th>\n",
              "      <th>Year_Month</th>\n",
              "      <th>Quarter</th>\n",
              "      <th>Month</th>\n",
              "      <th>Day</th>\n",
              "      <th>Hour</th>\n",
              "      <th>UnitPrice</th>\n",
              "      <th>CustomerID</th>\n",
              "      <th>Country</th>\n",
              "      <th>Total_Price</th>\n",
              "    </tr>\n",
              "  </thead>\n",
              "  <tbody>\n",
              "    <tr>\n",
              "      <th>401584</th>\n",
              "      <td>581585</td>\n",
              "      <td>22466</td>\n",
              "      <td>FAIRY TALE COTTAGE NIGHT LIGHT</td>\n",
              "      <td>12</td>\n",
              "      <td>2011-12-09 12:31:00</td>\n",
              "      <td>2011-12-09</td>\n",
              "      <td>2011</td>\n",
              "      <td>2011-12</td>\n",
              "      <td>4</td>\n",
              "      <td>12</td>\n",
              "      <td>4</td>\n",
              "      <td>12</td>\n",
              "      <td>1.95</td>\n",
              "      <td>15804</td>\n",
              "      <td>United Kingdom</td>\n",
              "      <td>23.4</td>\n",
              "    </tr>\n",
              "    <tr>\n",
              "      <th>401585</th>\n",
              "      <td>581586</td>\n",
              "      <td>22061</td>\n",
              "      <td>LARGE CAKE STAND  HANGING STRAWBERY</td>\n",
              "      <td>8</td>\n",
              "      <td>2011-12-09 12:49:00</td>\n",
              "      <td>2011-12-09</td>\n",
              "      <td>2011</td>\n",
              "      <td>2011-12</td>\n",
              "      <td>4</td>\n",
              "      <td>12</td>\n",
              "      <td>4</td>\n",
              "      <td>12</td>\n",
              "      <td>2.95</td>\n",
              "      <td>13113</td>\n",
              "      <td>United Kingdom</td>\n",
              "      <td>23.6</td>\n",
              "    </tr>\n",
              "    <tr>\n",
              "      <th>401586</th>\n",
              "      <td>581586</td>\n",
              "      <td>23275</td>\n",
              "      <td>SET OF 3 HANGING OWLS OLLIE BEAK</td>\n",
              "      <td>24</td>\n",
              "      <td>2011-12-09 12:49:00</td>\n",
              "      <td>2011-12-09</td>\n",
              "      <td>2011</td>\n",
              "      <td>2011-12</td>\n",
              "      <td>4</td>\n",
              "      <td>12</td>\n",
              "      <td>4</td>\n",
              "      <td>12</td>\n",
              "      <td>1.25</td>\n",
              "      <td>13113</td>\n",
              "      <td>United Kingdom</td>\n",
              "      <td>30.0</td>\n",
              "    </tr>\n",
              "    <tr>\n",
              "      <th>401587</th>\n",
              "      <td>581586</td>\n",
              "      <td>21217</td>\n",
              "      <td>RED RETROSPOT ROUND CAKE TINS</td>\n",
              "      <td>24</td>\n",
              "      <td>2011-12-09 12:49:00</td>\n",
              "      <td>2011-12-09</td>\n",
              "      <td>2011</td>\n",
              "      <td>2011-12</td>\n",
              "      <td>4</td>\n",
              "      <td>12</td>\n",
              "      <td>4</td>\n",
              "      <td>12</td>\n",
              "      <td>8.95</td>\n",
              "      <td>13113</td>\n",
              "      <td>United Kingdom</td>\n",
              "      <td>214.8</td>\n",
              "    </tr>\n",
              "    <tr>\n",
              "      <th>401588</th>\n",
              "      <td>581586</td>\n",
              "      <td>20685</td>\n",
              "      <td>DOORMAT RED RETROSPOT</td>\n",
              "      <td>10</td>\n",
              "      <td>2011-12-09 12:49:00</td>\n",
              "      <td>2011-12-09</td>\n",
              "      <td>2011</td>\n",
              "      <td>2011-12</td>\n",
              "      <td>4</td>\n",
              "      <td>12</td>\n",
              "      <td>4</td>\n",
              "      <td>12</td>\n",
              "      <td>7.08</td>\n",
              "      <td>13113</td>\n",
              "      <td>United Kingdom</td>\n",
              "      <td>70.8</td>\n",
              "    </tr>\n",
              "  </tbody>\n",
              "</table>\n",
              "</div>"
            ],
            "text/plain": [
              "       InvoiceNo StockCode  ...         Country  Total_Price\n",
              "401584    581585     22466  ...  United Kingdom         23.4\n",
              "401585    581586     22061  ...  United Kingdom         23.6\n",
              "401586    581586     23275  ...  United Kingdom         30.0\n",
              "401587    581586     21217  ...  United Kingdom        214.8\n",
              "401588    581586     20685  ...  United Kingdom         70.8\n",
              "\n",
              "[5 rows x 16 columns]"
            ]
          },
          "metadata": {
            "tags": []
          },
          "execution_count": 6
        }
      ]
    },
    {
      "cell_type": "markdown",
      "metadata": {
        "id": "wFYLIAsYQYhg"
      },
      "source": [
        "### Summary of the dataset"
      ]
    },
    {
      "cell_type": "code",
      "metadata": {
        "id": "q1T0qO5sQYhh",
        "colab": {
          "base_uri": "https://localhost:8080/"
        },
        "outputId": "cf31676f-640c-48aa-b249-a1eb3f1da053"
      },
      "source": [
        "df_uk.info()"
      ],
      "execution_count": 7,
      "outputs": [
        {
          "output_type": "stream",
          "text": [
            "<class 'pandas.core.frame.DataFrame'>\n",
            "Int64Index: 349227 entries, 0 to 401588\n",
            "Data columns (total 16 columns):\n",
            " #   Column       Non-Null Count   Dtype  \n",
            "---  ------       --------------   -----  \n",
            " 0   InvoiceNo    349227 non-null  object \n",
            " 1   StockCode    349227 non-null  object \n",
            " 2   Description  349227 non-null  object \n",
            " 3   Quantity     349227 non-null  int64  \n",
            " 4   InvoiceDate  349227 non-null  object \n",
            " 5   Date         349227 non-null  object \n",
            " 6   Year         349227 non-null  int64  \n",
            " 7   Year_Month   349227 non-null  object \n",
            " 8   Quarter      349227 non-null  int64  \n",
            " 9   Month        349227 non-null  int64  \n",
            " 10  Day          349227 non-null  int64  \n",
            " 11  Hour         349227 non-null  int64  \n",
            " 12  UnitPrice    349227 non-null  float64\n",
            " 13  CustomerID   349227 non-null  int64  \n",
            " 14  Country      349227 non-null  object \n",
            " 15  Total_Price  349227 non-null  float64\n",
            "dtypes: float64(2), int64(7), object(7)\n",
            "memory usage: 45.3+ MB\n"
          ],
          "name": "stdout"
        }
      ]
    },
    {
      "cell_type": "code",
      "metadata": {
        "colab": {
          "base_uri": "https://localhost:8080/",
          "height": 376
        },
        "id": "E1O6LoHVOw3o",
        "outputId": "6840eb71-8ee8-40d1-8827-50aa0e3d9bdc"
      },
      "source": [
        "Features = df_uk.columns\r\n",
        "\r\n",
        "# Creating a DataFrame with useful information about dataset\r\n",
        "data_info = pd.DataFrame()\r\n",
        "data_info['Features'] = Features\r\n",
        "data_info['unique_values'] = [df_uk[col].nunique() for col in Features]\r\n",
        "data_info['total_null'] = [df_uk[col].isnull().sum() for col in Features]\r\n",
        "data_info['null_percent'] = [df_uk[col].isnull().sum() * 100 / len(df_uk) for col in Features]\r\n",
        "\r\n",
        "data_info.style.background_gradient()"
      ],
      "execution_count": 8,
      "outputs": [
        {
          "output_type": "execute_result",
          "data": {
            "text/html": [
              "<style  type=\"text/css\" >\n",
              "#T_7fa69be8_81b4_11eb_bb3e_0242ac1c0002row0_col1{\n",
              "            background-color:  #023858;\n",
              "            color:  #f1f1f1;\n",
              "        }#T_7fa69be8_81b4_11eb_bb3e_0242ac1c0002row0_col2,#T_7fa69be8_81b4_11eb_bb3e_0242ac1c0002row0_col3,#T_7fa69be8_81b4_11eb_bb3e_0242ac1c0002row1_col2,#T_7fa69be8_81b4_11eb_bb3e_0242ac1c0002row1_col3,#T_7fa69be8_81b4_11eb_bb3e_0242ac1c0002row2_col2,#T_7fa69be8_81b4_11eb_bb3e_0242ac1c0002row2_col3,#T_7fa69be8_81b4_11eb_bb3e_0242ac1c0002row3_col2,#T_7fa69be8_81b4_11eb_bb3e_0242ac1c0002row3_col3,#T_7fa69be8_81b4_11eb_bb3e_0242ac1c0002row4_col2,#T_7fa69be8_81b4_11eb_bb3e_0242ac1c0002row4_col3,#T_7fa69be8_81b4_11eb_bb3e_0242ac1c0002row5_col2,#T_7fa69be8_81b4_11eb_bb3e_0242ac1c0002row5_col3,#T_7fa69be8_81b4_11eb_bb3e_0242ac1c0002row6_col1,#T_7fa69be8_81b4_11eb_bb3e_0242ac1c0002row6_col2,#T_7fa69be8_81b4_11eb_bb3e_0242ac1c0002row6_col3,#T_7fa69be8_81b4_11eb_bb3e_0242ac1c0002row7_col1,#T_7fa69be8_81b4_11eb_bb3e_0242ac1c0002row7_col2,#T_7fa69be8_81b4_11eb_bb3e_0242ac1c0002row7_col3,#T_7fa69be8_81b4_11eb_bb3e_0242ac1c0002row8_col1,#T_7fa69be8_81b4_11eb_bb3e_0242ac1c0002row8_col2,#T_7fa69be8_81b4_11eb_bb3e_0242ac1c0002row8_col3,#T_7fa69be8_81b4_11eb_bb3e_0242ac1c0002row9_col1,#T_7fa69be8_81b4_11eb_bb3e_0242ac1c0002row9_col2,#T_7fa69be8_81b4_11eb_bb3e_0242ac1c0002row9_col3,#T_7fa69be8_81b4_11eb_bb3e_0242ac1c0002row10_col1,#T_7fa69be8_81b4_11eb_bb3e_0242ac1c0002row10_col2,#T_7fa69be8_81b4_11eb_bb3e_0242ac1c0002row10_col3,#T_7fa69be8_81b4_11eb_bb3e_0242ac1c0002row11_col1,#T_7fa69be8_81b4_11eb_bb3e_0242ac1c0002row11_col2,#T_7fa69be8_81b4_11eb_bb3e_0242ac1c0002row11_col3,#T_7fa69be8_81b4_11eb_bb3e_0242ac1c0002row12_col2,#T_7fa69be8_81b4_11eb_bb3e_0242ac1c0002row12_col3,#T_7fa69be8_81b4_11eb_bb3e_0242ac1c0002row13_col2,#T_7fa69be8_81b4_11eb_bb3e_0242ac1c0002row13_col3,#T_7fa69be8_81b4_11eb_bb3e_0242ac1c0002row14_col1,#T_7fa69be8_81b4_11eb_bb3e_0242ac1c0002row14_col2,#T_7fa69be8_81b4_11eb_bb3e_0242ac1c0002row14_col3,#T_7fa69be8_81b4_11eb_bb3e_0242ac1c0002row15_col2,#T_7fa69be8_81b4_11eb_bb3e_0242ac1c0002row15_col3{\n",
              "            background-color:  #fff7fb;\n",
              "            color:  #000000;\n",
              "        }#T_7fa69be8_81b4_11eb_bb3e_0242ac1c0002row1_col1{\n",
              "            background-color:  #d7d6e9;\n",
              "            color:  #000000;\n",
              "        }#T_7fa69be8_81b4_11eb_bb3e_0242ac1c0002row2_col1{\n",
              "            background-color:  #d4d4e8;\n",
              "            color:  #000000;\n",
              "        }#T_7fa69be8_81b4_11eb_bb3e_0242ac1c0002row3_col1,#T_7fa69be8_81b4_11eb_bb3e_0242ac1c0002row5_col1{\n",
              "            background-color:  #fdf5fa;\n",
              "            color:  #000000;\n",
              "        }#T_7fa69be8_81b4_11eb_bb3e_0242ac1c0002row4_col1{\n",
              "            background-color:  #034871;\n",
              "            color:  #f1f1f1;\n",
              "        }#T_7fa69be8_81b4_11eb_bb3e_0242ac1c0002row12_col1{\n",
              "            background-color:  #fbf4f9;\n",
              "            color:  #000000;\n",
              "        }#T_7fa69be8_81b4_11eb_bb3e_0242ac1c0002row13_col1{\n",
              "            background-color:  #d3d4e7;\n",
              "            color:  #000000;\n",
              "        }#T_7fa69be8_81b4_11eb_bb3e_0242ac1c0002row15_col1{\n",
              "            background-color:  #e4e1ef;\n",
              "            color:  #000000;\n",
              "        }</style><table id=\"T_7fa69be8_81b4_11eb_bb3e_0242ac1c0002\" ><thead>    <tr>        <th class=\"blank level0\" ></th>        <th class=\"col_heading level0 col0\" >Features</th>        <th class=\"col_heading level0 col1\" >unique_values</th>        <th class=\"col_heading level0 col2\" >total_null</th>        <th class=\"col_heading level0 col3\" >null_percent</th>    </tr></thead><tbody>\n",
              "                <tr>\n",
              "                        <th id=\"T_7fa69be8_81b4_11eb_bb3e_0242ac1c0002level0_row0\" class=\"row_heading level0 row0\" >0</th>\n",
              "                        <td id=\"T_7fa69be8_81b4_11eb_bb3e_0242ac1c0002row0_col0\" class=\"data row0 col0\" >InvoiceNo</td>\n",
              "                        <td id=\"T_7fa69be8_81b4_11eb_bb3e_0242ac1c0002row0_col1\" class=\"data row0 col1\" >16649</td>\n",
              "                        <td id=\"T_7fa69be8_81b4_11eb_bb3e_0242ac1c0002row0_col2\" class=\"data row0 col2\" >0</td>\n",
              "                        <td id=\"T_7fa69be8_81b4_11eb_bb3e_0242ac1c0002row0_col3\" class=\"data row0 col3\" >0.000000</td>\n",
              "            </tr>\n",
              "            <tr>\n",
              "                        <th id=\"T_7fa69be8_81b4_11eb_bb3e_0242ac1c0002level0_row1\" class=\"row_heading level0 row1\" >1</th>\n",
              "                        <td id=\"T_7fa69be8_81b4_11eb_bb3e_0242ac1c0002row1_col0\" class=\"data row1 col0\" >StockCode</td>\n",
              "                        <td id=\"T_7fa69be8_81b4_11eb_bb3e_0242ac1c0002row1_col1\" class=\"data row1 col1\" >3645</td>\n",
              "                        <td id=\"T_7fa69be8_81b4_11eb_bb3e_0242ac1c0002row1_col2\" class=\"data row1 col2\" >0</td>\n",
              "                        <td id=\"T_7fa69be8_81b4_11eb_bb3e_0242ac1c0002row1_col3\" class=\"data row1 col3\" >0.000000</td>\n",
              "            </tr>\n",
              "            <tr>\n",
              "                        <th id=\"T_7fa69be8_81b4_11eb_bb3e_0242ac1c0002level0_row2\" class=\"row_heading level0 row2\" >2</th>\n",
              "                        <td id=\"T_7fa69be8_81b4_11eb_bb3e_0242ac1c0002row2_col0\" class=\"data row2 col0\" >Description</td>\n",
              "                        <td id=\"T_7fa69be8_81b4_11eb_bb3e_0242ac1c0002row2_col1\" class=\"data row2 col1\" >3844</td>\n",
              "                        <td id=\"T_7fa69be8_81b4_11eb_bb3e_0242ac1c0002row2_col2\" class=\"data row2 col2\" >0</td>\n",
              "                        <td id=\"T_7fa69be8_81b4_11eb_bb3e_0242ac1c0002row2_col3\" class=\"data row2 col3\" >0.000000</td>\n",
              "            </tr>\n",
              "            <tr>\n",
              "                        <th id=\"T_7fa69be8_81b4_11eb_bb3e_0242ac1c0002level0_row3\" class=\"row_heading level0 row3\" >3</th>\n",
              "                        <td id=\"T_7fa69be8_81b4_11eb_bb3e_0242ac1c0002row3_col0\" class=\"data row3 col0\" >Quantity</td>\n",
              "                        <td id=\"T_7fa69be8_81b4_11eb_bb3e_0242ac1c0002row3_col1\" class=\"data row3 col1\" >294</td>\n",
              "                        <td id=\"T_7fa69be8_81b4_11eb_bb3e_0242ac1c0002row3_col2\" class=\"data row3 col2\" >0</td>\n",
              "                        <td id=\"T_7fa69be8_81b4_11eb_bb3e_0242ac1c0002row3_col3\" class=\"data row3 col3\" >0.000000</td>\n",
              "            </tr>\n",
              "            <tr>\n",
              "                        <th id=\"T_7fa69be8_81b4_11eb_bb3e_0242ac1c0002level0_row4\" class=\"row_heading level0 row4\" >4</th>\n",
              "                        <td id=\"T_7fa69be8_81b4_11eb_bb3e_0242ac1c0002row4_col0\" class=\"data row4 col0\" >InvoiceDate</td>\n",
              "                        <td id=\"T_7fa69be8_81b4_11eb_bb3e_0242ac1c0002row4_col1\" class=\"data row4 col1\" >15615</td>\n",
              "                        <td id=\"T_7fa69be8_81b4_11eb_bb3e_0242ac1c0002row4_col2\" class=\"data row4 col2\" >0</td>\n",
              "                        <td id=\"T_7fa69be8_81b4_11eb_bb3e_0242ac1c0002row4_col3\" class=\"data row4 col3\" >0.000000</td>\n",
              "            </tr>\n",
              "            <tr>\n",
              "                        <th id=\"T_7fa69be8_81b4_11eb_bb3e_0242ac1c0002level0_row5\" class=\"row_heading level0 row5\" >5</th>\n",
              "                        <td id=\"T_7fa69be8_81b4_11eb_bb3e_0242ac1c0002row5_col0\" class=\"data row5 col0\" >Date</td>\n",
              "                        <td id=\"T_7fa69be8_81b4_11eb_bb3e_0242ac1c0002row5_col1\" class=\"data row5 col1\" >305</td>\n",
              "                        <td id=\"T_7fa69be8_81b4_11eb_bb3e_0242ac1c0002row5_col2\" class=\"data row5 col2\" >0</td>\n",
              "                        <td id=\"T_7fa69be8_81b4_11eb_bb3e_0242ac1c0002row5_col3\" class=\"data row5 col3\" >0.000000</td>\n",
              "            </tr>\n",
              "            <tr>\n",
              "                        <th id=\"T_7fa69be8_81b4_11eb_bb3e_0242ac1c0002level0_row6\" class=\"row_heading level0 row6\" >6</th>\n",
              "                        <td id=\"T_7fa69be8_81b4_11eb_bb3e_0242ac1c0002row6_col0\" class=\"data row6 col0\" >Year</td>\n",
              "                        <td id=\"T_7fa69be8_81b4_11eb_bb3e_0242ac1c0002row6_col1\" class=\"data row6 col1\" >2</td>\n",
              "                        <td id=\"T_7fa69be8_81b4_11eb_bb3e_0242ac1c0002row6_col2\" class=\"data row6 col2\" >0</td>\n",
              "                        <td id=\"T_7fa69be8_81b4_11eb_bb3e_0242ac1c0002row6_col3\" class=\"data row6 col3\" >0.000000</td>\n",
              "            </tr>\n",
              "            <tr>\n",
              "                        <th id=\"T_7fa69be8_81b4_11eb_bb3e_0242ac1c0002level0_row7\" class=\"row_heading level0 row7\" >7</th>\n",
              "                        <td id=\"T_7fa69be8_81b4_11eb_bb3e_0242ac1c0002row7_col0\" class=\"data row7 col0\" >Year_Month</td>\n",
              "                        <td id=\"T_7fa69be8_81b4_11eb_bb3e_0242ac1c0002row7_col1\" class=\"data row7 col1\" >13</td>\n",
              "                        <td id=\"T_7fa69be8_81b4_11eb_bb3e_0242ac1c0002row7_col2\" class=\"data row7 col2\" >0</td>\n",
              "                        <td id=\"T_7fa69be8_81b4_11eb_bb3e_0242ac1c0002row7_col3\" class=\"data row7 col3\" >0.000000</td>\n",
              "            </tr>\n",
              "            <tr>\n",
              "                        <th id=\"T_7fa69be8_81b4_11eb_bb3e_0242ac1c0002level0_row8\" class=\"row_heading level0 row8\" >8</th>\n",
              "                        <td id=\"T_7fa69be8_81b4_11eb_bb3e_0242ac1c0002row8_col0\" class=\"data row8 col0\" >Quarter</td>\n",
              "                        <td id=\"T_7fa69be8_81b4_11eb_bb3e_0242ac1c0002row8_col1\" class=\"data row8 col1\" >4</td>\n",
              "                        <td id=\"T_7fa69be8_81b4_11eb_bb3e_0242ac1c0002row8_col2\" class=\"data row8 col2\" >0</td>\n",
              "                        <td id=\"T_7fa69be8_81b4_11eb_bb3e_0242ac1c0002row8_col3\" class=\"data row8 col3\" >0.000000</td>\n",
              "            </tr>\n",
              "            <tr>\n",
              "                        <th id=\"T_7fa69be8_81b4_11eb_bb3e_0242ac1c0002level0_row9\" class=\"row_heading level0 row9\" >9</th>\n",
              "                        <td id=\"T_7fa69be8_81b4_11eb_bb3e_0242ac1c0002row9_col0\" class=\"data row9 col0\" >Month</td>\n",
              "                        <td id=\"T_7fa69be8_81b4_11eb_bb3e_0242ac1c0002row9_col1\" class=\"data row9 col1\" >12</td>\n",
              "                        <td id=\"T_7fa69be8_81b4_11eb_bb3e_0242ac1c0002row9_col2\" class=\"data row9 col2\" >0</td>\n",
              "                        <td id=\"T_7fa69be8_81b4_11eb_bb3e_0242ac1c0002row9_col3\" class=\"data row9 col3\" >0.000000</td>\n",
              "            </tr>\n",
              "            <tr>\n",
              "                        <th id=\"T_7fa69be8_81b4_11eb_bb3e_0242ac1c0002level0_row10\" class=\"row_heading level0 row10\" >10</th>\n",
              "                        <td id=\"T_7fa69be8_81b4_11eb_bb3e_0242ac1c0002row10_col0\" class=\"data row10 col0\" >Day</td>\n",
              "                        <td id=\"T_7fa69be8_81b4_11eb_bb3e_0242ac1c0002row10_col1\" class=\"data row10 col1\" >6</td>\n",
              "                        <td id=\"T_7fa69be8_81b4_11eb_bb3e_0242ac1c0002row10_col2\" class=\"data row10 col2\" >0</td>\n",
              "                        <td id=\"T_7fa69be8_81b4_11eb_bb3e_0242ac1c0002row10_col3\" class=\"data row10 col3\" >0.000000</td>\n",
              "            </tr>\n",
              "            <tr>\n",
              "                        <th id=\"T_7fa69be8_81b4_11eb_bb3e_0242ac1c0002level0_row11\" class=\"row_heading level0 row11\" >11</th>\n",
              "                        <td id=\"T_7fa69be8_81b4_11eb_bb3e_0242ac1c0002row11_col0\" class=\"data row11 col0\" >Hour</td>\n",
              "                        <td id=\"T_7fa69be8_81b4_11eb_bb3e_0242ac1c0002row11_col1\" class=\"data row11 col1\" >15</td>\n",
              "                        <td id=\"T_7fa69be8_81b4_11eb_bb3e_0242ac1c0002row11_col2\" class=\"data row11 col2\" >0</td>\n",
              "                        <td id=\"T_7fa69be8_81b4_11eb_bb3e_0242ac1c0002row11_col3\" class=\"data row11 col3\" >0.000000</td>\n",
              "            </tr>\n",
              "            <tr>\n",
              "                        <th id=\"T_7fa69be8_81b4_11eb_bb3e_0242ac1c0002level0_row12\" class=\"row_heading level0 row12\" >12</th>\n",
              "                        <td id=\"T_7fa69be8_81b4_11eb_bb3e_0242ac1c0002row12_col0\" class=\"data row12 col0\" >UnitPrice</td>\n",
              "                        <td id=\"T_7fa69be8_81b4_11eb_bb3e_0242ac1c0002row12_col1\" class=\"data row12 col1\" >403</td>\n",
              "                        <td id=\"T_7fa69be8_81b4_11eb_bb3e_0242ac1c0002row12_col2\" class=\"data row12 col2\" >0</td>\n",
              "                        <td id=\"T_7fa69be8_81b4_11eb_bb3e_0242ac1c0002row12_col3\" class=\"data row12 col3\" >0.000000</td>\n",
              "            </tr>\n",
              "            <tr>\n",
              "                        <th id=\"T_7fa69be8_81b4_11eb_bb3e_0242ac1c0002level0_row13\" class=\"row_heading level0 row13\" >13</th>\n",
              "                        <td id=\"T_7fa69be8_81b4_11eb_bb3e_0242ac1c0002row13_col0\" class=\"data row13 col0\" >CustomerID</td>\n",
              "                        <td id=\"T_7fa69be8_81b4_11eb_bb3e_0242ac1c0002row13_col1\" class=\"data row13 col1\" >3921</td>\n",
              "                        <td id=\"T_7fa69be8_81b4_11eb_bb3e_0242ac1c0002row13_col2\" class=\"data row13 col2\" >0</td>\n",
              "                        <td id=\"T_7fa69be8_81b4_11eb_bb3e_0242ac1c0002row13_col3\" class=\"data row13 col3\" >0.000000</td>\n",
              "            </tr>\n",
              "            <tr>\n",
              "                        <th id=\"T_7fa69be8_81b4_11eb_bb3e_0242ac1c0002level0_row14\" class=\"row_heading level0 row14\" >14</th>\n",
              "                        <td id=\"T_7fa69be8_81b4_11eb_bb3e_0242ac1c0002row14_col0\" class=\"data row14 col0\" >Country</td>\n",
              "                        <td id=\"T_7fa69be8_81b4_11eb_bb3e_0242ac1c0002row14_col1\" class=\"data row14 col1\" >1</td>\n",
              "                        <td id=\"T_7fa69be8_81b4_11eb_bb3e_0242ac1c0002row14_col2\" class=\"data row14 col2\" >0</td>\n",
              "                        <td id=\"T_7fa69be8_81b4_11eb_bb3e_0242ac1c0002row14_col3\" class=\"data row14 col3\" >0.000000</td>\n",
              "            </tr>\n",
              "            <tr>\n",
              "                        <th id=\"T_7fa69be8_81b4_11eb_bb3e_0242ac1c0002level0_row15\" class=\"row_heading level0 row15\" >15</th>\n",
              "                        <td id=\"T_7fa69be8_81b4_11eb_bb3e_0242ac1c0002row15_col0\" class=\"data row15 col0\" >Total_Price</td>\n",
              "                        <td id=\"T_7fa69be8_81b4_11eb_bb3e_0242ac1c0002row15_col1\" class=\"data row15 col1\" >2669</td>\n",
              "                        <td id=\"T_7fa69be8_81b4_11eb_bb3e_0242ac1c0002row15_col2\" class=\"data row15 col2\" >0</td>\n",
              "                        <td id=\"T_7fa69be8_81b4_11eb_bb3e_0242ac1c0002row15_col3\" class=\"data row15 col3\" >0.000000</td>\n",
              "            </tr>\n",
              "    </tbody></table>"
            ],
            "text/plain": [
              "<pandas.io.formats.style.Styler at 0x7f987355ecd0>"
            ]
          },
          "metadata": {
            "tags": []
          },
          "execution_count": 8
        }
      ]
    },
    {
      "cell_type": "code",
      "metadata": {
        "colab": {
          "base_uri": "https://localhost:8080/",
          "height": 297
        },
        "id": "-5DMKaVQgaO3",
        "outputId": "9c469279-3cd6-43d5-8809-f5047e219e66"
      },
      "source": [
        "df_uk.describe()"
      ],
      "execution_count": 9,
      "outputs": [
        {
          "output_type": "execute_result",
          "data": {
            "text/html": [
              "<div>\n",
              "<style scoped>\n",
              "    .dataframe tbody tr th:only-of-type {\n",
              "        vertical-align: middle;\n",
              "    }\n",
              "\n",
              "    .dataframe tbody tr th {\n",
              "        vertical-align: top;\n",
              "    }\n",
              "\n",
              "    .dataframe thead th {\n",
              "        text-align: right;\n",
              "    }\n",
              "</style>\n",
              "<table border=\"1\" class=\"dataframe\">\n",
              "  <thead>\n",
              "    <tr style=\"text-align: right;\">\n",
              "      <th></th>\n",
              "      <th>Quantity</th>\n",
              "      <th>Year</th>\n",
              "      <th>Quarter</th>\n",
              "      <th>Month</th>\n",
              "      <th>Day</th>\n",
              "      <th>Hour</th>\n",
              "      <th>UnitPrice</th>\n",
              "      <th>CustomerID</th>\n",
              "      <th>Total_Price</th>\n",
              "    </tr>\n",
              "  </thead>\n",
              "  <tbody>\n",
              "    <tr>\n",
              "      <th>count</th>\n",
              "      <td>349227.000000</td>\n",
              "      <td>349227.000000</td>\n",
              "      <td>349227.000000</td>\n",
              "      <td>349227.000000</td>\n",
              "      <td>349227.000000</td>\n",
              "      <td>349227.000000</td>\n",
              "      <td>349227.000000</td>\n",
              "      <td>349227.000000</td>\n",
              "      <td>349227.000000</td>\n",
              "    </tr>\n",
              "    <tr>\n",
              "      <th>mean</th>\n",
              "      <td>12.181295</td>\n",
              "      <td>2010.932826</td>\n",
              "      <td>2.862639</td>\n",
              "      <td>7.635163</td>\n",
              "      <td>2.633768</td>\n",
              "      <td>12.803704</td>\n",
              "      <td>2.972124</td>\n",
              "      <td>15548.333625</td>\n",
              "      <td>20.860428</td>\n",
              "    </tr>\n",
              "    <tr>\n",
              "      <th>std</th>\n",
              "      <td>191.797470</td>\n",
              "      <td>0.250324</td>\n",
              "      <td>1.120697</td>\n",
              "      <td>3.416509</td>\n",
              "      <td>1.951522</td>\n",
              "      <td>2.246193</td>\n",
              "      <td>17.990307</td>\n",
              "      <td>1594.403077</td>\n",
              "      <td>328.406035</td>\n",
              "    </tr>\n",
              "    <tr>\n",
              "      <th>min</th>\n",
              "      <td>1.000000</td>\n",
              "      <td>2010.000000</td>\n",
              "      <td>1.000000</td>\n",
              "      <td>1.000000</td>\n",
              "      <td>0.000000</td>\n",
              "      <td>6.000000</td>\n",
              "      <td>0.000000</td>\n",
              "      <td>12346.000000</td>\n",
              "      <td>0.000000</td>\n",
              "    </tr>\n",
              "    <tr>\n",
              "      <th>25%</th>\n",
              "      <td>2.000000</td>\n",
              "      <td>2011.000000</td>\n",
              "      <td>2.000000</td>\n",
              "      <td>5.000000</td>\n",
              "      <td>1.000000</td>\n",
              "      <td>11.000000</td>\n",
              "      <td>1.250000</td>\n",
              "      <td>14191.000000</td>\n",
              "      <td>4.200000</td>\n",
              "    </tr>\n",
              "    <tr>\n",
              "      <th>50%</th>\n",
              "      <td>4.000000</td>\n",
              "      <td>2011.000000</td>\n",
              "      <td>3.000000</td>\n",
              "      <td>9.000000</td>\n",
              "      <td>2.000000</td>\n",
              "      <td>13.000000</td>\n",
              "      <td>1.950000</td>\n",
              "      <td>15518.000000</td>\n",
              "      <td>10.200000</td>\n",
              "    </tr>\n",
              "    <tr>\n",
              "      <th>75%</th>\n",
              "      <td>12.000000</td>\n",
              "      <td>2011.000000</td>\n",
              "      <td>4.000000</td>\n",
              "      <td>11.000000</td>\n",
              "      <td>4.000000</td>\n",
              "      <td>14.000000</td>\n",
              "      <td>3.750000</td>\n",
              "      <td>16931.000000</td>\n",
              "      <td>17.850000</td>\n",
              "    </tr>\n",
              "    <tr>\n",
              "      <th>max</th>\n",
              "      <td>80995.000000</td>\n",
              "      <td>2011.000000</td>\n",
              "      <td>4.000000</td>\n",
              "      <td>12.000000</td>\n",
              "      <td>6.000000</td>\n",
              "      <td>20.000000</td>\n",
              "      <td>8142.750000</td>\n",
              "      <td>18287.000000</td>\n",
              "      <td>168469.600000</td>\n",
              "    </tr>\n",
              "  </tbody>\n",
              "</table>\n",
              "</div>"
            ],
            "text/plain": [
              "            Quantity           Year  ...     CustomerID    Total_Price\n",
              "count  349227.000000  349227.000000  ...  349227.000000  349227.000000\n",
              "mean       12.181295    2010.932826  ...   15548.333625      20.860428\n",
              "std       191.797470       0.250324  ...    1594.403077     328.406035\n",
              "min         1.000000    2010.000000  ...   12346.000000       0.000000\n",
              "25%         2.000000    2011.000000  ...   14191.000000       4.200000\n",
              "50%         4.000000    2011.000000  ...   15518.000000      10.200000\n",
              "75%        12.000000    2011.000000  ...   16931.000000      17.850000\n",
              "max     80995.000000    2011.000000  ...   18287.000000  168469.600000\n",
              "\n",
              "[8 rows x 9 columns]"
            ]
          },
          "metadata": {
            "tags": []
          },
          "execution_count": 9
        }
      ]
    },
    {
      "cell_type": "code",
      "metadata": {
        "colab": {
          "base_uri": "https://localhost:8080/",
          "height": 1000
        },
        "id": "vbO5ulaij31t",
        "outputId": "4f5b135e-7a8f-45cd-aad3-d98fe7508a8b"
      },
      "source": [
        "# There are Transactions with unit price zero. This has to be analysed.\r\n",
        "df_uk[df_uk['UnitPrice'] == 0]"
      ],
      "execution_count": 10,
      "outputs": [
        {
          "output_type": "execute_result",
          "data": {
            "text/html": [
              "<div>\n",
              "<style scoped>\n",
              "    .dataframe tbody tr th:only-of-type {\n",
              "        vertical-align: middle;\n",
              "    }\n",
              "\n",
              "    .dataframe tbody tr th {\n",
              "        vertical-align: top;\n",
              "    }\n",
              "\n",
              "    .dataframe thead th {\n",
              "        text-align: right;\n",
              "    }\n",
              "</style>\n",
              "<table border=\"1\" class=\"dataframe\">\n",
              "  <thead>\n",
              "    <tr style=\"text-align: right;\">\n",
              "      <th></th>\n",
              "      <th>InvoiceNo</th>\n",
              "      <th>StockCode</th>\n",
              "      <th>Description</th>\n",
              "      <th>Quantity</th>\n",
              "      <th>InvoiceDate</th>\n",
              "      <th>Date</th>\n",
              "      <th>Year</th>\n",
              "      <th>Year_Month</th>\n",
              "      <th>Quarter</th>\n",
              "      <th>Month</th>\n",
              "      <th>Day</th>\n",
              "      <th>Hour</th>\n",
              "      <th>UnitPrice</th>\n",
              "      <th>CustomerID</th>\n",
              "      <th>Country</th>\n",
              "      <th>Total_Price</th>\n",
              "    </tr>\n",
              "  </thead>\n",
              "  <tbody>\n",
              "    <tr>\n",
              "      <th>22619</th>\n",
              "      <td>539263</td>\n",
              "      <td>22580</td>\n",
              "      <td>ADVENT CALENDAR GINGHAM SACK</td>\n",
              "      <td>4</td>\n",
              "      <td>2010-12-16 14:36:00</td>\n",
              "      <td>2010-12-16</td>\n",
              "      <td>2010</td>\n",
              "      <td>2010-12</td>\n",
              "      <td>4</td>\n",
              "      <td>12</td>\n",
              "      <td>3</td>\n",
              "      <td>14</td>\n",
              "      <td>0.0</td>\n",
              "      <td>16560</td>\n",
              "      <td>United Kingdom</td>\n",
              "      <td>0.0</td>\n",
              "    </tr>\n",
              "    <tr>\n",
              "      <th>29374</th>\n",
              "      <td>540372</td>\n",
              "      <td>22090</td>\n",
              "      <td>PAPER BUNTING RETROSPOT</td>\n",
              "      <td>24</td>\n",
              "      <td>2011-01-06 16:41:00</td>\n",
              "      <td>2011-01-06</td>\n",
              "      <td>2011</td>\n",
              "      <td>2011-01</td>\n",
              "      <td>1</td>\n",
              "      <td>1</td>\n",
              "      <td>3</td>\n",
              "      <td>16</td>\n",
              "      <td>0.0</td>\n",
              "      <td>13081</td>\n",
              "      <td>United Kingdom</td>\n",
              "      <td>0.0</td>\n",
              "    </tr>\n",
              "    <tr>\n",
              "      <th>29376</th>\n",
              "      <td>540372</td>\n",
              "      <td>22553</td>\n",
              "      <td>PLASTERS IN TIN SKULLS</td>\n",
              "      <td>24</td>\n",
              "      <td>2011-01-06 16:41:00</td>\n",
              "      <td>2011-01-06</td>\n",
              "      <td>2011</td>\n",
              "      <td>2011-01</td>\n",
              "      <td>1</td>\n",
              "      <td>1</td>\n",
              "      <td>3</td>\n",
              "      <td>16</td>\n",
              "      <td>0.0</td>\n",
              "      <td>13081</td>\n",
              "      <td>United Kingdom</td>\n",
              "      <td>0.0</td>\n",
              "    </tr>\n",
              "    <tr>\n",
              "      <th>34903</th>\n",
              "      <td>541109</td>\n",
              "      <td>22168</td>\n",
              "      <td>ORGANISER WOOD ANTIQUE WHITE</td>\n",
              "      <td>1</td>\n",
              "      <td>2011-01-13 15:10:00</td>\n",
              "      <td>2011-01-13</td>\n",
              "      <td>2011</td>\n",
              "      <td>2011-01</td>\n",
              "      <td>1</td>\n",
              "      <td>1</td>\n",
              "      <td>3</td>\n",
              "      <td>15</td>\n",
              "      <td>0.0</td>\n",
              "      <td>15107</td>\n",
              "      <td>United Kingdom</td>\n",
              "      <td>0.0</td>\n",
              "    </tr>\n",
              "    <tr>\n",
              "      <th>54482</th>\n",
              "      <td>543599</td>\n",
              "      <td>84535B</td>\n",
              "      <td>FAIRY CAKES NOTEBOOK A6 SIZE</td>\n",
              "      <td>16</td>\n",
              "      <td>2011-02-10 13:08:00</td>\n",
              "      <td>2011-02-10</td>\n",
              "      <td>2011</td>\n",
              "      <td>2011-02</td>\n",
              "      <td>1</td>\n",
              "      <td>2</td>\n",
              "      <td>3</td>\n",
              "      <td>13</td>\n",
              "      <td>0.0</td>\n",
              "      <td>17560</td>\n",
              "      <td>United Kingdom</td>\n",
              "      <td>0.0</td>\n",
              "    </tr>\n",
              "    <tr>\n",
              "      <th>86760</th>\n",
              "      <td>547417</td>\n",
              "      <td>22062</td>\n",
              "      <td>CERAMIC BOWL WITH LOVE HEART DESIGN</td>\n",
              "      <td>36</td>\n",
              "      <td>2011-03-23 10:25:00</td>\n",
              "      <td>2011-03-23</td>\n",
              "      <td>2011</td>\n",
              "      <td>2011-03</td>\n",
              "      <td>1</td>\n",
              "      <td>3</td>\n",
              "      <td>2</td>\n",
              "      <td>10</td>\n",
              "      <td>0.0</td>\n",
              "      <td>13239</td>\n",
              "      <td>United Kingdom</td>\n",
              "      <td>0.0</td>\n",
              "    </tr>\n",
              "    <tr>\n",
              "      <th>93947</th>\n",
              "      <td>548318</td>\n",
              "      <td>22055</td>\n",
              "      <td>MINI CAKE STAND  HANGING STRAWBERY</td>\n",
              "      <td>5</td>\n",
              "      <td>2011-03-30 12:45:00</td>\n",
              "      <td>2011-03-30</td>\n",
              "      <td>2011</td>\n",
              "      <td>2011-03</td>\n",
              "      <td>1</td>\n",
              "      <td>3</td>\n",
              "      <td>2</td>\n",
              "      <td>12</td>\n",
              "      <td>0.0</td>\n",
              "      <td>13113</td>\n",
              "      <td>United Kingdom</td>\n",
              "      <td>0.0</td>\n",
              "    </tr>\n",
              "    <tr>\n",
              "      <th>98634</th>\n",
              "      <td>548871</td>\n",
              "      <td>22162</td>\n",
              "      <td>HEART GARLAND RUSTIC PADDED</td>\n",
              "      <td>2</td>\n",
              "      <td>2011-04-04 14:42:00</td>\n",
              "      <td>2011-04-04</td>\n",
              "      <td>2011</td>\n",
              "      <td>2011-04</td>\n",
              "      <td>2</td>\n",
              "      <td>4</td>\n",
              "      <td>0</td>\n",
              "      <td>14</td>\n",
              "      <td>0.0</td>\n",
              "      <td>14410</td>\n",
              "      <td>United Kingdom</td>\n",
              "      <td>0.0</td>\n",
              "    </tr>\n",
              "    <tr>\n",
              "      <th>130286</th>\n",
              "      <td>553000</td>\n",
              "      <td>47566</td>\n",
              "      <td>PARTY BUNTING</td>\n",
              "      <td>4</td>\n",
              "      <td>2011-05-12 15:21:00</td>\n",
              "      <td>2011-05-12</td>\n",
              "      <td>2011</td>\n",
              "      <td>2011-05</td>\n",
              "      <td>2</td>\n",
              "      <td>5</td>\n",
              "      <td>3</td>\n",
              "      <td>15</td>\n",
              "      <td>0.0</td>\n",
              "      <td>17667</td>\n",
              "      <td>United Kingdom</td>\n",
              "      <td>0.0</td>\n",
              "    </tr>\n",
              "    <tr>\n",
              "      <th>197297</th>\n",
              "      <td>561284</td>\n",
              "      <td>22167</td>\n",
              "      <td>OVAL WALL MIRROR DIAMANTE</td>\n",
              "      <td>1</td>\n",
              "      <td>2011-07-26 12:24:00</td>\n",
              "      <td>2011-07-26</td>\n",
              "      <td>2011</td>\n",
              "      <td>2011-07</td>\n",
              "      <td>3</td>\n",
              "      <td>7</td>\n",
              "      <td>1</td>\n",
              "      <td>12</td>\n",
              "      <td>0.0</td>\n",
              "      <td>16818</td>\n",
              "      <td>United Kingdom</td>\n",
              "      <td>0.0</td>\n",
              "    </tr>\n",
              "    <tr>\n",
              "      <th>202393</th>\n",
              "      <td>561916</td>\n",
              "      <td>M</td>\n",
              "      <td>Manual</td>\n",
              "      <td>1</td>\n",
              "      <td>2011-08-01 11:44:00</td>\n",
              "      <td>2011-08-01</td>\n",
              "      <td>2011</td>\n",
              "      <td>2011-08</td>\n",
              "      <td>3</td>\n",
              "      <td>8</td>\n",
              "      <td>0</td>\n",
              "      <td>11</td>\n",
              "      <td>0.0</td>\n",
              "      <td>15581</td>\n",
              "      <td>United Kingdom</td>\n",
              "      <td>0.0</td>\n",
              "    </tr>\n",
              "    <tr>\n",
              "      <th>259711</th>\n",
              "      <td>568158</td>\n",
              "      <td>PADS</td>\n",
              "      <td>PADS TO MATCH ALL CUSHIONS</td>\n",
              "      <td>1</td>\n",
              "      <td>2011-09-25 12:22:00</td>\n",
              "      <td>2011-09-25</td>\n",
              "      <td>2011</td>\n",
              "      <td>2011-09</td>\n",
              "      <td>3</td>\n",
              "      <td>9</td>\n",
              "      <td>6</td>\n",
              "      <td>12</td>\n",
              "      <td>0.0</td>\n",
              "      <td>16133</td>\n",
              "      <td>United Kingdom</td>\n",
              "      <td>0.0</td>\n",
              "    </tr>\n",
              "    <tr>\n",
              "      <th>262816</th>\n",
              "      <td>568384</td>\n",
              "      <td>M</td>\n",
              "      <td>Manual</td>\n",
              "      <td>1</td>\n",
              "      <td>2011-09-27 09:46:00</td>\n",
              "      <td>2011-09-27</td>\n",
              "      <td>2011</td>\n",
              "      <td>2011-09</td>\n",
              "      <td>3</td>\n",
              "      <td>9</td>\n",
              "      <td>1</td>\n",
              "      <td>9</td>\n",
              "      <td>0.0</td>\n",
              "      <td>12748</td>\n",
              "      <td>United Kingdom</td>\n",
              "      <td>0.0</td>\n",
              "    </tr>\n",
              "    <tr>\n",
              "      <th>277443</th>\n",
              "      <td>569716</td>\n",
              "      <td>22778</td>\n",
              "      <td>GLASS CLOCHE SMALL</td>\n",
              "      <td>2</td>\n",
              "      <td>2011-10-06 08:17:00</td>\n",
              "      <td>2011-10-06</td>\n",
              "      <td>2011</td>\n",
              "      <td>2011-10</td>\n",
              "      <td>4</td>\n",
              "      <td>10</td>\n",
              "      <td>3</td>\n",
              "      <td>8</td>\n",
              "      <td>0.0</td>\n",
              "      <td>15804</td>\n",
              "      <td>United Kingdom</td>\n",
              "      <td>0.0</td>\n",
              "    </tr>\n",
              "    <tr>\n",
              "      <th>311019</th>\n",
              "      <td>572893</td>\n",
              "      <td>21208</td>\n",
              "      <td>PASTEL COLOUR HONEYCOMB FAN</td>\n",
              "      <td>5</td>\n",
              "      <td>2011-10-26 14:36:00</td>\n",
              "      <td>2011-10-26</td>\n",
              "      <td>2011</td>\n",
              "      <td>2011-10</td>\n",
              "      <td>4</td>\n",
              "      <td>10</td>\n",
              "      <td>2</td>\n",
              "      <td>14</td>\n",
              "      <td>0.0</td>\n",
              "      <td>18059</td>\n",
              "      <td>United Kingdom</td>\n",
              "      <td>0.0</td>\n",
              "    </tr>\n",
              "    <tr>\n",
              "      <th>324002</th>\n",
              "      <td>574175</td>\n",
              "      <td>22065</td>\n",
              "      <td>CHRISTMAS PUDDING TRINKET POT</td>\n",
              "      <td>12</td>\n",
              "      <td>2011-11-03 11:47:00</td>\n",
              "      <td>2011-11-03</td>\n",
              "      <td>2011</td>\n",
              "      <td>2011-11</td>\n",
              "      <td>4</td>\n",
              "      <td>11</td>\n",
              "      <td>3</td>\n",
              "      <td>11</td>\n",
              "      <td>0.0</td>\n",
              "      <td>14110</td>\n",
              "      <td>United Kingdom</td>\n",
              "      <td>0.0</td>\n",
              "    </tr>\n",
              "    <tr>\n",
              "      <th>332277</th>\n",
              "      <td>574879</td>\n",
              "      <td>22625</td>\n",
              "      <td>RED KITCHEN SCALES</td>\n",
              "      <td>2</td>\n",
              "      <td>2011-11-07 13:22:00</td>\n",
              "      <td>2011-11-07</td>\n",
              "      <td>2011</td>\n",
              "      <td>2011-11</td>\n",
              "      <td>4</td>\n",
              "      <td>11</td>\n",
              "      <td>0</td>\n",
              "      <td>13</td>\n",
              "      <td>0.0</td>\n",
              "      <td>13014</td>\n",
              "      <td>United Kingdom</td>\n",
              "      <td>0.0</td>\n",
              "    </tr>\n",
              "    <tr>\n",
              "      <th>332897</th>\n",
              "      <td>574920</td>\n",
              "      <td>22899</td>\n",
              "      <td>CHILDREN'S APRON DOLLY GIRL</td>\n",
              "      <td>1</td>\n",
              "      <td>2011-11-07 16:34:00</td>\n",
              "      <td>2011-11-07</td>\n",
              "      <td>2011</td>\n",
              "      <td>2011-11</td>\n",
              "      <td>4</td>\n",
              "      <td>11</td>\n",
              "      <td>0</td>\n",
              "      <td>16</td>\n",
              "      <td>0.0</td>\n",
              "      <td>13985</td>\n",
              "      <td>United Kingdom</td>\n",
              "      <td>0.0</td>\n",
              "    </tr>\n",
              "    <tr>\n",
              "      <th>332898</th>\n",
              "      <td>574920</td>\n",
              "      <td>23480</td>\n",
              "      <td>MINI LIGHTS WOODLAND MUSHROOMS</td>\n",
              "      <td>1</td>\n",
              "      <td>2011-11-07 16:34:00</td>\n",
              "      <td>2011-11-07</td>\n",
              "      <td>2011</td>\n",
              "      <td>2011-11</td>\n",
              "      <td>4</td>\n",
              "      <td>11</td>\n",
              "      <td>0</td>\n",
              "      <td>16</td>\n",
              "      <td>0.0</td>\n",
              "      <td>13985</td>\n",
              "      <td>United Kingdom</td>\n",
              "      <td>0.0</td>\n",
              "    </tr>\n",
              "    <tr>\n",
              "      <th>338170</th>\n",
              "      <td>575579</td>\n",
              "      <td>22437</td>\n",
              "      <td>SET OF 9 BLACK SKULL BALLOONS</td>\n",
              "      <td>20</td>\n",
              "      <td>2011-11-10 11:49:00</td>\n",
              "      <td>2011-11-10</td>\n",
              "      <td>2011</td>\n",
              "      <td>2011-11</td>\n",
              "      <td>4</td>\n",
              "      <td>11</td>\n",
              "      <td>3</td>\n",
              "      <td>11</td>\n",
              "      <td>0.0</td>\n",
              "      <td>13081</td>\n",
              "      <td>United Kingdom</td>\n",
              "      <td>0.0</td>\n",
              "    </tr>\n",
              "    <tr>\n",
              "      <th>338171</th>\n",
              "      <td>575579</td>\n",
              "      <td>22089</td>\n",
              "      <td>PAPER BUNTING VINTAGE PAISLEY</td>\n",
              "      <td>24</td>\n",
              "      <td>2011-11-10 11:49:00</td>\n",
              "      <td>2011-11-10</td>\n",
              "      <td>2011</td>\n",
              "      <td>2011-11</td>\n",
              "      <td>4</td>\n",
              "      <td>11</td>\n",
              "      <td>3</td>\n",
              "      <td>11</td>\n",
              "      <td>0.0</td>\n",
              "      <td>13081</td>\n",
              "      <td>United Kingdom</td>\n",
              "      <td>0.0</td>\n",
              "    </tr>\n",
              "    <tr>\n",
              "      <th>356571</th>\n",
              "      <td>577129</td>\n",
              "      <td>22464</td>\n",
              "      <td>HANGING METAL HEART LANTERN</td>\n",
              "      <td>4</td>\n",
              "      <td>2011-11-17 19:52:00</td>\n",
              "      <td>2011-11-17</td>\n",
              "      <td>2011</td>\n",
              "      <td>2011-11</td>\n",
              "      <td>4</td>\n",
              "      <td>11</td>\n",
              "      <td>3</td>\n",
              "      <td>19</td>\n",
              "      <td>0.0</td>\n",
              "      <td>15602</td>\n",
              "      <td>United Kingdom</td>\n",
              "      <td>0.0</td>\n",
              "    </tr>\n",
              "    <tr>\n",
              "      <th>362428</th>\n",
              "      <td>577696</td>\n",
              "      <td>M</td>\n",
              "      <td>Manual</td>\n",
              "      <td>1</td>\n",
              "      <td>2011-11-21 11:57:00</td>\n",
              "      <td>2011-11-21</td>\n",
              "      <td>2011</td>\n",
              "      <td>2011-11</td>\n",
              "      <td>4</td>\n",
              "      <td>11</td>\n",
              "      <td>0</td>\n",
              "      <td>11</td>\n",
              "      <td>0.0</td>\n",
              "      <td>16406</td>\n",
              "      <td>United Kingdom</td>\n",
              "      <td>0.0</td>\n",
              "    </tr>\n",
              "    <tr>\n",
              "      <th>374208</th>\n",
              "      <td>578841</td>\n",
              "      <td>84826</td>\n",
              "      <td>ASSTD DESIGN 3D PAPER STICKERS</td>\n",
              "      <td>12540</td>\n",
              "      <td>2011-11-25 15:57:00</td>\n",
              "      <td>2011-11-25</td>\n",
              "      <td>2011</td>\n",
              "      <td>2011-11</td>\n",
              "      <td>4</td>\n",
              "      <td>11</td>\n",
              "      <td>4</td>\n",
              "      <td>15</td>\n",
              "      <td>0.0</td>\n",
              "      <td>13256</td>\n",
              "      <td>United Kingdom</td>\n",
              "      <td>0.0</td>\n",
              "    </tr>\n",
              "  </tbody>\n",
              "</table>\n",
              "</div>"
            ],
            "text/plain": [
              "       InvoiceNo StockCode  ...         Country  Total_Price\n",
              "22619     539263     22580  ...  United Kingdom          0.0\n",
              "29374     540372     22090  ...  United Kingdom          0.0\n",
              "29376     540372     22553  ...  United Kingdom          0.0\n",
              "34903     541109     22168  ...  United Kingdom          0.0\n",
              "54482     543599    84535B  ...  United Kingdom          0.0\n",
              "86760     547417     22062  ...  United Kingdom          0.0\n",
              "93947     548318     22055  ...  United Kingdom          0.0\n",
              "98634     548871     22162  ...  United Kingdom          0.0\n",
              "130286    553000     47566  ...  United Kingdom          0.0\n",
              "197297    561284     22167  ...  United Kingdom          0.0\n",
              "202393    561916         M  ...  United Kingdom          0.0\n",
              "259711    568158      PADS  ...  United Kingdom          0.0\n",
              "262816    568384         M  ...  United Kingdom          0.0\n",
              "277443    569716     22778  ...  United Kingdom          0.0\n",
              "311019    572893     21208  ...  United Kingdom          0.0\n",
              "324002    574175     22065  ...  United Kingdom          0.0\n",
              "332277    574879     22625  ...  United Kingdom          0.0\n",
              "332897    574920     22899  ...  United Kingdom          0.0\n",
              "332898    574920     23480  ...  United Kingdom          0.0\n",
              "338170    575579     22437  ...  United Kingdom          0.0\n",
              "338171    575579     22089  ...  United Kingdom          0.0\n",
              "356571    577129     22464  ...  United Kingdom          0.0\n",
              "362428    577696         M  ...  United Kingdom          0.0\n",
              "374208    578841     84826  ...  United Kingdom          0.0\n",
              "\n",
              "[24 rows x 16 columns]"
            ]
          },
          "metadata": {
            "tags": []
          },
          "execution_count": 10
        }
      ]
    },
    {
      "cell_type": "code",
      "metadata": {
        "id": "mLFFnuUFl7MG",
        "colab": {
          "base_uri": "https://localhost:8080/"
        },
        "outputId": "b9b7e117-06a6-45b7-eafb-044372a21a34"
      },
      "source": [
        "df_uk[df_uk['InvoiceNo'] == '539263']['Total_Price'].sum()"
      ],
      "execution_count": 11,
      "outputs": [
        {
          "output_type": "execute_result",
          "data": {
            "text/plain": [
              "332.18"
            ]
          },
          "metadata": {
            "tags": []
          },
          "execution_count": 11
        }
      ]
    },
    {
      "cell_type": "markdown",
      "metadata": {
        "id": "2vU79YuqoBZ2"
      },
      "source": [
        "## **Observations**\r\n",
        "- Consider the Invoice 539263, though it has a product purchased for zero units, there are other products bought in the same order and Total order value is 332 units. Hence, it could be an discounted product.\r\n",
        "\r\n",
        "- These records are transactional level records, so, analysis on each customers had to be done why the minimum value of Unit price is zero even after removing cancelled orders."
      ]
    },
    {
      "cell_type": "code",
      "metadata": {
        "colab": {
          "base_uri": "https://localhost:8080/"
        },
        "id": "A0NeVe4poIYm",
        "outputId": "82d0434a-657e-4783-eef4-2b70b9d36bb4"
      },
      "source": [
        "# Find the minimum purchase value for each customer\r\n",
        "df_uk.groupby('CustomerID')['Total_Price'].sum().sort_values().head()"
      ],
      "execution_count": 12,
      "outputs": [
        {
          "output_type": "execute_result",
          "data": {
            "text/plain": [
              "CustomerID\n",
              "13256     0.00\n",
              "16738     3.75\n",
              "14792     6.20\n",
              "16454     6.90\n",
              "17956    12.75\n",
              "Name: Total_Price, dtype: float64"
            ]
          },
          "metadata": {
            "tags": []
          },
          "execution_count": 12
        }
      ]
    },
    {
      "cell_type": "code",
      "metadata": {
        "colab": {
          "base_uri": "https://localhost:8080/",
          "height": 131
        },
        "id": "bCuGtXDZpeqA",
        "outputId": "39500d83-f429-47d4-9474-17e6bfb729ad"
      },
      "source": [
        "df_uk[df_uk['CustomerID'] == 13256]"
      ],
      "execution_count": 13,
      "outputs": [
        {
          "output_type": "execute_result",
          "data": {
            "text/html": [
              "<div>\n",
              "<style scoped>\n",
              "    .dataframe tbody tr th:only-of-type {\n",
              "        vertical-align: middle;\n",
              "    }\n",
              "\n",
              "    .dataframe tbody tr th {\n",
              "        vertical-align: top;\n",
              "    }\n",
              "\n",
              "    .dataframe thead th {\n",
              "        text-align: right;\n",
              "    }\n",
              "</style>\n",
              "<table border=\"1\" class=\"dataframe\">\n",
              "  <thead>\n",
              "    <tr style=\"text-align: right;\">\n",
              "      <th></th>\n",
              "      <th>InvoiceNo</th>\n",
              "      <th>StockCode</th>\n",
              "      <th>Description</th>\n",
              "      <th>Quantity</th>\n",
              "      <th>InvoiceDate</th>\n",
              "      <th>Date</th>\n",
              "      <th>Year</th>\n",
              "      <th>Year_Month</th>\n",
              "      <th>Quarter</th>\n",
              "      <th>Month</th>\n",
              "      <th>Day</th>\n",
              "      <th>Hour</th>\n",
              "      <th>UnitPrice</th>\n",
              "      <th>CustomerID</th>\n",
              "      <th>Country</th>\n",
              "      <th>Total_Price</th>\n",
              "    </tr>\n",
              "  </thead>\n",
              "  <tbody>\n",
              "    <tr>\n",
              "      <th>374208</th>\n",
              "      <td>578841</td>\n",
              "      <td>84826</td>\n",
              "      <td>ASSTD DESIGN 3D PAPER STICKERS</td>\n",
              "      <td>12540</td>\n",
              "      <td>2011-11-25 15:57:00</td>\n",
              "      <td>2011-11-25</td>\n",
              "      <td>2011</td>\n",
              "      <td>2011-11</td>\n",
              "      <td>4</td>\n",
              "      <td>11</td>\n",
              "      <td>4</td>\n",
              "      <td>15</td>\n",
              "      <td>0.0</td>\n",
              "      <td>13256</td>\n",
              "      <td>United Kingdom</td>\n",
              "      <td>0.0</td>\n",
              "    </tr>\n",
              "  </tbody>\n",
              "</table>\n",
              "</div>"
            ],
            "text/plain": [
              "       InvoiceNo StockCode  ...         Country  Total_Price\n",
              "374208    578841     84826  ...  United Kingdom          0.0\n",
              "\n",
              "[1 rows x 16 columns]"
            ]
          },
          "metadata": {
            "tags": []
          },
          "execution_count": 13
        }
      ]
    },
    {
      "cell_type": "code",
      "metadata": {
        "colab": {
          "base_uri": "https://localhost:8080/",
          "height": 131
        },
        "id": "g57vYALwqF3V",
        "outputId": "559d6f2f-cbf0-4e05-da48-3d8ba79b09e0"
      },
      "source": [
        "df_uk[(df_uk['StockCode'] == '84826') & (df_uk['Date'] == '2011-11-25')]"
      ],
      "execution_count": 14,
      "outputs": [
        {
          "output_type": "execute_result",
          "data": {
            "text/html": [
              "<div>\n",
              "<style scoped>\n",
              "    .dataframe tbody tr th:only-of-type {\n",
              "        vertical-align: middle;\n",
              "    }\n",
              "\n",
              "    .dataframe tbody tr th {\n",
              "        vertical-align: top;\n",
              "    }\n",
              "\n",
              "    .dataframe thead th {\n",
              "        text-align: right;\n",
              "    }\n",
              "</style>\n",
              "<table border=\"1\" class=\"dataframe\">\n",
              "  <thead>\n",
              "    <tr style=\"text-align: right;\">\n",
              "      <th></th>\n",
              "      <th>InvoiceNo</th>\n",
              "      <th>StockCode</th>\n",
              "      <th>Description</th>\n",
              "      <th>Quantity</th>\n",
              "      <th>InvoiceDate</th>\n",
              "      <th>Date</th>\n",
              "      <th>Year</th>\n",
              "      <th>Year_Month</th>\n",
              "      <th>Quarter</th>\n",
              "      <th>Month</th>\n",
              "      <th>Day</th>\n",
              "      <th>Hour</th>\n",
              "      <th>UnitPrice</th>\n",
              "      <th>CustomerID</th>\n",
              "      <th>Country</th>\n",
              "      <th>Total_Price</th>\n",
              "    </tr>\n",
              "  </thead>\n",
              "  <tbody>\n",
              "    <tr>\n",
              "      <th>374208</th>\n",
              "      <td>578841</td>\n",
              "      <td>84826</td>\n",
              "      <td>ASSTD DESIGN 3D PAPER STICKERS</td>\n",
              "      <td>12540</td>\n",
              "      <td>2011-11-25 15:57:00</td>\n",
              "      <td>2011-11-25</td>\n",
              "      <td>2011</td>\n",
              "      <td>2011-11</td>\n",
              "      <td>4</td>\n",
              "      <td>11</td>\n",
              "      <td>4</td>\n",
              "      <td>15</td>\n",
              "      <td>0.0</td>\n",
              "      <td>13256</td>\n",
              "      <td>United Kingdom</td>\n",
              "      <td>0.0</td>\n",
              "    </tr>\n",
              "  </tbody>\n",
              "</table>\n",
              "</div>"
            ],
            "text/plain": [
              "       InvoiceNo StockCode  ...         Country  Total_Price\n",
              "374208    578841     84826  ...  United Kingdom          0.0\n",
              "\n",
              "[1 rows x 16 columns]"
            ]
          },
          "metadata": {
            "tags": []
          },
          "execution_count": 14
        }
      ]
    },
    {
      "cell_type": "markdown",
      "metadata": {
        "id": "qeFYgLVmnr_z"
      },
      "source": [
        "## **Observations**\r\n",
        "- The customer id 13256 had bought only one product (12540 qty) for Total price zero. \r\n",
        "\r\n",
        "- Apparently on the same day there was no other sales for this stock code other than this transaction. So, this had to be a data entry issue. Hence, removing this customer."
      ]
    },
    {
      "cell_type": "code",
      "metadata": {
        "colab": {
          "base_uri": "https://localhost:8080/"
        },
        "id": "lTd1DW5jrZAN",
        "outputId": "3ee4c994-d2e9-4c20-a6e9-020ff646def3"
      },
      "source": [
        "# Remove the 13256 customer\r\n",
        "df_uk = df_uk[df_uk['CustomerID'] != 13256]\r\n",
        "df_uk.CustomerID.nunique()"
      ],
      "execution_count": 15,
      "outputs": [
        {
          "output_type": "execute_result",
          "data": {
            "text/plain": [
              "3920"
            ]
          },
          "metadata": {
            "tags": []
          },
          "execution_count": 15
        }
      ]
    },
    {
      "cell_type": "markdown",
      "metadata": {
        "id": "-WT_a4LNQcKw"
      },
      "source": [
        "## **The average number of orders per customer**"
      ]
    },
    {
      "cell_type": "code",
      "metadata": {
        "id": "xu-Z_2BpQcKx",
        "colab": {
          "base_uri": "https://localhost:8080/"
        },
        "outputId": "745dc158-5f7f-44c4-a03f-c5cacf7dba5e"
      },
      "source": [
        "# get unique InvoiceNo number per customer\n",
        "df_uk.groupby('CustomerID')['InvoiceNo'].nunique().describe()"
      ],
      "execution_count": 16,
      "outputs": [
        {
          "output_type": "execute_result",
          "data": {
            "text/plain": [
              "count    3920.000000\n",
              "mean        4.246939\n",
              "std         7.206483\n",
              "min         1.000000\n",
              "25%         1.000000\n",
              "50%         2.000000\n",
              "75%         5.000000\n",
              "max       210.000000\n",
              "Name: InvoiceNo, dtype: float64"
            ]
          },
          "metadata": {
            "tags": []
          },
          "execution_count": 16
        }
      ]
    },
    {
      "cell_type": "markdown",
      "metadata": {
        "id": "eQaN_V4NQcK6"
      },
      "source": [
        "#### **Observations**\n",
        "- The average number of orders per customer is 4 orders."
      ]
    },
    {
      "cell_type": "markdown",
      "metadata": {
        "id": "4PgZOfmXQcK8"
      },
      "source": [
        "### **The average number of unique items per order**"
      ]
    },
    {
      "cell_type": "code",
      "metadata": {
        "id": "V5ObBNehQcK9",
        "colab": {
          "base_uri": "https://localhost:8080/"
        },
        "outputId": "a9e0d2ec-d4c6-406a-990c-9cdf134c7677"
      },
      "source": [
        "df_uk.groupby('InvoiceNo')['StockCode'].nunique().describe()"
      ],
      "execution_count": 17,
      "outputs": [
        {
          "output_type": "execute_result",
          "data": {
            "text/plain": [
              "count    16648.000000\n",
              "mean        20.690413\n",
              "std         23.946463\n",
              "min          1.000000\n",
              "25%          6.000000\n",
              "50%         15.000000\n",
              "75%         27.000000\n",
              "max        541.000000\n",
              "Name: StockCode, dtype: float64"
            ]
          },
          "metadata": {
            "tags": []
          },
          "execution_count": 17
        }
      ]
    },
    {
      "cell_type": "markdown",
      "metadata": {
        "id": "AJPtj1_C28xw"
      },
      "source": [
        "#### **Observations**\r\n",
        "- The average number of unique items per order is 20 products."
      ]
    },
    {
      "cell_type": "markdown",
      "metadata": {
        "id": "pmwlG7DDQYh_"
      },
      "source": [
        "## **Number by products per invoice by each customer**"
      ]
    },
    {
      "cell_type": "code",
      "metadata": {
        "id": "IxX5JtHAQYiB",
        "colab": {
          "base_uri": "https://localhost:8080/",
          "height": 204
        },
        "outputId": "6ce6f182-efd3-4e26-ae88-bf416d40eb80"
      },
      "source": [
        "temp_df =df_uk.groupby(['InvoiceNo','CustomerID'],as_index=False)['InvoiceDate'].count()\n",
        "transaction_df = temp_df.rename(columns = {'InvoiceDate':'Number of products'})\n",
        "transaction_df.head()"
      ],
      "execution_count": 18,
      "outputs": [
        {
          "output_type": "execute_result",
          "data": {
            "text/html": [
              "<div>\n",
              "<style scoped>\n",
              "    .dataframe tbody tr th:only-of-type {\n",
              "        vertical-align: middle;\n",
              "    }\n",
              "\n",
              "    .dataframe tbody tr th {\n",
              "        vertical-align: top;\n",
              "    }\n",
              "\n",
              "    .dataframe thead th {\n",
              "        text-align: right;\n",
              "    }\n",
              "</style>\n",
              "<table border=\"1\" class=\"dataframe\">\n",
              "  <thead>\n",
              "    <tr style=\"text-align: right;\">\n",
              "      <th></th>\n",
              "      <th>InvoiceNo</th>\n",
              "      <th>CustomerID</th>\n",
              "      <th>Number of products</th>\n",
              "    </tr>\n",
              "  </thead>\n",
              "  <tbody>\n",
              "    <tr>\n",
              "      <th>0</th>\n",
              "      <td>536365</td>\n",
              "      <td>17850</td>\n",
              "      <td>7</td>\n",
              "    </tr>\n",
              "    <tr>\n",
              "      <th>1</th>\n",
              "      <td>536366</td>\n",
              "      <td>17850</td>\n",
              "      <td>2</td>\n",
              "    </tr>\n",
              "    <tr>\n",
              "      <th>2</th>\n",
              "      <td>536367</td>\n",
              "      <td>13047</td>\n",
              "      <td>12</td>\n",
              "    </tr>\n",
              "    <tr>\n",
              "      <th>3</th>\n",
              "      <td>536368</td>\n",
              "      <td>13047</td>\n",
              "      <td>4</td>\n",
              "    </tr>\n",
              "    <tr>\n",
              "      <th>4</th>\n",
              "      <td>536369</td>\n",
              "      <td>13047</td>\n",
              "      <td>1</td>\n",
              "    </tr>\n",
              "  </tbody>\n",
              "</table>\n",
              "</div>"
            ],
            "text/plain": [
              "  InvoiceNo  CustomerID  Number of products\n",
              "0    536365       17850                   7\n",
              "1    536366       17850                   2\n",
              "2    536367       13047                  12\n",
              "3    536368       13047                   4\n",
              "4    536369       13047                   1"
            ]
          },
          "metadata": {
            "tags": []
          },
          "execution_count": 18
        }
      ]
    },
    {
      "cell_type": "code",
      "metadata": {
        "id": "LjayeTWfQYiF",
        "colab": {
          "base_uri": "https://localhost:8080/",
          "height": 297
        },
        "outputId": "a38adcdb-a6f1-47af-9d6d-e07e80f067b6"
      },
      "source": [
        "transaction_df.describe()"
      ],
      "execution_count": 19,
      "outputs": [
        {
          "output_type": "execute_result",
          "data": {
            "text/html": [
              "<div>\n",
              "<style scoped>\n",
              "    .dataframe tbody tr th:only-of-type {\n",
              "        vertical-align: middle;\n",
              "    }\n",
              "\n",
              "    .dataframe tbody tr th {\n",
              "        vertical-align: top;\n",
              "    }\n",
              "\n",
              "    .dataframe thead th {\n",
              "        text-align: right;\n",
              "    }\n",
              "</style>\n",
              "<table border=\"1\" class=\"dataframe\">\n",
              "  <thead>\n",
              "    <tr style=\"text-align: right;\">\n",
              "      <th></th>\n",
              "      <th>CustomerID</th>\n",
              "      <th>Number of products</th>\n",
              "    </tr>\n",
              "  </thead>\n",
              "  <tbody>\n",
              "    <tr>\n",
              "      <th>count</th>\n",
              "      <td>16648.000000</td>\n",
              "      <td>16648.000000</td>\n",
              "    </tr>\n",
              "    <tr>\n",
              "      <th>mean</th>\n",
              "      <td>15507.675396</td>\n",
              "      <td>20.977054</td>\n",
              "    </tr>\n",
              "    <tr>\n",
              "      <th>std</th>\n",
              "      <td>1626.311975</td>\n",
              "      <td>24.527607</td>\n",
              "    </tr>\n",
              "    <tr>\n",
              "      <th>min</th>\n",
              "      <td>12346.000000</td>\n",
              "      <td>1.000000</td>\n",
              "    </tr>\n",
              "    <tr>\n",
              "      <th>25%</th>\n",
              "      <td>14097.500000</td>\n",
              "      <td>6.000000</td>\n",
              "    </tr>\n",
              "    <tr>\n",
              "      <th>50%</th>\n",
              "      <td>15498.000000</td>\n",
              "      <td>15.000000</td>\n",
              "    </tr>\n",
              "    <tr>\n",
              "      <th>75%</th>\n",
              "      <td>16923.000000</td>\n",
              "      <td>27.000000</td>\n",
              "    </tr>\n",
              "    <tr>\n",
              "      <th>max</th>\n",
              "      <td>18287.000000</td>\n",
              "      <td>542.000000</td>\n",
              "    </tr>\n",
              "  </tbody>\n",
              "</table>\n",
              "</div>"
            ],
            "text/plain": [
              "         CustomerID  Number of products\n",
              "count  16648.000000        16648.000000\n",
              "mean   15507.675396           20.977054\n",
              "std     1626.311975           24.527607\n",
              "min    12346.000000            1.000000\n",
              "25%    14097.500000            6.000000\n",
              "50%    15498.000000           15.000000\n",
              "75%    16923.000000           27.000000\n",
              "max    18287.000000          542.000000"
            ]
          },
          "metadata": {
            "tags": []
          },
          "execution_count": 19
        }
      ]
    },
    {
      "cell_type": "code",
      "metadata": {
        "id": "5OqamQz3QYiJ",
        "colab": {
          "base_uri": "https://localhost:8080/",
          "height": 374
        },
        "outputId": "7f87965d-a802-4784-8507-98878a7b543f"
      },
      "source": [
        "fig, ax = plt.subplots()\n",
        "fig.set_size_inches(10, 6)\n",
        "sns.distplot(x=transaction_df['Number of products'],ax=ax)\n",
        "plt.show()"
      ],
      "execution_count": 20,
      "outputs": [
        {
          "output_type": "display_data",
          "data": {
            "image/png": "[encoded data removed]",
            "text/plain": [
              "<Figure size 720x432 with 1 Axes>"
            ]
          },
          "metadata": {
            "tags": [],
            "needs_background": "light"
          }
        }
      ]
    },
    {
      "cell_type": "markdown",
      "metadata": {
        "id": "E6vBt0xrQYiL"
      },
      "source": [
        "#### **Observations**\r\n",
        "- The distribution is skewed. Most people **buy less than 27 items**."
      ]
    },
    {
      "cell_type": "markdown",
      "metadata": {
        "id": "CMZmiIqtS-KZ"
      },
      "source": [
        "## **Year_Month Sales Trend**"
      ]
    },
    {
      "cell_type": "code",
      "metadata": {
        "colab": {
          "base_uri": "https://localhost:8080/",
          "height": 470
        },
        "id": "xWLdzo3ZSbsk",
        "outputId": "958a6a73-72de-4d9b-e2ac-be702d516678"
      },
      "source": [
        "plt.figure(figsize=(15,6))\r\n",
        "plt.plot(df_uk.groupby(['Year_Month'])['Total_Price'].sum(), color='b')\r\n",
        "plt.ylabel('Sales')\r\n",
        "plt.xlabel('Year_Month')\r\n",
        "plt.title(\"\\n Sales Trend \\n\", size=25)\r\n",
        "plt.show()"
      ],
      "execution_count": 21,
      "outputs": [
        {
          "output_type": "display_data",
          "data": {
            "image/png": "[encoded data removed]",
            "text/plain": [
              "<Figure size 1080x432 with 1 Axes>"
            ]
          },
          "metadata": {
            "tags": [],
            "needs_background": "light"
          }
        }
      ]
    },
    {
      "cell_type": "markdown",
      "metadata": {
        "id": "iW952DJVUogG"
      },
      "source": [
        "#### **Observations**\r\n",
        "- Sales is high during the month of **November** which could be for various reasons such as Christmas, Thanksgiving and Black Friday sales.\r\n",
        "- There is an increasing Trend in the sales and peaks and troughs are seen."
      ]
    },
    {
      "cell_type": "markdown",
      "metadata": {
        "id": "cyh88eZR5dBa"
      },
      "source": [
        "## **Top 10 most bought Products in UK**"
      ]
    },
    {
      "cell_type": "code",
      "metadata": {
        "colab": {
          "base_uri": "https://localhost:8080/",
          "height": 469
        },
        "id": "FnJeiEKK5E0-",
        "outputId": "cda374db-05f0-4421-b95e-f555e169ad15"
      },
      "source": [
        "plt.figure(figsize=(15,6))\r\n",
        "df_uk.groupby('StockCode')['Quantity'].sum().nlargest(10).plot(kind='bar',color = '#b80045')\r\n",
        "plt.xticks(rotation='horizontal')\r\n",
        "plt.ylabel('Count')\r\n",
        "plt.xlabel('Products')\r\n",
        "plt.title(\"\\n Most bought products \\n\", size=25)\r\n",
        "plt.show()"
      ],
      "execution_count": 22,
      "outputs": [
        {
          "output_type": "display_data",
          "data": {
            "image/png": "[encoded data removed]",
            "text/plain": [
              "<Figure size 1080x432 with 1 Axes>"
            ]
          },
          "metadata": {
            "tags": [],
            "needs_background": "light"
          }
        }
      ]
    },
    {
      "cell_type": "markdown",
      "metadata": {
        "id": "roPtT8QV8Hy4"
      },
      "source": [
        "# **Website/Internet business Valuation metrics**"
      ]
    },
    {
      "cell_type": "markdown",
      "metadata": {
        "id": "MgPeUxgOfcpN"
      },
      "source": [
        "https://corporatefinanceinstitute.com/resources/knowledge/valuation/startup-valuation-metrics-internet/"
      ]
    },
    {
      "cell_type": "markdown",
      "metadata": {
        "id": "c1nGuJCw8O9x"
      },
      "source": [
        "## **Monthly Active/Unique Customers**"
      ]
    },
    {
      "cell_type": "code",
      "metadata": {
        "id": "vfuehFazIRH6"
      },
      "source": [
        "monthly_unique = df_uk.groupby('Year_Month')['CustomerID'].nunique()"
      ],
      "execution_count": 23,
      "outputs": []
    },
    {
      "cell_type": "code",
      "metadata": {
        "colab": {
          "base_uri": "https://localhost:8080/",
          "height": 500
        },
        "id": "4W4hZZkW5i_C",
        "outputId": "d5e3f89c-e50f-4ea2-e299-5e6ed9c5e357"
      },
      "source": [
        "plt.figure(figsize=(15,6))\r\n",
        "monthly_unique.plot(kind='bar',color = '#b80045')\r\n",
        "plt.ylabel('Number of unique Customers')\r\n",
        "plt.xlabel('Month')\r\n",
        "plt.title(\"\\n Monthly unique customers \\n\", size=25)\r\n",
        "plt.show()"
      ],
      "execution_count": 24,
      "outputs": [
        {
          "output_type": "display_data",
          "data": {
            "image/png": "[encoded data removed]",
            "text/plain": [
              "<Figure size 1080x432 with 1 Axes>"
            ]
          },
          "metadata": {
            "tags": [],
            "needs_background": "light"
          }
        }
      ]
    },
    {
      "cell_type": "code",
      "metadata": {
        "colab": {
          "base_uri": "https://localhost:8080/"
        },
        "id": "YWJFfu3p-Nw3",
        "outputId": "cb583891-4480-4aac-d597-871b9f6d1d2b"
      },
      "source": [
        "monthly_unique.describe()"
      ],
      "execution_count": 25,
      "outputs": [
        {
          "output_type": "execute_result",
          "data": {
            "text/plain": [
              "count      13.000000\n",
              "mean      906.923077\n",
              "std       257.285659\n",
              "min       560.000000\n",
              "25%       784.000000\n",
              "50%       859.000000\n",
              "75%       962.000000\n",
              "max      1505.000000\n",
              "Name: CustomerID, dtype: float64"
            ]
          },
          "metadata": {
            "tags": []
          },
          "execution_count": 25
        }
      ]
    },
    {
      "cell_type": "code",
      "metadata": {
        "colab": {
          "base_uri": "https://localhost:8080/",
          "height": 483
        },
        "id": "pgocREFXBFE7",
        "outputId": "baa24856-ee81-441c-f3da-838467889fa5"
      },
      "source": [
        "(monthly_unique/df_uk['CustomerID'].nunique()*100).to_frame()"
      ],
      "execution_count": 26,
      "outputs": [
        {
          "output_type": "execute_result",
          "data": {
            "text/html": [
              "<div>\n",
              "<style scoped>\n",
              "    .dataframe tbody tr th:only-of-type {\n",
              "        vertical-align: middle;\n",
              "    }\n",
              "\n",
              "    .dataframe tbody tr th {\n",
              "        vertical-align: top;\n",
              "    }\n",
              "\n",
              "    .dataframe thead th {\n",
              "        text-align: right;\n",
              "    }\n",
              "</style>\n",
              "<table border=\"1\" class=\"dataframe\">\n",
              "  <thead>\n",
              "    <tr style=\"text-align: right;\">\n",
              "      <th></th>\n",
              "      <th>CustomerID</th>\n",
              "    </tr>\n",
              "    <tr>\n",
              "      <th>Year_Month</th>\n",
              "      <th></th>\n",
              "    </tr>\n",
              "  </thead>\n",
              "  <tbody>\n",
              "    <tr>\n",
              "      <th>2010-12</th>\n",
              "      <td>20.790816</td>\n",
              "    </tr>\n",
              "    <tr>\n",
              "      <th>2011-01</th>\n",
              "      <td>16.505102</td>\n",
              "    </tr>\n",
              "    <tr>\n",
              "      <th>2011-02</th>\n",
              "      <td>17.321429</td>\n",
              "    </tr>\n",
              "    <tr>\n",
              "      <th>2011-03</th>\n",
              "      <td>22.448980</td>\n",
              "    </tr>\n",
              "    <tr>\n",
              "      <th>2011-04</th>\n",
              "      <td>20.000000</td>\n",
              "    </tr>\n",
              "    <tr>\n",
              "      <th>2011-05</th>\n",
              "      <td>24.540816</td>\n",
              "    </tr>\n",
              "    <tr>\n",
              "      <th>2011-06</th>\n",
              "      <td>22.678571</td>\n",
              "    </tr>\n",
              "    <tr>\n",
              "      <th>2011-07</th>\n",
              "      <td>21.913265</td>\n",
              "    </tr>\n",
              "    <tr>\n",
              "      <th>2011-08</th>\n",
              "      <td>21.275510</td>\n",
              "    </tr>\n",
              "    <tr>\n",
              "      <th>2011-09</th>\n",
              "      <td>29.234694</td>\n",
              "    </tr>\n",
              "    <tr>\n",
              "      <th>2011-10</th>\n",
              "      <td>31.377551</td>\n",
              "    </tr>\n",
              "    <tr>\n",
              "      <th>2011-11</th>\n",
              "      <td>38.392857</td>\n",
              "    </tr>\n",
              "    <tr>\n",
              "      <th>2011-12</th>\n",
              "      <td>14.285714</td>\n",
              "    </tr>\n",
              "  </tbody>\n",
              "</table>\n",
              "</div>"
            ],
            "text/plain": [
              "            CustomerID\n",
              "Year_Month            \n",
              "2010-12      20.790816\n",
              "2011-01      16.505102\n",
              "2011-02      17.321429\n",
              "2011-03      22.448980\n",
              "2011-04      20.000000\n",
              "2011-05      24.540816\n",
              "2011-06      22.678571\n",
              "2011-07      21.913265\n",
              "2011-08      21.275510\n",
              "2011-09      29.234694\n",
              "2011-10      31.377551\n",
              "2011-11      38.392857\n",
              "2011-12      14.285714"
            ]
          },
          "metadata": {
            "tags": []
          },
          "execution_count": 26
        }
      ]
    },
    {
      "cell_type": "markdown",
      "metadata": {
        "id": "9BSrCmpE-SmC"
      },
      "source": [
        "#### **Observations**\r\n",
        "- Monthly active users depicts how big the company's audience are and how much they could potentially earn. \r\n",
        "- During November, the festive season, number of customers are more around **1505** and on minimum there are about 560 customers.\r\n",
        "- Out of **3920** unique users in UK, **38%** of them visited during the month of **November**."
      ]
    },
    {
      "cell_type": "markdown",
      "metadata": {
        "id": "gc7WI-seGmdt"
      },
      "source": [
        "## **Monthly sales**"
      ]
    },
    {
      "cell_type": "code",
      "metadata": {
        "colab": {
          "base_uri": "https://localhost:8080/",
          "height": 470
        },
        "id": "zq3fpBadGo6W",
        "outputId": "99fb8a17-f762-4fac-997a-847678647828"
      },
      "source": [
        "plt.figure(figsize=(15,6))\r\n",
        "df_uk.groupby('Year_Month')['Total_Price'].sum().plot(kind='bar',color = '#b80045')\r\n",
        "plt.xticks(rotation='horizontal')\r\n",
        "plt.ylabel('Sales')\r\n",
        "plt.title(\"\\n Monthly sales \\n\", size=25)\r\n",
        "plt.show()"
      ],
      "execution_count": 27,
      "outputs": [
        {
          "output_type": "display_data",
          "data": {
            "image/png": "[encoded data removed]",
            "text/plain": [
              "<Figure size 1080x432 with 1 Axes>"
            ]
          },
          "metadata": {
            "tags": [],
            "needs_background": "light"
          }
        }
      ]
    },
    {
      "cell_type": "markdown",
      "metadata": {
        "id": "siG_Cw3YG21b"
      },
      "source": [
        "#### **Observations**\r\n",
        "- There is a high sales in the month of November which could be due to festivites and black friday sales.\r\n",
        "- Q1 sales had to be improved by extending offers or discounts at the beginning of the year."
      ]
    },
    {
      "cell_type": "markdown",
      "metadata": {
        "id": "HKpNAEPUWoja"
      },
      "source": [
        "## **What is MoM? (Month over month)**\r\n"
      ]
    },
    {
      "cell_type": "code",
      "metadata": {
        "id": "bFfefJPn_YYK",
        "colab": {
          "base_uri": "https://localhost:8080/",
          "height": 235
        },
        "outputId": "2b791092-d8ca-45f6-8891-2c7a40785e84"
      },
      "source": [
        "MoM_Data = pd.DataFrame(df_uk.groupby('Year_Month')['Total_Price'].sum())\r\n",
        "MoM_Data.columns = ['Sales']\r\n",
        "MoM_Data.head()"
      ],
      "execution_count": 28,
      "outputs": [
        {
          "output_type": "execute_result",
          "data": {
            "text/html": [
              "<div>\n",
              "<style scoped>\n",
              "    .dataframe tbody tr th:only-of-type {\n",
              "        vertical-align: middle;\n",
              "    }\n",
              "\n",
              "    .dataframe tbody tr th {\n",
              "        vertical-align: top;\n",
              "    }\n",
              "\n",
              "    .dataframe thead th {\n",
              "        text-align: right;\n",
              "    }\n",
              "</style>\n",
              "<table border=\"1\" class=\"dataframe\">\n",
              "  <thead>\n",
              "    <tr style=\"text-align: right;\">\n",
              "      <th></th>\n",
              "      <th>Sales</th>\n",
              "    </tr>\n",
              "    <tr>\n",
              "      <th>Year_Month</th>\n",
              "      <th></th>\n",
              "    </tr>\n",
              "  </thead>\n",
              "  <tbody>\n",
              "    <tr>\n",
              "      <th>2010-12</th>\n",
              "      <td>496477.340</td>\n",
              "    </tr>\n",
              "    <tr>\n",
              "      <th>2011-01</th>\n",
              "      <td>440876.330</td>\n",
              "    </tr>\n",
              "    <tr>\n",
              "      <th>2011-02</th>\n",
              "      <td>354618.200</td>\n",
              "    </tr>\n",
              "    <tr>\n",
              "      <th>2011-03</th>\n",
              "      <td>465784.190</td>\n",
              "    </tr>\n",
              "    <tr>\n",
              "      <th>2011-04</th>\n",
              "      <td>408733.111</td>\n",
              "    </tr>\n",
              "  </tbody>\n",
              "</table>\n",
              "</div>"
            ],
            "text/plain": [
              "                 Sales\n",
              "Year_Month            \n",
              "2010-12     496477.340\n",
              "2011-01     440876.330\n",
              "2011-02     354618.200\n",
              "2011-03     465784.190\n",
              "2011-04     408733.111"
            ]
          },
          "metadata": {
            "tags": []
          },
          "execution_count": 28
        }
      ]
    },
    {
      "cell_type": "code",
      "metadata": {
        "colab": {
          "base_uri": "https://localhost:8080/",
          "height": 235
        },
        "id": "15bvJm6XXVW4",
        "outputId": "c51036a8-a20b-45c5-dc89-f24571bc6f1a"
      },
      "source": [
        "MoM_Data['Last_Month'] = np.roll(MoM_Data['Sales'],1)\r\n",
        "MoM_Data.head()"
      ],
      "execution_count": 29,
      "outputs": [
        {
          "output_type": "execute_result",
          "data": {
            "text/html": [
              "<div>\n",
              "<style scoped>\n",
              "    .dataframe tbody tr th:only-of-type {\n",
              "        vertical-align: middle;\n",
              "    }\n",
              "\n",
              "    .dataframe tbody tr th {\n",
              "        vertical-align: top;\n",
              "    }\n",
              "\n",
              "    .dataframe thead th {\n",
              "        text-align: right;\n",
              "    }\n",
              "</style>\n",
              "<table border=\"1\" class=\"dataframe\">\n",
              "  <thead>\n",
              "    <tr style=\"text-align: right;\">\n",
              "      <th></th>\n",
              "      <th>Sales</th>\n",
              "      <th>Last_Month</th>\n",
              "    </tr>\n",
              "    <tr>\n",
              "      <th>Year_Month</th>\n",
              "      <th></th>\n",
              "      <th></th>\n",
              "    </tr>\n",
              "  </thead>\n",
              "  <tbody>\n",
              "    <tr>\n",
              "      <th>2010-12</th>\n",
              "      <td>496477.340</td>\n",
              "      <td>471381.82</td>\n",
              "    </tr>\n",
              "    <tr>\n",
              "      <th>2011-01</th>\n",
              "      <td>440876.330</td>\n",
              "      <td>496477.34</td>\n",
              "    </tr>\n",
              "    <tr>\n",
              "      <th>2011-02</th>\n",
              "      <td>354618.200</td>\n",
              "      <td>440876.33</td>\n",
              "    </tr>\n",
              "    <tr>\n",
              "      <th>2011-03</th>\n",
              "      <td>465784.190</td>\n",
              "      <td>354618.20</td>\n",
              "    </tr>\n",
              "    <tr>\n",
              "      <th>2011-04</th>\n",
              "      <td>408733.111</td>\n",
              "      <td>465784.19</td>\n",
              "    </tr>\n",
              "  </tbody>\n",
              "</table>\n",
              "</div>"
            ],
            "text/plain": [
              "                 Sales  Last_Month\n",
              "Year_Month                        \n",
              "2010-12     496477.340   471381.82\n",
              "2011-01     440876.330   496477.34\n",
              "2011-02     354618.200   440876.33\n",
              "2011-03     465784.190   354618.20\n",
              "2011-04     408733.111   465784.19"
            ]
          },
          "metadata": {
            "tags": []
          },
          "execution_count": 29
        }
      ]
    },
    {
      "cell_type": "code",
      "metadata": {
        "colab": {
          "base_uri": "https://localhost:8080/",
          "height": 235
        },
        "id": "49DHfUMNXeW0",
        "outputId": "066a8bd7-d144-44a4-eafc-822d2f401077"
      },
      "source": [
        "#Now, since the MoM first month cannot be found since we donot have it's previous month value.\r\n",
        "#By default, a junk value has been put in the last value and rolled up over there. SO we need to remove that.\r\n",
        "MoM_Data = MoM_Data.drop(MoM_Data.index[0])\r\n",
        "MoM_Data.head()"
      ],
      "execution_count": 30,
      "outputs": [
        {
          "output_type": "execute_result",
          "data": {
            "text/html": [
              "<div>\n",
              "<style scoped>\n",
              "    .dataframe tbody tr th:only-of-type {\n",
              "        vertical-align: middle;\n",
              "    }\n",
              "\n",
              "    .dataframe tbody tr th {\n",
              "        vertical-align: top;\n",
              "    }\n",
              "\n",
              "    .dataframe thead th {\n",
              "        text-align: right;\n",
              "    }\n",
              "</style>\n",
              "<table border=\"1\" class=\"dataframe\">\n",
              "  <thead>\n",
              "    <tr style=\"text-align: right;\">\n",
              "      <th></th>\n",
              "      <th>Sales</th>\n",
              "      <th>Last_Month</th>\n",
              "    </tr>\n",
              "    <tr>\n",
              "      <th>Year_Month</th>\n",
              "      <th></th>\n",
              "      <th></th>\n",
              "    </tr>\n",
              "  </thead>\n",
              "  <tbody>\n",
              "    <tr>\n",
              "      <th>2011-01</th>\n",
              "      <td>440876.330</td>\n",
              "      <td>496477.340</td>\n",
              "    </tr>\n",
              "    <tr>\n",
              "      <th>2011-02</th>\n",
              "      <td>354618.200</td>\n",
              "      <td>440876.330</td>\n",
              "    </tr>\n",
              "    <tr>\n",
              "      <th>2011-03</th>\n",
              "      <td>465784.190</td>\n",
              "      <td>354618.200</td>\n",
              "    </tr>\n",
              "    <tr>\n",
              "      <th>2011-04</th>\n",
              "      <td>408733.111</td>\n",
              "      <td>465784.190</td>\n",
              "    </tr>\n",
              "    <tr>\n",
              "      <th>2011-05</th>\n",
              "      <td>550359.350</td>\n",
              "      <td>408733.111</td>\n",
              "    </tr>\n",
              "  </tbody>\n",
              "</table>\n",
              "</div>"
            ],
            "text/plain": [
              "                 Sales  Last_Month\n",
              "Year_Month                        \n",
              "2011-01     440876.330  496477.340\n",
              "2011-02     354618.200  440876.330\n",
              "2011-03     465784.190  354618.200\n",
              "2011-04     408733.111  465784.190\n",
              "2011-05     550359.350  408733.111"
            ]
          },
          "metadata": {
            "tags": []
          },
          "execution_count": 30
        }
      ]
    },
    {
      "cell_type": "code",
      "metadata": {
        "colab": {
          "base_uri": "https://localhost:8080/",
          "height": 452
        },
        "id": "Eb29sbrHXmFe",
        "outputId": "f6baa998-f820-4a81-b80f-bc1022405c1a"
      },
      "source": [
        "#Calculating MoM Growth for each month\r\n",
        "MoM_Data['Growth'] = (MoM_Data['Sales']/MoM_Data['Last_Month'])-1\r\n",
        "MoM_Data"
      ],
      "execution_count": 31,
      "outputs": [
        {
          "output_type": "execute_result",
          "data": {
            "text/html": [
              "<div>\n",
              "<style scoped>\n",
              "    .dataframe tbody tr th:only-of-type {\n",
              "        vertical-align: middle;\n",
              "    }\n",
              "\n",
              "    .dataframe tbody tr th {\n",
              "        vertical-align: top;\n",
              "    }\n",
              "\n",
              "    .dataframe thead th {\n",
              "        text-align: right;\n",
              "    }\n",
              "</style>\n",
              "<table border=\"1\" class=\"dataframe\">\n",
              "  <thead>\n",
              "    <tr style=\"text-align: right;\">\n",
              "      <th></th>\n",
              "      <th>Sales</th>\n",
              "      <th>Last_Month</th>\n",
              "      <th>Growth</th>\n",
              "    </tr>\n",
              "    <tr>\n",
              "      <th>Year_Month</th>\n",
              "      <th></th>\n",
              "      <th></th>\n",
              "      <th></th>\n",
              "    </tr>\n",
              "  </thead>\n",
              "  <tbody>\n",
              "    <tr>\n",
              "      <th>2011-01</th>\n",
              "      <td>440876.330</td>\n",
              "      <td>496477.340</td>\n",
              "      <td>-0.111991</td>\n",
              "    </tr>\n",
              "    <tr>\n",
              "      <th>2011-02</th>\n",
              "      <td>354618.200</td>\n",
              "      <td>440876.330</td>\n",
              "      <td>-0.195652</td>\n",
              "    </tr>\n",
              "    <tr>\n",
              "      <th>2011-03</th>\n",
              "      <td>465784.190</td>\n",
              "      <td>354618.200</td>\n",
              "      <td>0.313481</td>\n",
              "    </tr>\n",
              "    <tr>\n",
              "      <th>2011-04</th>\n",
              "      <td>408733.111</td>\n",
              "      <td>465784.190</td>\n",
              "      <td>-0.122484</td>\n",
              "    </tr>\n",
              "    <tr>\n",
              "      <th>2011-05</th>\n",
              "      <td>550359.350</td>\n",
              "      <td>408733.111</td>\n",
              "      <td>0.346501</td>\n",
              "    </tr>\n",
              "    <tr>\n",
              "      <th>2011-06</th>\n",
              "      <td>523775.590</td>\n",
              "      <td>550359.350</td>\n",
              "      <td>-0.048303</td>\n",
              "    </tr>\n",
              "    <tr>\n",
              "      <th>2011-07</th>\n",
              "      <td>484545.591</td>\n",
              "      <td>523775.590</td>\n",
              "      <td>-0.074898</td>\n",
              "    </tr>\n",
              "    <tr>\n",
              "      <th>2011-08</th>\n",
              "      <td>497194.910</td>\n",
              "      <td>484545.591</td>\n",
              "      <td>0.026106</td>\n",
              "    </tr>\n",
              "    <tr>\n",
              "      <th>2011-09</th>\n",
              "      <td>794806.692</td>\n",
              "      <td>497194.910</td>\n",
              "      <td>0.598582</td>\n",
              "    </tr>\n",
              "    <tr>\n",
              "      <th>2011-10</th>\n",
              "      <td>821220.130</td>\n",
              "      <td>794806.692</td>\n",
              "      <td>0.033233</td>\n",
              "    </tr>\n",
              "    <tr>\n",
              "      <th>2011-11</th>\n",
              "      <td>975251.390</td>\n",
              "      <td>821220.130</td>\n",
              "      <td>0.187564</td>\n",
              "    </tr>\n",
              "    <tr>\n",
              "      <th>2011-12</th>\n",
              "      <td>471381.820</td>\n",
              "      <td>975251.390</td>\n",
              "      <td>-0.516656</td>\n",
              "    </tr>\n",
              "  </tbody>\n",
              "</table>\n",
              "</div>"
            ],
            "text/plain": [
              "                 Sales  Last_Month    Growth\n",
              "Year_Month                                  \n",
              "2011-01     440876.330  496477.340 -0.111991\n",
              "2011-02     354618.200  440876.330 -0.195652\n",
              "2011-03     465784.190  354618.200  0.313481\n",
              "2011-04     408733.111  465784.190 -0.122484\n",
              "2011-05     550359.350  408733.111  0.346501\n",
              "2011-06     523775.590  550359.350 -0.048303\n",
              "2011-07     484545.591  523775.590 -0.074898\n",
              "2011-08     497194.910  484545.591  0.026106\n",
              "2011-09     794806.692  497194.910  0.598582\n",
              "2011-10     821220.130  794806.692  0.033233\n",
              "2011-11     975251.390  821220.130  0.187564\n",
              "2011-12     471381.820  975251.390 -0.516656"
            ]
          },
          "metadata": {
            "tags": []
          },
          "execution_count": 31
        }
      ]
    },
    {
      "cell_type": "code",
      "metadata": {
        "colab": {
          "base_uri": "https://localhost:8080/",
          "height": 204
        },
        "id": "pYSnzgHgYUQj",
        "outputId": "1e5d6aaf-8db6-491e-b289-8deba64f2f75"
      },
      "source": [
        "##Plotting MoM Growth\r\n",
        "MoM_plot = MoM_Data.drop(columns = [\"Sales\", \"Last_Month\"])\r\n",
        "MoM_plot['Months'] = MoM_plot.index\r\n",
        "MoM_plot.reset_index(drop=True, inplace=True)\r\n",
        "MoM_plot.head()"
      ],
      "execution_count": 32,
      "outputs": [
        {
          "output_type": "execute_result",
          "data": {
            "text/html": [
              "<div>\n",
              "<style scoped>\n",
              "    .dataframe tbody tr th:only-of-type {\n",
              "        vertical-align: middle;\n",
              "    }\n",
              "\n",
              "    .dataframe tbody tr th {\n",
              "        vertical-align: top;\n",
              "    }\n",
              "\n",
              "    .dataframe thead th {\n",
              "        text-align: right;\n",
              "    }\n",
              "</style>\n",
              "<table border=\"1\" class=\"dataframe\">\n",
              "  <thead>\n",
              "    <tr style=\"text-align: right;\">\n",
              "      <th></th>\n",
              "      <th>Growth</th>\n",
              "      <th>Months</th>\n",
              "    </tr>\n",
              "  </thead>\n",
              "  <tbody>\n",
              "    <tr>\n",
              "      <th>0</th>\n",
              "      <td>-0.111991</td>\n",
              "      <td>2011-01</td>\n",
              "    </tr>\n",
              "    <tr>\n",
              "      <th>1</th>\n",
              "      <td>-0.195652</td>\n",
              "      <td>2011-02</td>\n",
              "    </tr>\n",
              "    <tr>\n",
              "      <th>2</th>\n",
              "      <td>0.313481</td>\n",
              "      <td>2011-03</td>\n",
              "    </tr>\n",
              "    <tr>\n",
              "      <th>3</th>\n",
              "      <td>-0.122484</td>\n",
              "      <td>2011-04</td>\n",
              "    </tr>\n",
              "    <tr>\n",
              "      <th>4</th>\n",
              "      <td>0.346501</td>\n",
              "      <td>2011-05</td>\n",
              "    </tr>\n",
              "  </tbody>\n",
              "</table>\n",
              "</div>"
            ],
            "text/plain": [
              "     Growth   Months\n",
              "0 -0.111991  2011-01\n",
              "1 -0.195652  2011-02\n",
              "2  0.313481  2011-03\n",
              "3 -0.122484  2011-04\n",
              "4  0.346501  2011-05"
            ]
          },
          "metadata": {
            "tags": []
          },
          "execution_count": 32
        }
      ]
    },
    {
      "cell_type": "code",
      "metadata": {
        "colab": {
          "base_uri": "https://localhost:8080/",
          "height": 414
        },
        "id": "CBWp1etGYh_m",
        "outputId": "8b744da2-5ded-4af8-bbb9-7bd1832da948"
      },
      "source": [
        "plt.figure(figsize=(15,5))\r\n",
        "plt.bar(MoM_plot['Months'],MoM_plot['Growth']*100,color = '#b80045')\r\n",
        "plt.ylabel('% Growth')\r\n",
        "plt.xlabel('Month')\r\n",
        "plt.title(\"\\n MoM Growth Over Time \\n\", size=25)\r\n",
        "plt.show()"
      ],
      "execution_count": 33,
      "outputs": [
        {
          "output_type": "display_data",
          "data": {
            "image/png": "[encoded data removed]",
            "text/plain": [
              "<Figure size 1080x360 with 1 Axes>"
            ]
          },
          "metadata": {
            "tags": [],
            "needs_background": "light"
          }
        }
      ]
    },
    {
      "cell_type": "markdown",
      "metadata": {
        "id": "Pi77nTbHDIiU"
      },
      "source": [
        "#### **Observations**\r\n",
        "- Though the number of customers and sales is high in the month November, \r\n",
        "its clear that there has been a gradual increase and not sudden spike from october to november. \r\n",
        "- This suggests that customers have been shopping for the festive season from the month of september as there is a sudden MoM growth in the month 9 with **59% increase in sales compared to August**.\r\n",
        "- The suggestion would be to provide an Early bird offer from the month of September to stabilize and increase the sales more."
      ]
    },
    {
      "cell_type": "markdown",
      "metadata": {
        "id": "Va2UHUhGHf3u"
      },
      "source": [
        "## **Month wise - Percentage of new users**"
      ]
    },
    {
      "cell_type": "code",
      "metadata": {
        "id": "Vdy7apmiL4j9"
      },
      "source": [
        "def monthly_new_users():\r\n",
        "  last = pd.DataFrame(df_uk[df_uk['Year_Month'] == '2010-12']['CustomerID'].unique(),columns=['cust_id'])\r\n",
        "  l = [0]\r\n",
        "  for i in df_uk[df_uk['Year_Month'] > '2010-12'].Year_Month.unique():\r\n",
        "    dummy = pd.DataFrame(df_uk[df_uk['Year_Month'] == i]['CustomerID'].unique(),columns=['cust_id'])\r\n",
        "    l.append(len((set(dummy['cust_id']))-set(last['cust_id'])))\r\n",
        "    last = last.append(dummy,ignore_index=True).drop_duplicates()\r\n",
        "  return l"
      ],
      "execution_count": 34,
      "outputs": []
    },
    {
      "cell_type": "code",
      "metadata": {
        "colab": {
          "base_uri": "https://localhost:8080/",
          "height": 414
        },
        "id": "nH_PZXl1CeFc",
        "outputId": "26c6110b-5196-49d4-aad7-30b18cf953ac"
      },
      "source": [
        "CCR = monthly_unique.to_frame()\r\n",
        "CCR.columns = ['Unique_users']\r\n",
        "CCR['New_users'] = monthly_new_users()\r\n",
        "# dropping 2010-12 as it doesn't have previous month's data to find new users\r\n",
        "CCR = CCR.drop(CCR.index[0])\r\n",
        "# Percentage of new users made purchase every month\r\n",
        "CCR['Percent_new_users'] = (CCR['New_users']/CCR['Unique_users'])*100\r\n",
        "plt.figure(figsize=(15,5))\r\n",
        "plt.bar(CCR.index,CCR['Percent_new_users'], color = '#b80045')\r\n",
        "plt.ylabel('% New Users')\r\n",
        "plt.xlabel('Month')\r\n",
        "plt.title(\"\\n Month-wise % of new users \\n\", size=25)\r\n",
        "plt.show()"
      ],
      "execution_count": 35,
      "outputs": [
        {
          "output_type": "display_data",
          "data": {
            "image/png": "[encoded data removed]",
            "text/plain": [
              "<Figure size 1080x360 with 1 Axes>"
            ]
          },
          "metadata": {
            "tags": [],
            "needs_background": "light"
          }
        }
      ]
    },
    {
      "cell_type": "code",
      "metadata": {
        "colab": {
          "base_uri": "https://localhost:8080/",
          "height": 297
        },
        "id": "9_OU0xAx1ghp",
        "outputId": "57bb4c51-3e96-44c3-fe4b-7aab69f8d95f"
      },
      "source": [
        "CCR.describe()"
      ],
      "execution_count": 36,
      "outputs": [
        {
          "output_type": "execute_result",
          "data": {
            "text/html": [
              "<div>\n",
              "<style scoped>\n",
              "    .dataframe tbody tr th:only-of-type {\n",
              "        vertical-align: middle;\n",
              "    }\n",
              "\n",
              "    .dataframe tbody tr th {\n",
              "        vertical-align: top;\n",
              "    }\n",
              "\n",
              "    .dataframe thead th {\n",
              "        text-align: right;\n",
              "    }\n",
              "</style>\n",
              "<table border=\"1\" class=\"dataframe\">\n",
              "  <thead>\n",
              "    <tr style=\"text-align: right;\">\n",
              "      <th></th>\n",
              "      <th>Unique_users</th>\n",
              "      <th>New_users</th>\n",
              "      <th>Percent_new_users</th>\n",
              "    </tr>\n",
              "  </thead>\n",
              "  <tbody>\n",
              "    <tr>\n",
              "      <th>count</th>\n",
              "      <td>12.000000</td>\n",
              "      <td>12.00000</td>\n",
              "      <td>12.000000</td>\n",
              "    </tr>\n",
              "    <tr>\n",
              "      <th>mean</th>\n",
              "      <td>914.583333</td>\n",
              "      <td>258.75000</td>\n",
              "      <td>29.320485</td>\n",
              "    </tr>\n",
              "    <tr>\n",
              "      <th>std</th>\n",
              "      <td>267.173236</td>\n",
              "      <td>105.71241</td>\n",
              "      <td>14.859471</td>\n",
              "    </tr>\n",
              "    <tr>\n",
              "      <th>min</th>\n",
              "      <td>560.000000</td>\n",
              "      <td>34.00000</td>\n",
              "      <td>6.071429</td>\n",
              "    </tr>\n",
              "    <tr>\n",
              "      <th>25%</th>\n",
              "      <td>757.750000</td>\n",
              "      <td>202.75000</td>\n",
              "      <td>19.719174</td>\n",
              "    </tr>\n",
              "    <tr>\n",
              "      <th>50%</th>\n",
              "      <td>869.500000</td>\n",
              "      <td>276.50000</td>\n",
              "      <td>25.212617</td>\n",
              "    </tr>\n",
              "    <tr>\n",
              "      <th>75%</th>\n",
              "      <td>1008.000000</td>\n",
              "      <td>328.00000</td>\n",
              "      <td>38.402134</td>\n",
              "    </tr>\n",
              "    <tr>\n",
              "      <th>max</th>\n",
              "      <td>1505.000000</td>\n",
              "      <td>419.00000</td>\n",
              "      <td>55.332303</td>\n",
              "    </tr>\n",
              "  </tbody>\n",
              "</table>\n",
              "</div>"
            ],
            "text/plain": [
              "       Unique_users  New_users  Percent_new_users\n",
              "count     12.000000   12.00000          12.000000\n",
              "mean     914.583333  258.75000          29.320485\n",
              "std      267.173236  105.71241          14.859471\n",
              "min      560.000000   34.00000           6.071429\n",
              "25%      757.750000  202.75000          19.719174\n",
              "50%      869.500000  276.50000          25.212617\n",
              "75%     1008.000000  328.00000          38.402134\n",
              "max     1505.000000  419.00000          55.332303"
            ]
          },
          "metadata": {
            "tags": []
          },
          "execution_count": 36
        }
      ]
    },
    {
      "cell_type": "markdown",
      "metadata": {
        "id": "_Xsyj26iag8k"
      },
      "source": [
        "#### **Observations**\r\n",
        "- In the start of the year, **55%** of the users are new users.\r\n",
        "- The first three months of Q4 which generates more revenue to the business, has comparatively less new customers compared to Q1.\r\n",
        "- Customer Conversions in Q4 can be improved and new customers can be brought that way sales can be improved."
      ]
    },
    {
      "cell_type": "markdown",
      "metadata": {
        "id": "B760tGFhfTHy"
      },
      "source": [
        "## **Month-wise Average Order Value**"
      ]
    },
    {
      "cell_type": "code",
      "metadata": {
        "colab": {
          "base_uri": "https://localhost:8080/",
          "height": 414
        },
        "id": "EjpBCs0tIHl2",
        "outputId": "9b10cb14-611c-4139-9700-af72c94a8635"
      },
      "source": [
        "MAOV = (df_uk.groupby('Year_Month')['Total_Price'].sum()/df_uk.groupby('Year_Month')['InvoiceNo'].nunique()).to_frame()\r\n",
        "MAOV.columns = ['Avg_Order_Value']\r\n",
        "plt.figure(figsize=(15,5))\r\n",
        "plt.bar(MAOV.index,MAOV['Avg_Order_Value'], color = '#b80045')\r\n",
        "plt.ylabel('AOV')\r\n",
        "plt.xlabel('Month')\r\n",
        "plt.title(\"\\n Month-wise Average Order Value \\n\", size=25)\r\n",
        "plt.show()"
      ],
      "execution_count": 37,
      "outputs": [
        {
          "output_type": "display_data",
          "data": {
            "image/png": "[encoded data removed]",
            "text/plain": [
              "<Figure size 1080x360 with 1 Axes>"
            ]
          },
          "metadata": {
            "tags": [],
            "needs_background": "light"
          }
        }
      ]
    },
    {
      "cell_type": "code",
      "metadata": {
        "colab": {
          "base_uri": "https://localhost:8080/",
          "height": 297
        },
        "id": "j3GX3ElX1SA6",
        "outputId": "09d75923-685e-408a-ded6-656cdc177620"
      },
      "source": [
        "MAOV.describe()"
      ],
      "execution_count": 38,
      "outputs": [
        {
          "output_type": "execute_result",
          "data": {
            "text/html": [
              "<div>\n",
              "<style scoped>\n",
              "    .dataframe tbody tr th:only-of-type {\n",
              "        vertical-align: middle;\n",
              "    }\n",
              "\n",
              "    .dataframe tbody tr th {\n",
              "        vertical-align: top;\n",
              "    }\n",
              "\n",
              "    .dataframe thead th {\n",
              "        text-align: right;\n",
              "    }\n",
              "</style>\n",
              "<table border=\"1\" class=\"dataframe\">\n",
              "  <thead>\n",
              "    <tr style=\"text-align: right;\">\n",
              "      <th></th>\n",
              "      <th>Avg_Order_Value</th>\n",
              "    </tr>\n",
              "  </thead>\n",
              "  <tbody>\n",
              "    <tr>\n",
              "      <th>count</th>\n",
              "      <td>13.000000</td>\n",
              "    </tr>\n",
              "    <tr>\n",
              "      <th>mean</th>\n",
              "      <td>445.022709</td>\n",
              "    </tr>\n",
              "    <tr>\n",
              "      <th>std</th>\n",
              "      <td>79.963392</td>\n",
              "    </tr>\n",
              "    <tr>\n",
              "      <th>min</th>\n",
              "      <td>384.568040</td>\n",
              "    </tr>\n",
              "    <tr>\n",
              "      <th>25%</th>\n",
              "      <td>395.338016</td>\n",
              "    </tr>\n",
              "    <tr>\n",
              "      <th>50%</th>\n",
              "      <td>408.739057</td>\n",
              "    </tr>\n",
              "    <tr>\n",
              "      <th>75%</th>\n",
              "      <td>481.654035</td>\n",
              "    </tr>\n",
              "    <tr>\n",
              "      <th>max</th>\n",
              "      <td>667.679632</td>\n",
              "    </tr>\n",
              "  </tbody>\n",
              "</table>\n",
              "</div>"
            ],
            "text/plain": [
              "       Avg_Order_Value\n",
              "count        13.000000\n",
              "mean        445.022709\n",
              "std          79.963392\n",
              "min         384.568040\n",
              "25%         395.338016\n",
              "50%         408.739057\n",
              "75%         481.654035\n",
              "max         667.679632"
            ]
          },
          "metadata": {
            "tags": []
          },
          "execution_count": 38
        }
      ]
    },
    {
      "cell_type": "markdown",
      "metadata": {
        "id": "nGRR8xF4g22b"
      },
      "source": [
        "## **Observations**\r\n",
        "- During the month of **December** 2011, the average amount of money each customer spends per transaction is high which is about **667** units.\r\n",
        "-  A lower AOV usually indicates that the seller's customers prefer to make small purchases with each order.\r\n",
        "- AOV of November are lower because of busy sales periods, with the volume of orders brought down the average.\r\n",
        "- AOV has to be increased for a company to improve profits and revenue growth."
      ]
    },
    {
      "cell_type": "markdown",
      "metadata": {
        "id": "b5Bm0Zjjl2JA"
      },
      "source": [
        "## **Month-wise Average Basket size**"
      ]
    },
    {
      "cell_type": "code",
      "metadata": {
        "colab": {
          "base_uri": "https://localhost:8080/",
          "height": 414
        },
        "id": "I0u-h16-gR9C",
        "outputId": "54fabc41-7fa8-4307-ebe6-28d5738ea378"
      },
      "source": [
        "MABS = (df_uk[df_uk['Quantity']>0].groupby('Year_Month')['InvoiceNo'].count()/df_uk[df_uk['Quantity']>0].groupby('Year_Month')['InvoiceNo'].nunique()).to_frame()\r\n",
        "MABS.columns = ['Avg_Basket_Size']\r\n",
        "plt.figure(figsize=(15,5))\r\n",
        "plt.bar(MABS.index,MABS['Avg_Basket_Size'], color = '#b80045')\r\n",
        "plt.ylabel('ABS')\r\n",
        "plt.xlabel('Month')\r\n",
        "plt.title(\"\\n Month-wise Average Basket Size \\n\", size=25)\r\n",
        "plt.show()"
      ],
      "execution_count": 39,
      "outputs": [
        {
          "output_type": "display_data",
          "data": {
            "image/png": "[encoded data removed]",
            "text/plain": [
              "<Figure size 1080x360 with 1 Axes>"
            ]
          },
          "metadata": {
            "tags": [],
            "needs_background": "light"
          }
        }
      ]
    },
    {
      "cell_type": "code",
      "metadata": {
        "colab": {
          "base_uri": "https://localhost:8080/",
          "height": 297
        },
        "id": "otQDWu1o1LJO",
        "outputId": "03eee96c-5ab7-4078-f789-c8b1612dada8"
      },
      "source": [
        "MABS.describe()"
      ],
      "execution_count": 40,
      "outputs": [
        {
          "output_type": "execute_result",
          "data": {
            "text/html": [
              "<div>\n",
              "<style scoped>\n",
              "    .dataframe tbody tr th:only-of-type {\n",
              "        vertical-align: middle;\n",
              "    }\n",
              "\n",
              "    .dataframe tbody tr th {\n",
              "        vertical-align: top;\n",
              "    }\n",
              "\n",
              "    .dataframe thead th {\n",
              "        text-align: right;\n",
              "    }\n",
              "</style>\n",
              "<table border=\"1\" class=\"dataframe\">\n",
              "  <thead>\n",
              "    <tr style=\"text-align: right;\">\n",
              "      <th></th>\n",
              "      <th>Avg_Basket_Size</th>\n",
              "    </tr>\n",
              "  </thead>\n",
              "  <tbody>\n",
              "    <tr>\n",
              "      <th>count</th>\n",
              "      <td>13.000000</td>\n",
              "    </tr>\n",
              "    <tr>\n",
              "      <th>mean</th>\n",
              "      <td>20.609221</td>\n",
              "    </tr>\n",
              "    <tr>\n",
              "      <th>std</th>\n",
              "      <td>2.235288</td>\n",
              "    </tr>\n",
              "    <tr>\n",
              "      <th>min</th>\n",
              "      <td>17.789736</td>\n",
              "    </tr>\n",
              "    <tr>\n",
              "      <th>25%</th>\n",
              "      <td>19.466667</td>\n",
              "    </tr>\n",
              "    <tr>\n",
              "      <th>50%</th>\n",
              "      <td>20.145285</td>\n",
              "    </tr>\n",
              "    <tr>\n",
              "      <th>75%</th>\n",
              "      <td>21.987252</td>\n",
              "    </tr>\n",
              "    <tr>\n",
              "      <th>max</th>\n",
              "      <td>25.217009</td>\n",
              "    </tr>\n",
              "  </tbody>\n",
              "</table>\n",
              "</div>"
            ],
            "text/plain": [
              "       Avg_Basket_Size\n",
              "count        13.000000\n",
              "mean         20.609221\n",
              "std           2.235288\n",
              "min          17.789736\n",
              "25%          19.466667\n",
              "50%          20.145285\n",
              "75%          21.987252\n",
              "max          25.217009"
            ]
          },
          "metadata": {
            "tags": []
          },
          "execution_count": 40
        }
      ]
    },
    {
      "cell_type": "markdown",
      "metadata": {
        "id": "nakBeT5ipdVU"
      },
      "source": [
        "#### **Observations**\r\n",
        "- During last Quarter, the number of items getting sold in a single order is more compared to the rest.\r\n",
        "- The bigger the basket size on an individual customer the better for the business, thus high clearance which enhance turnover performance, profitability and customer shopping experience. "
      ]
    },
    {
      "cell_type": "markdown",
      "metadata": {
        "id": "TiWVASTzvg7N"
      },
      "source": [
        "## **Month-wise Average revenue per user**"
      ]
    },
    {
      "cell_type": "code",
      "metadata": {
        "colab": {
          "base_uri": "https://localhost:8080/",
          "height": 414
        },
        "id": "5zR2JMcmpO5C",
        "outputId": "66657238-6ec3-428c-db7f-6626ec6da4c2"
      },
      "source": [
        "ARPU = (df_uk.groupby('Year_Month')['Total_Price'].sum()/df_uk.groupby('Year_Month')['CustomerID'].nunique()).to_frame()\r\n",
        "ARPU.columns = ['Avg_revenue_per_user']\r\n",
        "plt.figure(figsize=(15,5))\r\n",
        "plt.bar(ARPU.index,ARPU['Avg_revenue_per_user'], color = '#b80045')\r\n",
        "plt.ylabel('ARPU')\r\n",
        "plt.xlabel('Month')\r\n",
        "plt.title(\"\\n Month-wise Average Revenue Per user \\n\", size=25)\r\n",
        "plt.show()"
      ],
      "execution_count": 41,
      "outputs": [
        {
          "output_type": "display_data",
          "data": {
            "image/png": "[encoded data removed]",
            "text/plain": [
              "<Figure size 1080x360 with 1 Axes>"
            ]
          },
          "metadata": {
            "tags": [],
            "needs_background": "light"
          }
        }
      ]
    },
    {
      "cell_type": "code",
      "metadata": {
        "colab": {
          "base_uri": "https://localhost:8080/",
          "height": 297
        },
        "id": "BkwaFyam1Gd9",
        "outputId": "34b444e3-87e2-4393-a9b7-65c78281df83"
      },
      "source": [
        "ARPU.describe()"
      ],
      "execution_count": 42,
      "outputs": [
        {
          "output_type": "execute_result",
          "data": {
            "text/html": [
              "<div>\n",
              "<style scoped>\n",
              "    .dataframe tbody tr th:only-of-type {\n",
              "        vertical-align: middle;\n",
              "    }\n",
              "\n",
              "    .dataframe tbody tr th {\n",
              "        vertical-align: top;\n",
              "    }\n",
              "\n",
              "    .dataframe thead th {\n",
              "        text-align: right;\n",
              "    }\n",
              "</style>\n",
              "<table border=\"1\" class=\"dataframe\">\n",
              "  <thead>\n",
              "    <tr style=\"text-align: right;\">\n",
              "      <th></th>\n",
              "      <th>Avg_revenue_per_user</th>\n",
              "    </tr>\n",
              "  </thead>\n",
              "  <tbody>\n",
              "    <tr>\n",
              "      <th>count</th>\n",
              "      <td>13.000000</td>\n",
              "    </tr>\n",
              "    <tr>\n",
              "      <th>mean</th>\n",
              "      <td>618.152218</td>\n",
              "    </tr>\n",
              "    <tr>\n",
              "      <th>std</th>\n",
              "      <td>89.413019</td>\n",
              "    </tr>\n",
              "    <tr>\n",
              "      <th>min</th>\n",
              "      <td>521.343254</td>\n",
              "    </tr>\n",
              "    <tr>\n",
              "      <th>25%</th>\n",
              "      <td>564.081014</td>\n",
              "    </tr>\n",
              "    <tr>\n",
              "      <th>50%</th>\n",
              "      <td>596.156966</td>\n",
              "    </tr>\n",
              "    <tr>\n",
              "      <th>75%</th>\n",
              "      <td>667.658642</td>\n",
              "    </tr>\n",
              "    <tr>\n",
              "      <th>max</th>\n",
              "      <td>841.753250</td>\n",
              "    </tr>\n",
              "  </tbody>\n",
              "</table>\n",
              "</div>"
            ],
            "text/plain": [
              "       Avg_revenue_per_user\n",
              "count             13.000000\n",
              "mean             618.152218\n",
              "std               89.413019\n",
              "min              521.343254\n",
              "25%              564.081014\n",
              "50%              596.156966\n",
              "75%              667.658642\n",
              "max              841.753250"
            ]
          },
          "metadata": {
            "tags": []
          },
          "execution_count": 42
        }
      ]
    },
    {
      "cell_type": "markdown",
      "metadata": {
        "id": "c3J-jCVew6qQ"
      },
      "source": [
        "#### **Observations**\r\n",
        "- ARPU average revenue received per user over a month . \r\n",
        "- High ARPU suggests that the company has a product that's driving a better value ratio.\r\n",
        "- During the month of December the ARPU is high with 841 units."
      ]
    },
    {
      "cell_type": "markdown",
      "metadata": {
        "id": "qi3Ni6QLuaYD"
      },
      "source": [
        "## **Monthly Retention Rate**"
      ]
    },
    {
      "cell_type": "code",
      "metadata": {
        "id": "hW3HI3awv01Q"
      },
      "source": [
        "def monthly_retained_users():\r\n",
        "  last = pd.DataFrame(df_uk[df_uk['Year_Month'] == '2010-12']['CustomerID'].unique(),columns=['cust_id'])\r\n",
        "  l = [0]\r\n",
        "  for i in df_uk[df_uk['Year_Month'] > '2010-12'].Year_Month.unique():\r\n",
        "    dummy = pd.DataFrame(df_uk[df_uk['Year_Month'] == i]['CustomerID'].unique(),columns=['cust_id'])\r\n",
        "    l.append(len(set(dummy['cust_id']).intersection(set(last['cust_id']))))\r\n",
        "    last = dummy\r\n",
        "  return l"
      ],
      "execution_count": 43,
      "outputs": []
    },
    {
      "cell_type": "code",
      "metadata": {
        "colab": {
          "base_uri": "https://localhost:8080/",
          "height": 414
        },
        "id": "b5QD6XDZukPt",
        "outputId": "1684d6b5-8508-4ebb-8ebf-0ecb92c85008"
      },
      "source": [
        "MRR = monthly_unique.to_frame()\r\n",
        "MRR.columns = ['Unique_users']\r\n",
        "MRR['Retained_users'] = monthly_retained_users()\r\n",
        "# dropping 2010-12 as it doesn't have previous month's data to find retained users\r\n",
        "MRR = MRR.drop(MRR.index[0])\r\n",
        "# Percentage of retained users who made purchase previous month\r\n",
        "MRR['Percent_new_users'] = (MRR['Retained_users']/MRR['Unique_users'])*100\r\n",
        "plt.figure(figsize=(15,5))\r\n",
        "plt.bar(MRR.index,MRR['Percent_new_users'], color = '#b80045')\r\n",
        "plt.ylabel('% New Users')\r\n",
        "plt.xlabel('Month')\r\n",
        "plt.title(\"\\n Month-wise % of Retained users \\n\", size=25)\r\n",
        "plt.show()"
      ],
      "execution_count": 44,
      "outputs": [
        {
          "output_type": "display_data",
          "data": {
            "image/png": "[encoded data removed]",
            "text/plain": [
              "<Figure size 1080x360 with 1 Axes>"
            ]
          },
          "metadata": {
            "tags": [],
            "needs_background": "light"
          }
        }
      ]
    },
    {
      "cell_type": "code",
      "metadata": {
        "colab": {
          "base_uri": "https://localhost:8080/",
          "height": 297
        },
        "id": "bOvfGs-PyqO0",
        "outputId": "f9acc88f-16e3-487b-9dac-4036fe651af4"
      },
      "source": [
        "MRR.describe()"
      ],
      "execution_count": 45,
      "outputs": [
        {
          "output_type": "execute_result",
          "data": {
            "text/html": [
              "<div>\n",
              "<style scoped>\n",
              "    .dataframe tbody tr th:only-of-type {\n",
              "        vertical-align: middle;\n",
              "    }\n",
              "\n",
              "    .dataframe tbody tr th {\n",
              "        vertical-align: top;\n",
              "    }\n",
              "\n",
              "    .dataframe thead th {\n",
              "        text-align: right;\n",
              "    }\n",
              "</style>\n",
              "<table border=\"1\" class=\"dataframe\">\n",
              "  <thead>\n",
              "    <tr style=\"text-align: right;\">\n",
              "      <th></th>\n",
              "      <th>Unique_users</th>\n",
              "      <th>Retained_users</th>\n",
              "      <th>Percent_new_users</th>\n",
              "    </tr>\n",
              "  </thead>\n",
              "  <tbody>\n",
              "    <tr>\n",
              "      <th>count</th>\n",
              "      <td>12.000000</td>\n",
              "      <td>12.000000</td>\n",
              "      <td>12.000000</td>\n",
              "    </tr>\n",
              "    <tr>\n",
              "      <th>mean</th>\n",
              "      <td>914.583333</td>\n",
              "      <td>348.000000</td>\n",
              "      <td>39.074670</td>\n",
              "    </tr>\n",
              "    <tr>\n",
              "      <th>std</th>\n",
              "      <td>267.173236</td>\n",
              "      <td>87.991735</td>\n",
              "      <td>8.149153</td>\n",
              "    </tr>\n",
              "    <tr>\n",
              "      <th>min</th>\n",
              "      <td>560.000000</td>\n",
              "      <td>233.000000</td>\n",
              "      <td>28.863636</td>\n",
              "    </tr>\n",
              "    <tr>\n",
              "      <th>25%</th>\n",
              "      <td>757.750000</td>\n",
              "      <td>285.250000</td>\n",
              "      <td>34.790527</td>\n",
              "    </tr>\n",
              "    <tr>\n",
              "      <th>50%</th>\n",
              "      <td>869.500000</td>\n",
              "      <td>341.000000</td>\n",
              "      <td>36.494747</td>\n",
              "    </tr>\n",
              "    <tr>\n",
              "      <th>75%</th>\n",
              "      <td>1008.000000</td>\n",
              "      <td>373.000000</td>\n",
              "      <td>41.657630</td>\n",
              "    </tr>\n",
              "    <tr>\n",
              "      <th>max</th>\n",
              "      <td>1505.000000</td>\n",
              "      <td>554.000000</td>\n",
              "      <td>61.071429</td>\n",
              "    </tr>\n",
              "  </tbody>\n",
              "</table>\n",
              "</div>"
            ],
            "text/plain": [
              "       Unique_users  Retained_users  Percent_new_users\n",
              "count     12.000000       12.000000          12.000000\n",
              "mean     914.583333      348.000000          39.074670\n",
              "std      267.173236       87.991735           8.149153\n",
              "min      560.000000      233.000000          28.863636\n",
              "25%      757.750000      285.250000          34.790527\n",
              "50%      869.500000      341.000000          36.494747\n",
              "75%     1008.000000      373.000000          41.657630\n",
              "max     1505.000000      554.000000          61.071429"
            ]
          },
          "metadata": {
            "tags": []
          },
          "execution_count": 45
        }
      ]
    },
    {
      "cell_type": "markdown",
      "metadata": {
        "id": "Y7xbPFW-ukxC"
      },
      "source": [
        "## **Observations**\r\n",
        "\r\n",
        "- Retention rate should be monitored very closely because it indicates how sticky is your service and how well your product fits the market. For understanding, Monthly Retention Rate, we need to calculate how many customers retained from previous month.\r\n",
        "\r\n",
        "- Every month, there are more than 233 customers who are retained from previous month. **61%** of customers are retained in the month of December.\r\n",
        "\r\n",
        "- In the month of November, the customer retention is less than December, yet high sales is because of many new customers."
      ]
    },
    {
      "cell_type": "markdown",
      "metadata": {
        "id": "RX4kKIBmfg6Q"
      },
      "source": [
        "## **Pareto Principle**\r\n",
        "- The **Pareto Principle (the 80/20 rule)** that tells **80% of effects come from 20% of causes**. This principle can be applied universally to almost any situation where there is an uneven distribution. We use here to identify that top 20% of customers and focus the marketing on that market segment.\r\n",
        "\r\n",
        "- There doesn’t have to be an actual 80-20 split in the distribution. The main idea behind the principle is just to recognize that a small number of cases produce a large percentage of the effect."
      ]
    },
    {
      "cell_type": "code",
      "metadata": {
        "colab": {
          "base_uri": "https://localhost:8080/"
        },
        "id": "plZS3n9TYzhY",
        "outputId": "0fca77e4-7244-4758-871c-cd72db753fd7"
      },
      "source": [
        "#The 80% of the revenue\r\n",
        "_80_percent_revenue = df_uk['Total_Price'].sum()*0.8\r\n",
        "print('80% of Total Revenue is',_80_percent_revenue)"
      ],
      "execution_count": 46,
      "outputs": [
        {
          "output_type": "stream",
          "text": [
            "80% of Total Revenue is 5828019.7151999995\n"
          ],
          "name": "stdout"
        }
      ]
    },
    {
      "cell_type": "code",
      "metadata": {
        "colab": {
          "base_uri": "https://localhost:8080/",
          "height": 419
        },
        "id": "mTiDdkOPdFDq",
        "outputId": "57413ae8-d83f-49de-c2bc-7c326cedfe04"
      },
      "source": [
        "# Total Revenue per Customer \r\n",
        "Revenue_per_customer = df_uk.groupby('CustomerID')['Total_Price'].sum().sort_values(ascending=False).reset_index()\r\n",
        "Revenue_per_customer"
      ],
      "execution_count": 47,
      "outputs": [
        {
          "output_type": "execute_result",
          "data": {
            "text/html": [
              "<div>\n",
              "<style scoped>\n",
              "    .dataframe tbody tr th:only-of-type {\n",
              "        vertical-align: middle;\n",
              "    }\n",
              "\n",
              "    .dataframe tbody tr th {\n",
              "        vertical-align: top;\n",
              "    }\n",
              "\n",
              "    .dataframe thead th {\n",
              "        text-align: right;\n",
              "    }\n",
              "</style>\n",
              "<table border=\"1\" class=\"dataframe\">\n",
              "  <thead>\n",
              "    <tr style=\"text-align: right;\">\n",
              "      <th></th>\n",
              "      <th>CustomerID</th>\n",
              "      <th>Total_Price</th>\n",
              "    </tr>\n",
              "  </thead>\n",
              "  <tbody>\n",
              "    <tr>\n",
              "      <th>0</th>\n",
              "      <td>18102</td>\n",
              "      <td>259657.30</td>\n",
              "    </tr>\n",
              "    <tr>\n",
              "      <th>1</th>\n",
              "      <td>17450</td>\n",
              "      <td>194390.79</td>\n",
              "    </tr>\n",
              "    <tr>\n",
              "      <th>2</th>\n",
              "      <td>16446</td>\n",
              "      <td>168472.50</td>\n",
              "    </tr>\n",
              "    <tr>\n",
              "      <th>3</th>\n",
              "      <td>17511</td>\n",
              "      <td>91062.38</td>\n",
              "    </tr>\n",
              "    <tr>\n",
              "      <th>4</th>\n",
              "      <td>16029</td>\n",
              "      <td>80850.84</td>\n",
              "    </tr>\n",
              "    <tr>\n",
              "      <th>...</th>\n",
              "      <td>...</td>\n",
              "      <td>...</td>\n",
              "    </tr>\n",
              "    <tr>\n",
              "      <th>3915</th>\n",
              "      <td>16878</td>\n",
              "      <td>13.30</td>\n",
              "    </tr>\n",
              "    <tr>\n",
              "      <th>3916</th>\n",
              "      <td>17956</td>\n",
              "      <td>12.75</td>\n",
              "    </tr>\n",
              "    <tr>\n",
              "      <th>3917</th>\n",
              "      <td>16454</td>\n",
              "      <td>6.90</td>\n",
              "    </tr>\n",
              "    <tr>\n",
              "      <th>3918</th>\n",
              "      <td>14792</td>\n",
              "      <td>6.20</td>\n",
              "    </tr>\n",
              "    <tr>\n",
              "      <th>3919</th>\n",
              "      <td>16738</td>\n",
              "      <td>3.75</td>\n",
              "    </tr>\n",
              "  </tbody>\n",
              "</table>\n",
              "<p>3920 rows × 2 columns</p>\n",
              "</div>"
            ],
            "text/plain": [
              "      CustomerID  Total_Price\n",
              "0          18102    259657.30\n",
              "1          17450    194390.79\n",
              "2          16446    168472.50\n",
              "3          17511     91062.38\n",
              "4          16029     80850.84\n",
              "...          ...          ...\n",
              "3915       16878        13.30\n",
              "3916       17956        12.75\n",
              "3917       16454         6.90\n",
              "3918       14792         6.20\n",
              "3919       16738         3.75\n",
              "\n",
              "[3920 rows x 2 columns]"
            ]
          },
          "metadata": {
            "tags": []
          },
          "execution_count": 47
        }
      ]
    },
    {
      "cell_type": "code",
      "metadata": {
        "colab": {
          "base_uri": "https://localhost:8080/"
        },
        "id": "MJhjKAaAnQJ7",
        "outputId": "bf440041-53fc-49f3-ff25-6cab82d90819"
      },
      "source": [
        "# Filter top 20% of the customers and \r\n",
        "print('Revenue Generated by top 20 customers is',Revenue_per_customer.head(round(3920*0.2))['Total_Price'].sum())"
      ],
      "execution_count": 48,
      "outputs": [
        {
          "output_type": "stream",
          "text": [
            "Revenue Generated by top 20 customers is 5345220.561\n"
          ],
          "name": "stdout"
        }
      ]
    },
    {
      "cell_type": "markdown",
      "metadata": {
        "id": "t8kFrOWTojNI"
      },
      "source": [
        "## **Observations**\r\n",
        "- As said, there is no actual 80-20 split as expected, yet, the top 20% of the customers generate a revenue is somewhat close to the 80% of the total Revenue."
      ]
    },
    {
      "cell_type": "markdown",
      "metadata": {
        "id": "4Qa_c6nkq467"
      },
      "source": [
        "## **Modelling perspective**\r\n",
        "\r\n",
        "- Further, the principle of Pareto can be applied to RFM segmentation which says that 80% of total results are driven by the top 20% causes. When applied to marketing, it means that 80% of your total sales are likely to come from your top 20% of users. Customers who spent once are more likely to spend again, Customers who make big ticket purchases are more likely to repeat them and provide personalised marketing strategies. Also, these customers are highly critical for business performance, so retention should be focused.\r\n",
        "\r\n",
        "- By segmenting customers and identifying the critical customers is likely to give you much higher return on investment. "
      ]
    }
  ]
}